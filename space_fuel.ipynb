{
  "nbformat": 4,
  "nbformat_minor": 0,
  "metadata": {
    "colab": {
      "name": "space_fuel",
      "provenance": [],
      "collapsed_sections": [],
      "toc_visible": true,
      "authorship_tag": "ABX9TyMGOdZdyqHyz/DS/mEqF0r1",
      "include_colab_link": true
    },
    "kernelspec": {
      "name": "python3",
      "display_name": "Python 3"
    },
    "language_info": {
      "name": "python"
    }
  },
  "cells": [
    {
      "cell_type": "markdown",
      "metadata": {
        "id": "view-in-github",
        "colab_type": "text"
      },
      "source": [
        "<a href=\"https://colab.research.google.com/github/sasha110110/future_fuel/blob/main/space_fuel.ipynb\" target=\"_parent\"><img src=\"https://colab.research.google.com/assets/colab-badge.svg\" alt=\"Open In Colab\"/></a>"
      ]
    },
    {
      "cell_type": "markdown",
      "metadata": {
        "id": "DRNzUODF5eOw"
      },
      "source": [
        "## Загружаем данные"
      ]
    },
    {
      "cell_type": "code",
      "metadata": {
        "id": "2-hQDM6tXoE6"
      },
      "source": [
        "from google.colab import files\n",
        "import pandas as pd"
      ],
      "execution_count": 2,
      "outputs": []
    },
    {
      "cell_type": "code",
      "metadata": {
        "id": "0BG06w02fG5E"
      },
      "source": [
        "df = pd.read_parquet('/content/transactions.parquet')\n",
        "#df.to_csv('transactions.csv')"
      ],
      "execution_count": 3,
      "outputs": []
    },
    {
      "cell_type": "code",
      "metadata": {
        "id": "SN37JLiFh_xi"
      },
      "source": [
        "df_nomenclature = pd.read_parquet('/content/nomenclature.parquet')"
      ],
      "execution_count": 4,
      "outputs": []
    },
    {
      "cell_type": "code",
      "metadata": {
        "id": "1KzqzNEpvQbx"
      },
      "source": [
        "df_for_submission = pd.read_parquet('/content/transactions-for_submission.parquet')\n",
        "#df.to_csv('transactions_for_submission.csv')"
      ],
      "execution_count": 5,
      "outputs": []
    },
    {
      "cell_type": "markdown",
      "metadata": {
        "id": "uig97EptIQEt"
      },
      "source": [
        "## for submission"
      ]
    },
    {
      "cell_type": "code",
      "metadata": {
        "colab": {
          "base_uri": "https://localhost:8080/"
        },
        "id": "XDrDMIh4jnkq",
        "outputId": "fad0b48f-e798-48a7-cd21-7d5a61fc20d5"
      },
      "source": [
        "df_for_submission.shape"
      ],
      "execution_count": 6,
      "outputs": [
        {
          "output_type": "execute_result",
          "data": {
            "text/plain": [
              "(554730, 8)"
            ]
          },
          "metadata": {},
          "execution_count": 6
        }
      ]
    },
    {
      "cell_type": "code",
      "metadata": {
        "colab": {
          "base_uri": "https://localhost:8080/",
          "height": 204
        },
        "id": "bdfKSpXhjq4K",
        "outputId": "dd1550a7-2765-4751-8e86-407f4e7bed60"
      },
      "source": [
        "df_for_submission.head(5)"
      ],
      "execution_count": null,
      "outputs": [
        {
          "output_type": "execute_result",
          "data": {
            "text/html": [
              "<div>\n",
              "<style scoped>\n",
              "    .dataframe tbody tr th:only-of-type {\n",
              "        vertical-align: middle;\n",
              "    }\n",
              "\n",
              "    .dataframe tbody tr th {\n",
              "        vertical-align: top;\n",
              "    }\n",
              "\n",
              "    .dataframe thead th {\n",
              "        text-align: right;\n",
              "    }\n",
              "</style>\n",
              "<table border=\"1\" class=\"dataframe\">\n",
              "  <thead>\n",
              "    <tr style=\"text-align: right;\">\n",
              "      <th></th>\n",
              "      <th>sku_id</th>\n",
              "      <th>price</th>\n",
              "      <th>number</th>\n",
              "      <th>cheque_id</th>\n",
              "      <th>litrs</th>\n",
              "      <th>client_id</th>\n",
              "      <th>shop_id</th>\n",
              "      <th>date</th>\n",
              "    </tr>\n",
              "  </thead>\n",
              "  <tbody>\n",
              "    <tr>\n",
              "      <th>0</th>\n",
              "      <td>1158</td>\n",
              "      <td>0.002304</td>\n",
              "      <td>0.000000</td>\n",
              "      <td>734259</td>\n",
              "      <td>0.142106</td>\n",
              "      <td>223748.0</td>\n",
              "      <td>42</td>\n",
              "      <td>2171-08-01 09:00:00</td>\n",
              "    </tr>\n",
              "    <tr>\n",
              "      <th>1</th>\n",
              "      <td>555</td>\n",
              "      <td>0.009133</td>\n",
              "      <td>0.000452</td>\n",
              "      <td>734260</td>\n",
              "      <td>0.104183</td>\n",
              "      <td>NaN</td>\n",
              "      <td>42</td>\n",
              "      <td>2171-08-01 09:00:00</td>\n",
              "    </tr>\n",
              "    <tr>\n",
              "      <th>2</th>\n",
              "      <td>555</td>\n",
              "      <td>0.009133</td>\n",
              "      <td>0.000452</td>\n",
              "      <td>734260</td>\n",
              "      <td>0.104183</td>\n",
              "      <td>NaN</td>\n",
              "      <td>42</td>\n",
              "      <td>2171-08-01 09:00:00</td>\n",
              "    </tr>\n",
              "    <tr>\n",
              "      <th>3</th>\n",
              "      <td>1158</td>\n",
              "      <td>0.002304</td>\n",
              "      <td>0.000000</td>\n",
              "      <td>734264</td>\n",
              "      <td>0.138006</td>\n",
              "      <td>NaN</td>\n",
              "      <td>42</td>\n",
              "      <td>2171-08-01 09:00:00</td>\n",
              "    </tr>\n",
              "    <tr>\n",
              "      <th>4</th>\n",
              "      <td>1534</td>\n",
              "      <td>0.002822</td>\n",
              "      <td>0.000452</td>\n",
              "      <td>734266</td>\n",
              "      <td>0.104183</td>\n",
              "      <td>NaN</td>\n",
              "      <td>42</td>\n",
              "      <td>2171-08-01 09:00:00</td>\n",
              "    </tr>\n",
              "  </tbody>\n",
              "</table>\n",
              "</div>"
            ],
            "text/plain": [
              "   sku_id     price    number  ...  client_id  shop_id                date\n",
              "0    1158  0.002304  0.000000  ...   223748.0       42 2171-08-01 09:00:00\n",
              "1     555  0.009133  0.000452  ...        NaN       42 2171-08-01 09:00:00\n",
              "2     555  0.009133  0.000452  ...        NaN       42 2171-08-01 09:00:00\n",
              "3    1158  0.002304  0.000000  ...        NaN       42 2171-08-01 09:00:00\n",
              "4    1534  0.002822  0.000452  ...        NaN       42 2171-08-01 09:00:00\n",
              "\n",
              "[5 rows x 8 columns]"
            ]
          },
          "metadata": {},
          "execution_count": 109
        }
      ]
    },
    {
      "cell_type": "code",
      "metadata": {
        "colab": {
          "base_uri": "https://localhost:8080/"
        },
        "id": "5H9YiukKj3mp",
        "outputId": "e0fd8501-99d3-451f-d0ad-d811ab137e76"
      },
      "source": [
        "len(df_for_submission[\"cheque_id\"].unique())"
      ],
      "execution_count": 8,
      "outputs": [
        {
          "output_type": "execute_result",
          "data": {
            "text/plain": [
              "315228"
            ]
          },
          "metadata": {},
          "execution_count": 8
        }
      ]
    },
    {
      "cell_type": "code",
      "metadata": {
        "id": "E5X-ArTooqBd",
        "colab": {
          "base_uri": "https://localhost:8080/",
          "height": 163
        },
        "outputId": "d102f99d-3256-4ced-96ef-30cfb0e80686"
      },
      "source": [
        "submission_df=(cheque_id, sku_id, position)"
      ],
      "execution_count": 7,
      "outputs": [
        {
          "output_type": "error",
          "ename": "NameError",
          "evalue": "ignored",
          "traceback": [
            "\u001b[0;31m---------------------------------------------------------------------------\u001b[0m",
            "\u001b[0;31mNameError\u001b[0m                                 Traceback (most recent call last)",
            "\u001b[0;32m<ipython-input-7-ce1b579e7926>\u001b[0m in \u001b[0;36m<module>\u001b[0;34m()\u001b[0m\n\u001b[0;32m----> 1\u001b[0;31m \u001b[0msubmission_df\u001b[0m\u001b[0;34m=\u001b[0m\u001b[0;34m(\u001b[0m\u001b[0mcheque_id\u001b[0m\u001b[0;34m,\u001b[0m \u001b[0msku_id\u001b[0m\u001b[0;34m,\u001b[0m \u001b[0mposition\u001b[0m\u001b[0;34m)\u001b[0m\u001b[0;34m\u001b[0m\u001b[0;34m\u001b[0m\u001b[0m\n\u001b[0m",
            "\u001b[0;31mNameError\u001b[0m: name 'cheque_id' is not defined"
          ]
        }
      ]
    },
    {
      "cell_type": "code",
      "metadata": {
        "id": "Z3raEUppxtqI"
      },
      "source": [
        "from collections import defaultdict"
      ],
      "execution_count": 9,
      "outputs": []
    },
    {
      "cell_type": "code",
      "metadata": {
        "id": "zRyqPylE0Oii"
      },
      "source": [
        "def items_in_one(dataframe_column1, dataframe_column2):\n",
        "  \"\"\"returns dict for cheques items\"\"\"\n",
        "  zip_list=list(zip(dataframe_column1.values, dataframe_column2.values))\n",
        "  d=defaultdict(list)\n",
        "  for c, i in zip_list:\n",
        "    d[c].append(i)\n",
        "  return d"
      ],
      "execution_count": 10,
      "outputs": []
    },
    {
      "cell_type": "code",
      "metadata": {
        "colab": {
          "base_uri": "https://localhost:8080/"
        },
        "id": "zZhQM37q8Phz",
        "outputId": "d141e16c-2f87-4602-bfed-c6dbe25e305f"
      },
      "source": [
        "df_for_submission.isnull().count()"
      ],
      "execution_count": null,
      "outputs": [
        {
          "output_type": "execute_result",
          "data": {
            "text/plain": [
              "sku_id       554730\n",
              "price        554730\n",
              "number       554730\n",
              "cheque_id    554730\n",
              "litrs        554730\n",
              "client_id    554730\n",
              "shop_id      554730\n",
              "date         554730\n",
              "dtype: int64"
            ]
          },
          "metadata": {},
          "execution_count": 13
        }
      ]
    },
    {
      "cell_type": "code",
      "metadata": {
        "colab": {
          "base_uri": "https://localhost:8080/",
          "height": 111
        },
        "id": "bdKeOI7g8f5r",
        "outputId": "58e6c2ae-80af-4774-8d64-cfb57f160a01"
      },
      "source": [
        "df_for_submission.head(2)"
      ],
      "execution_count": 11,
      "outputs": [
        {
          "output_type": "execute_result",
          "data": {
            "text/html": [
              "<div>\n",
              "<style scoped>\n",
              "    .dataframe tbody tr th:only-of-type {\n",
              "        vertical-align: middle;\n",
              "    }\n",
              "\n",
              "    .dataframe tbody tr th {\n",
              "        vertical-align: top;\n",
              "    }\n",
              "\n",
              "    .dataframe thead th {\n",
              "        text-align: right;\n",
              "    }\n",
              "</style>\n",
              "<table border=\"1\" class=\"dataframe\">\n",
              "  <thead>\n",
              "    <tr style=\"text-align: right;\">\n",
              "      <th></th>\n",
              "      <th>sku_id</th>\n",
              "      <th>price</th>\n",
              "      <th>number</th>\n",
              "      <th>cheque_id</th>\n",
              "      <th>litrs</th>\n",
              "      <th>client_id</th>\n",
              "      <th>shop_id</th>\n",
              "      <th>date</th>\n",
              "    </tr>\n",
              "  </thead>\n",
              "  <tbody>\n",
              "    <tr>\n",
              "      <th>0</th>\n",
              "      <td>1158</td>\n",
              "      <td>0.002304</td>\n",
              "      <td>0.000000</td>\n",
              "      <td>734259</td>\n",
              "      <td>0.142106</td>\n",
              "      <td>223748.0</td>\n",
              "      <td>42</td>\n",
              "      <td>2171-08-01 09:00:00</td>\n",
              "    </tr>\n",
              "    <tr>\n",
              "      <th>1</th>\n",
              "      <td>555</td>\n",
              "      <td>0.009133</td>\n",
              "      <td>0.000452</td>\n",
              "      <td>734260</td>\n",
              "      <td>0.104183</td>\n",
              "      <td>NaN</td>\n",
              "      <td>42</td>\n",
              "      <td>2171-08-01 09:00:00</td>\n",
              "    </tr>\n",
              "  </tbody>\n",
              "</table>\n",
              "</div>"
            ],
            "text/plain": [
              "   sku_id     price    number  ...  client_id  shop_id                date\n",
              "0    1158  0.002304  0.000000  ...   223748.0       42 2171-08-01 09:00:00\n",
              "1     555  0.009133  0.000452  ...        NaN       42 2171-08-01 09:00:00\n",
              "\n",
              "[2 rows x 8 columns]"
            ]
          },
          "metadata": {},
          "execution_count": 11
        }
      ]
    },
    {
      "cell_type": "code",
      "metadata": {
        "id": "XrS7v8oZro8x"
      },
      "source": [
        "submission_items_in_cheque=items_in_one(df_for_submission[\"cheque_id\"], df_for_submission[\"sku_id\"])"
      ],
      "execution_count": 12,
      "outputs": []
    },
    {
      "cell_type": "code",
      "metadata": {
        "colab": {
          "base_uri": "https://localhost:8080/"
        },
        "id": "yrPNA_-ysnnq",
        "outputId": "e08f75ce-4907-4ddf-bc38-3f82e1223476"
      },
      "source": [
        "len(submission_items_in_cheque)"
      ],
      "execution_count": null,
      "outputs": [
        {
          "output_type": "execute_result",
          "data": {
            "text/plain": [
              "315228"
            ]
          },
          "metadata": {},
          "execution_count": 114
        }
      ]
    },
    {
      "cell_type": "code",
      "metadata": {
        "colab": {
          "base_uri": "https://localhost:8080/"
        },
        "id": "s2sV5rkQccfL",
        "outputId": "a79b9de4-aa1f-4838-e1b3-9a7313b4d502"
      },
      "source": [
        "list(submission_items_in_cheque.values())[0]"
      ],
      "execution_count": null,
      "outputs": [
        {
          "output_type": "execute_result",
          "data": {
            "text/plain": [
              "[1158]"
            ]
          },
          "metadata": {},
          "execution_count": 115
        }
      ]
    },
    {
      "cell_type": "code",
      "metadata": {
        "id": "rBK69_rb_hD_"
      },
      "source": [
        "assert len(submission_items_in_cheque)==len(df_for_submission[\"cheque_id\"].unique())"
      ],
      "execution_count": null,
      "outputs": []
    },
    {
      "cell_type": "markdown",
      "metadata": {
        "id": "JAca9NoPNlvR"
      },
      "source": [
        "## Основные данные"
      ]
    },
    {
      "cell_type": "code",
      "metadata": {
        "colab": {
          "base_uri": "https://localhost:8080/"
        },
        "id": "kJMQiZH36cF3",
        "outputId": "4c4245f5-87e1-4e79-dda5-579af624232b"
      },
      "source": [
        "df.shape"
      ],
      "execution_count": null,
      "outputs": [
        {
          "output_type": "execute_result",
          "data": {
            "text/plain": [
              "(7620119, 8)"
            ]
          },
          "metadata": {},
          "execution_count": 21
        }
      ]
    },
    {
      "cell_type": "code",
      "metadata": {
        "colab": {
          "base_uri": "https://localhost:8080/"
        },
        "id": "BzG5aeLh-xRq",
        "outputId": "e53ae8cc-abeb-4871-e3d5-e3dc8d182239"
      },
      "source": [
        "df.isnull().sum(axis = 0)"
      ],
      "execution_count": null,
      "outputs": [
        {
          "output_type": "execute_result",
          "data": {
            "text/plain": [
              "sku_id             0\n",
              "price              0\n",
              "number             0\n",
              "cheque_id          0\n",
              "litrs              0\n",
              "client_id    3772355\n",
              "shop_id            0\n",
              "date               0\n",
              "dtype: int64"
            ]
          },
          "metadata": {},
          "execution_count": 13
        }
      ]
    },
    {
      "cell_type": "code",
      "metadata": {
        "id": "eDXay0ibN_BA"
      },
      "source": [
        ""
      ],
      "execution_count": null,
      "outputs": []
    },
    {
      "cell_type": "markdown",
      "metadata": {
        "id": "BGzddvHlN_9x"
      },
      "source": [
        "Количество некоторых товарров равно 0, может, это счетчие немного сбоит, ведь категории есть в чеке. Может, их исключить из рассмотрения? или оставим"
      ]
    },
    {
      "cell_type": "markdown",
      "metadata": {
        "id": "gCnBc6DbypnY"
      },
      "source": [
        "Посмотрим на некоторые данные"
      ]
    },
    {
      "cell_type": "code",
      "metadata": {
        "id": "phdPEIcR5LYb",
        "colab": {
          "base_uri": "https://localhost:8080/"
        },
        "outputId": "0ba2022b-9e43-407a-b3e7-2c120ef536d8"
      },
      "source": [
        "len(df[df[\"number\"]==0.000000])"
      ],
      "execution_count": null,
      "outputs": [
        {
          "output_type": "execute_result",
          "data": {
            "text/plain": [
              "1825416"
            ]
          },
          "metadata": {},
          "execution_count": 11
        }
      ]
    },
    {
      "cell_type": "code",
      "metadata": {
        "colab": {
          "base_uri": "https://localhost:8080/",
          "height": 293
        },
        "id": "7EkgHA9ZDrYg",
        "outputId": "f8dd6bfd-cca8-405d-d950-5a1c977144b7"
      },
      "source": [
        "df.litrs.value_counts().plot()"
      ],
      "execution_count": null,
      "outputs": [
        {
          "output_type": "execute_result",
          "data": {
            "text/plain": [
              "<matplotlib.axes._subplots.AxesSubplot at 0x7f09790d3590>"
            ]
          },
          "metadata": {},
          "execution_count": 12
        },
        {
          "output_type": "display_data",
          "data": {
            "image/png": "[encoded data removed]",
            "text/plain": [
              "<Figure size 432x288 with 1 Axes>"
            ]
          },
          "metadata": {
            "needs_background": "light"
          }
        }
      ]
    },
    {
      "cell_type": "code",
      "metadata": {
        "colab": {
          "base_uri": "https://localhost:8080/"
        },
        "id": "-YUkr03_AX4y",
        "outputId": "a3bc78ba-255a-4c2a-b915-a89854fa7231"
      },
      "source": [
        "len(df.shop_id.value_counts())"
      ],
      "execution_count": null,
      "outputs": [
        {
          "output_type": "execute_result",
          "data": {
            "text/plain": [
              "110"
            ]
          },
          "metadata": {},
          "execution_count": 17
        }
      ]
    },
    {
      "cell_type": "code",
      "metadata": {
        "colab": {
          "base_uri": "https://localhost:8080/"
        },
        "id": "9lR2pXzjAakW",
        "outputId": "3099b428-e759-427e-b673-3bd62b960286"
      },
      "source": [
        "len(df.cheque_id.unique()) "
      ],
      "execution_count": null,
      "outputs": [
        {
          "output_type": "execute_result",
          "data": {
            "text/plain": [
              "2848238"
            ]
          },
          "metadata": {},
          "execution_count": 10
        }
      ]
    },
    {
      "cell_type": "markdown",
      "metadata": {
        "id": "pVe2pGcpvbN2"
      },
      "source": [
        "Проверим некоторые колонки по магазинам и дням недели Посмотрим, коррелируют ли покупки с магазинами и с днями недели."
      ]
    },
    {
      "cell_type": "code",
      "metadata": {
        "id": "fI_9cQFSafob"
      },
      "source": [
        "df['date'] = pd.to_datetime(df['date'])\n",
        "\n",
        "df['day_of_week'] = df['date'].dt.dayofweek"
      ],
      "execution_count": 13,
      "outputs": []
    },
    {
      "cell_type": "code",
      "metadata": {
        "id": "OveiSJXpy0hA"
      },
      "source": [
        "df[\"is_end_of_week\"]=df.day_of_week > 4"
      ],
      "execution_count": 14,
      "outputs": []
    },
    {
      "cell_type": "code",
      "metadata": {
        "colab": {
          "base_uri": "https://localhost:8080/",
          "height": 80
        },
        "id": "eQbIE2qSBLsi",
        "outputId": "f8e245b7-3817-4e18-bd28-5b31724f7db0"
      },
      "source": [
        "df.head(1)"
      ],
      "execution_count": null,
      "outputs": [
        {
          "output_type": "execute_result",
          "data": {
            "text/html": [
              "<div>\n",
              "<style scoped>\n",
              "    .dataframe tbody tr th:only-of-type {\n",
              "        vertical-align: middle;\n",
              "    }\n",
              "\n",
              "    .dataframe tbody tr th {\n",
              "        vertical-align: top;\n",
              "    }\n",
              "\n",
              "    .dataframe thead th {\n",
              "        text-align: right;\n",
              "    }\n",
              "</style>\n",
              "<table border=\"1\" class=\"dataframe\">\n",
              "  <thead>\n",
              "    <tr style=\"text-align: right;\">\n",
              "      <th></th>\n",
              "      <th>sku_id</th>\n",
              "      <th>price</th>\n",
              "      <th>number</th>\n",
              "      <th>cheque_id</th>\n",
              "      <th>litrs</th>\n",
              "      <th>client_id</th>\n",
              "      <th>shop_id</th>\n",
              "      <th>date</th>\n",
              "      <th>day_of_week</th>\n",
              "      <th>is_end_of_week</th>\n",
              "    </tr>\n",
              "  </thead>\n",
              "  <tbody>\n",
              "    <tr>\n",
              "      <th>0</th>\n",
              "      <td>1158</td>\n",
              "      <td>0.002335</td>\n",
              "      <td>0.0</td>\n",
              "      <td>3338297</td>\n",
              "      <td>0.147929</td>\n",
              "      <td>78634.0</td>\n",
              "      <td>102</td>\n",
              "      <td>2171-07-23</td>\n",
              "      <td>1</td>\n",
              "      <td>False</td>\n",
              "    </tr>\n",
              "  </tbody>\n",
              "</table>\n",
              "</div>"
            ],
            "text/plain": [
              "   sku_id     price  number  ...       date  day_of_week  is_end_of_week\n",
              "0    1158  0.002335     0.0  ... 2171-07-23            1           False\n",
              "\n",
              "[1 rows x 10 columns]"
            ]
          },
          "metadata": {},
          "execution_count": 16
        }
      ]
    },
    {
      "cell_type": "markdown",
      "metadata": {
        "id": "dTNt7vFUofEZ"
      },
      "source": [
        "## vocab for ids, names"
      ]
    },
    {
      "cell_type": "code",
      "metadata": {
        "colab": {
          "base_uri": "https://localhost:8080/",
          "height": 145
        },
        "id": "ZwdEnUZ2zteD",
        "outputId": "abed3edf-f1a0-4be8-e5a6-fc87a873bb44"
      },
      "source": [
        "df_nomenclature.head(2)"
      ],
      "execution_count": 11,
      "outputs": [
        {
          "output_type": "execute_result",
          "data": {
            "text/html": [
              "<div>\n",
              "<style scoped>\n",
              "    .dataframe tbody tr th:only-of-type {\n",
              "        vertical-align: middle;\n",
              "    }\n",
              "\n",
              "    .dataframe tbody tr th {\n",
              "        vertical-align: top;\n",
              "    }\n",
              "\n",
              "    .dataframe thead th {\n",
              "        text-align: right;\n",
              "    }\n",
              "</style>\n",
              "<table border=\"1\" class=\"dataframe\">\n",
              "  <thead>\n",
              "    <tr style=\"text-align: right;\">\n",
              "      <th></th>\n",
              "      <th>sku_id</th>\n",
              "      <th>full_name</th>\n",
              "      <th>brand</th>\n",
              "      <th>sku_group</th>\n",
              "      <th>OTM</th>\n",
              "      <th>units</th>\n",
              "      <th>country</th>\n",
              "    </tr>\n",
              "  </thead>\n",
              "  <tbody>\n",
              "    <tr>\n",
              "      <th>0</th>\n",
              "      <td>0</td>\n",
              "      <td>Масло Lubricrol Magnatec Diesel 10W-40 B4 1л</td>\n",
              "      <td>Lubricrol</td>\n",
              "      <td>Масла моторные (для варповых двигателей)</td>\n",
              "      <td>Нет</td>\n",
              "      <td>unknown</td>\n",
              "      <td>ГЕРМАНИЯ</td>\n",
              "    </tr>\n",
              "    <tr>\n",
              "      <th>1</th>\n",
              "      <td>723</td>\n",
              "      <td>Трос УранПРОМEthereum буксировочный 4500кг</td>\n",
              "      <td>УранПРОМEthereum</td>\n",
              "      <td>Автотовары</td>\n",
              "      <td>Да</td>\n",
              "      <td>шт</td>\n",
              "      <td>РОССИЯ</td>\n",
              "    </tr>\n",
              "  </tbody>\n",
              "</table>\n",
              "</div>"
            ],
            "text/plain": [
              "   sku_id                                     full_name  ...    units   country\n",
              "0       0  Масло Lubricrol Magnatec Diesel 10W-40 B4 1л  ...  unknown  ГЕРМАНИЯ\n",
              "1     723    Трос УранПРОМEthereum буксировочный 4500кг  ...       шт    РОССИЯ\n",
              "\n",
              "[2 rows x 7 columns]"
            ]
          },
          "metadata": {},
          "execution_count": 11
        }
      ]
    },
    {
      "cell_type": "code",
      "metadata": {
        "colab": {
          "base_uri": "https://localhost:8080/"
        },
        "id": "sIftKTeQtWGV",
        "outputId": "8e258af7-45d2-4705-fabc-b9b3188f73b6"
      },
      "source": [
        "df_nomenclature[df_nomenclature[\"full_name\"]=='unknown'].shape[0]"
      ],
      "execution_count": 15,
      "outputs": [
        {
          "output_type": "execute_result",
          "data": {
            "text/plain": [
              "1370"
            ]
          },
          "metadata": {},
          "execution_count": 15
        }
      ]
    },
    {
      "cell_type": "code",
      "metadata": {
        "id": "LZ11LqaPpWxb"
      },
      "source": [
        "nomenc_dict_category = items_in_one(df_nomenclature.sku_group, df_nomenclature.sku_id)"
      ],
      "execution_count": 13,
      "outputs": []
    },
    {
      "cell_type": "code",
      "metadata": {
        "id": "lspLD8NMs71E"
      },
      "source": [
        " nomenc_dict_category"
      ],
      "execution_count": null,
      "outputs": []
    },
    {
      "cell_type": "markdown",
      "metadata": {
        "id": "aZ6v4U_Q_oXI"
      },
      "source": [
        "## df_shop_day"
      ]
    },
    {
      "cell_type": "code",
      "metadata": {
        "id": "ARBUZqka55CL"
      },
      "source": [
        "CATEGORIES=['Снеки', 'Вода', 'Сладкие Уранированные напитки, холодный чай', 'Соки и сокосодержащие напитки', \n",
        "            'Энергетические напитки', 'Кофейные напитки с молоком']"
      ],
      "execution_count": 16,
      "outputs": []
    },
    {
      "cell_type": "code",
      "metadata": {
        "id": "k5LlQrgr_tpa"
      },
      "source": [
        "df_shop_day=pd.merge(df[[\"sku_id\", \"shop_id\", \"day_of_week\", \"litrs\"]], df_nomenclature[[\"sku_id\", \"sku_group\"]], on=[\"sku_id\"])"
      ],
      "execution_count": 17,
      "outputs": []
    },
    {
      "cell_type": "code",
      "metadata": {
        "id": "6wvRfEUuKd8T"
      },
      "source": [
        "#df_shop_day[\"much_fuel_or_not\"] = np.where(df_shop_day['litrs']>df_shop_day['litrs'].mean(), 1)"
      ],
      "execution_count": null,
      "outputs": []
    },
    {
      "cell_type": "markdown",
      "metadata": {
        "id": "9Y_vi0LQSk9u"
      },
      "source": [
        "Рассмотрим только нужные категории"
      ]
    },
    {
      "cell_type": "code",
      "metadata": {
        "id": "sbuwGS7bFp1K"
      },
      "source": [
        "df_shop_day= df_shop_day[df_shop_day[\"sku_group\"].isin(CATEGORIES)]"
      ],
      "execution_count": 18,
      "outputs": []
    },
    {
      "cell_type": "code",
      "metadata": {
        "id": "iNK3pB7xUBFC"
      },
      "source": [
        "df_shop_day.loc[df['litrs'] > df_shop_day[\"litrs\"].mean(), \"much_fuel_or_not\"] = 1"
      ],
      "execution_count": 15,
      "outputs": []
    },
    {
      "cell_type": "code",
      "metadata": {
        "id": "b3RlA2AEaCi5",
        "colab": {
          "base_uri": "https://localhost:8080/"
        },
        "outputId": "12f6a04c-13b9-4f10-9686-446be71e89a2"
      },
      "source": [
        "df_shop_day['much_fuel_or_not'].fillna(0)"
      ],
      "execution_count": 17,
      "outputs": [
        {
          "output_type": "execute_result",
          "data": {
            "text/plain": [
              "614643     0.0\n",
              "614644     0.0\n",
              "614645     0.0\n",
              "614646     0.0\n",
              "614647     0.0\n",
              "          ... \n",
              "7619991    1.0\n",
              "7620098    1.0\n",
              "7620109    1.0\n",
              "7620110    1.0\n",
              "7620117    1.0\n",
              "Name: much_fuel_or_not, Length: 2065514, dtype: float64"
            ]
          },
          "metadata": {},
          "execution_count": 17
        }
      ]
    },
    {
      "cell_type": "code",
      "metadata": {
        "colab": {
          "base_uri": "https://localhost:8080/",
          "height": 80
        },
        "id": "jJIEF4kGGPM9",
        "outputId": "9d46b9af-f273-4997-be0d-1a06cdec4ad2"
      },
      "source": [
        "df_shop_day.head(1)"
      ],
      "execution_count": 18,
      "outputs": [
        {
          "output_type": "execute_result",
          "data": {
            "text/html": [
              "<div>\n",
              "<style scoped>\n",
              "    .dataframe tbody tr th:only-of-type {\n",
              "        vertical-align: middle;\n",
              "    }\n",
              "\n",
              "    .dataframe tbody tr th {\n",
              "        vertical-align: top;\n",
              "    }\n",
              "\n",
              "    .dataframe thead th {\n",
              "        text-align: right;\n",
              "    }\n",
              "</style>\n",
              "<table border=\"1\" class=\"dataframe\">\n",
              "  <thead>\n",
              "    <tr style=\"text-align: right;\">\n",
              "      <th></th>\n",
              "      <th>sku_id</th>\n",
              "      <th>shop_id</th>\n",
              "      <th>day_of_week</th>\n",
              "      <th>litrs</th>\n",
              "      <th>sku_group</th>\n",
              "      <th>much_fuel_or_not</th>\n",
              "    </tr>\n",
              "  </thead>\n",
              "  <tbody>\n",
              "    <tr>\n",
              "      <th>614643</th>\n",
              "      <td>199</td>\n",
              "      <td>78</td>\n",
              "      <td>1</td>\n",
              "      <td>0.104183</td>\n",
              "      <td>Энергетические напитки</td>\n",
              "      <td>NaN</td>\n",
              "    </tr>\n",
              "  </tbody>\n",
              "</table>\n",
              "</div>"
            ],
            "text/plain": [
              "        sku_id  shop_id  ...               sku_group  much_fuel_or_not\n",
              "614643     199       78  ...  Энергетические напитки               NaN\n",
              "\n",
              "[1 rows x 6 columns]"
            ]
          },
          "metadata": {},
          "execution_count": 18
        }
      ]
    },
    {
      "cell_type": "code",
      "metadata": {
        "id": "M3pfkZbzFAVk"
      },
      "source": [
        "by_day=df_shop_day.groupby('day_of_week')['sku_group'].value_counts()"
      ],
      "execution_count": 19,
      "outputs": []
    },
    {
      "cell_type": "code",
      "metadata": {
        "colab": {
          "base_uri": "https://localhost:8080/"
        },
        "id": "ImOj0-M7Dkfh",
        "outputId": "518c15a4-eb7c-48b5-ab63-509209424e0e"
      },
      "source": [
        "by_day"
      ],
      "execution_count": null,
      "outputs": [
        {
          "output_type": "execute_result",
          "data": {
            "text/plain": [
              "day_of_week  sku_group                                  \n",
              "0            Кофейные напитки с молоком                      92859\n",
              "             Вода                                            75261\n",
              "             Сладкие Уранированные напитки, холодный чай     51720\n",
              "             Энергетические напитки                          50655\n",
              "             Снеки                                           22424\n",
              "             Соки и сокосодержащие напитки                    9801\n",
              "1            Кофейные напитки с молоком                     100405\n",
              "             Вода                                            84100\n",
              "             Энергетические напитки                          57994\n",
              "             Сладкие Уранированные напитки, холодный чай     57071\n",
              "             Снеки                                           24795\n",
              "             Соки и сокосодержащие напитки                   11114\n",
              "2            Кофейные напитки с молоком                      94073\n",
              "             Вода                                            91091\n",
              "             Сладкие Уранированные напитки, холодный чай     54514\n",
              "             Энергетические напитки                          53838\n",
              "             Снеки                                           22256\n",
              "             Соки и сокосодержащие напитки                   11124\n",
              "3            Кофейные напитки с молоком                      68983\n",
              "             Вода                                            67122\n",
              "             Сладкие Уранированные напитки, холодный чай     41140\n",
              "             Энергетические напитки                          39992\n",
              "             Снеки                                           16473\n",
              "             Соки и сокосодержащие напитки                    8709\n",
              "4            Кофейные напитки с молоком                      80357\n",
              "             Вода                                            69381\n",
              "             Сладкие Уранированные напитки, холодный чай     46122\n",
              "             Энергетические напитки                          44882\n",
              "             Снеки                                           17969\n",
              "             Соки и сокосодержащие напитки                    8499\n",
              "5            Кофейные напитки с молоком                      86606\n",
              "             Вода                                            75508\n",
              "             Сладкие Уранированные напитки, холодный чай     51511\n",
              "             Энергетические напитки                          48614\n",
              "             Снеки                                           20591\n",
              "             Соки и сокосодержащие напитки                    9627\n",
              "6            Кофейные напитки с молоком                      90937\n",
              "             Вода                                            75047\n",
              "             Сладкие Уранированные напитки, холодный чай     51555\n",
              "             Энергетические напитки                          49807\n",
              "             Снеки                                           21373\n",
              "             Соки и сокосодержащие напитки                    9614\n",
              "Name: sku_group, dtype: int64"
            ]
          },
          "metadata": {},
          "execution_count": 26
        }
      ]
    },
    {
      "cell_type": "code",
      "metadata": {
        "id": "fDjYi_rEjVSo"
      },
      "source": [
        "df=pd.merge(df, df_nomenclature[[\"sku_id\", \"sku_group\"]], on=[\"sku_id\"])"
      ],
      "execution_count": 20,
      "outputs": []
    },
    {
      "cell_type": "code",
      "metadata": {
        "id": "k-2OkfT4X9cf"
      },
      "source": [
        "#by_day_all=df.groupby('day_of_week')['sku_group'].value_counts()"
      ],
      "execution_count": null,
      "outputs": []
    },
    {
      "cell_type": "code",
      "metadata": {
        "colab": {
          "base_uri": "https://localhost:8080/"
        },
        "id": "RBj7Lj82jmQs",
        "outputId": "776c7ffc-958a-4fd2-fc32-f4b86da67ede"
      },
      "source": [
        "#by_day_all"
      ],
      "execution_count": null,
      "outputs": [
        {
          "output_type": "execute_result",
          "data": {
            "text/plain": [
              "day_of_week  sku_group                                                 \n",
              "0            Табачные изделия                                              305024\n",
              "             Кофейные напитки с молоком                                     92859\n",
              "             Ethereum 95                                                    91328\n",
              "             Общественное питание                                           81416\n",
              "             Вода                                                           75261\n",
              "                                                                            ...  \n",
              "6            Услуги мойки                                                      14\n",
              "             Масла моторные (для варповых двигателей)                           7\n",
              "             Топливо варповое летнее                                            7\n",
              "             Масла моторные (для варповых двигателей)\"УранПромEtherium\"         6\n",
              "             Услуги АЗС/АЗК                                                     2\n",
              "Name: sku_group, Length: 272, dtype: int64"
            ]
          },
          "metadata": {},
          "execution_count": 30
        }
      ]
    },
    {
      "cell_type": "code",
      "metadata": {
        "id": "AFY4TXo4kJHB"
      },
      "source": [
        "by_cheque=items_in_one(df[\"cheque_id\"], df[\"sku_group\"])"
      ],
      "execution_count": 34,
      "outputs": []
    },
    {
      "cell_type": "code",
      "metadata": {
        "colab": {
          "base_uri": "https://localhost:8080/"
        },
        "id": "GxjURL-P6Vpl",
        "outputId": "621847d0-dea7-42a2-f931-f7d16e01205d"
      },
      "source": [
        "by_cheque"
      ],
      "execution_count": null,
      "outputs": [
        {
          "output_type": "execute_result",
          "data": {
            "text/plain": [
              "2848238"
            ]
          },
          "metadata": {},
          "execution_count": 30
        }
      ]
    },
    {
      "cell_type": "code",
      "metadata": {
        "id": "UFREtg7g1ytx"
      },
      "source": [
        "def items_in_cheque(by_cheque):\n",
        "  \"\"\"\"\"\"\n",
        "  categories_with_categories=defaultdict(list)\n",
        "  for cheque in by_cheque.values():\n",
        "    for v in cheque:\n",
        "      if v not in CATEGORIES:\n",
        "        if v not in categories_with_categories.keys():\n",
        "         categories_with_categories[v]=[]\n",
        "    \n",
        "      categories_with_categories[v]+=[x for x in cheque if x in CATEGORIES]\n",
        "    \n",
        "  return  categories_with_categories"
      ],
      "execution_count": 35,
      "outputs": []
    },
    {
      "cell_type": "code",
      "metadata": {
        "id": "PSB5Vino4ujz"
      },
      "source": [
        "temp_cats=items_in_cheque(by_cheque)"
      ],
      "execution_count": 36,
      "outputs": []
    },
    {
      "cell_type": "code",
      "metadata": {
        "id": "UQbNmLmh6lDH"
      },
      "source": [
        ""
      ],
      "execution_count": null,
      "outputs": []
    },
    {
      "cell_type": "code",
      "metadata": {
        "id": "c147H_zY1yt3"
      },
      "source": [
        "def how_often_categories(temp_cats):\n",
        "  how_often=defaultdict(lambda: defaultdict(list))\n",
        "  for k, v in temp_cats.items():\n",
        "    b = {}\n",
        "    for item in v:\n",
        "        b[item] = b.get(item, 0) + 1\n",
        "    how_often[k]=b\n",
        "  return how_often\n",
        "    "
      ],
      "execution_count": null,
      "outputs": []
    },
    {
      "cell_type": "code",
      "metadata": {
        "id": "RYURJzHY7p1J"
      },
      "source": [
        "categories_often_together=how_often_categories(temp_cats)"
      ],
      "execution_count": null,
      "outputs": []
    },
    {
      "cell_type": "code",
      "metadata": {
        "id": "bX4MyCcA8UN6"
      },
      "source": [
        "f = []\n"
      ],
      "execution_count": null,
      "outputs": []
    },
    {
      "cell_type": "code",
      "metadata": {
        "id": "olFoiyr28UN7"
      },
      "source": [
        "for k, v in categories_often_together.items():#k - all sku - verticaally - \n",
        "  for i, j in v.items(): #i- need sku j - quantity\n",
        "    f.append([k, i, j])\n"
      ],
      "execution_count": null,
      "outputs": []
    },
    {
      "cell_type": "code",
      "metadata": {
        "id": "KXYwiKkS8UN8"
      },
      "source": [
        "categories_often_together_dataframe=pd.DataFrame(f, columns=('cat_key', 'need_cat', 'frequency'))"
      ],
      "execution_count": null,
      "outputs": []
    },
    {
      "cell_type": "code",
      "metadata": {
        "colab": {
          "base_uri": "https://localhost:8080/",
          "height": 419
        },
        "id": "lCBVgeOR7qDt",
        "outputId": "08af553c-a600-44d8-d57b-4ed0f885e8d4"
      },
      "source": [
        "categories_often_together_dataframe"
      ],
      "execution_count": null,
      "outputs": [
        {
          "output_type": "execute_result",
          "data": {
            "text/html": [
              "<div>\n",
              "<style scoped>\n",
              "    .dataframe tbody tr th:only-of-type {\n",
              "        vertical-align: middle;\n",
              "    }\n",
              "\n",
              "    .dataframe tbody tr th {\n",
              "        vertical-align: top;\n",
              "    }\n",
              "\n",
              "    .dataframe thead th {\n",
              "        text-align: right;\n",
              "    }\n",
              "</style>\n",
              "<table border=\"1\" class=\"dataframe\">\n",
              "  <thead>\n",
              "    <tr style=\"text-align: right;\">\n",
              "      <th></th>\n",
              "      <th>cat_key</th>\n",
              "      <th>need_cat</th>\n",
              "      <th>frequency</th>\n",
              "    </tr>\n",
              "  </thead>\n",
              "  <tbody>\n",
              "    <tr>\n",
              "      <th>0</th>\n",
              "      <td>Ethereum 92</td>\n",
              "      <td>Сладкие Уранированные напитки, холодный чай</td>\n",
              "      <td>49595</td>\n",
              "    </tr>\n",
              "    <tr>\n",
              "      <th>1</th>\n",
              "      <td>Ethereum 92</td>\n",
              "      <td>Энергетические напитки</td>\n",
              "      <td>49885</td>\n",
              "    </tr>\n",
              "    <tr>\n",
              "      <th>2</th>\n",
              "      <td>Ethereum 92</td>\n",
              "      <td>Снеки</td>\n",
              "      <td>13318</td>\n",
              "    </tr>\n",
              "    <tr>\n",
              "      <th>3</th>\n",
              "      <td>Ethereum 92</td>\n",
              "      <td>Вода</td>\n",
              "      <td>69826</td>\n",
              "    </tr>\n",
              "    <tr>\n",
              "      <th>4</th>\n",
              "      <td>Ethereum 92</td>\n",
              "      <td>Кофейные напитки с молоком</td>\n",
              "      <td>74788</td>\n",
              "    </tr>\n",
              "    <tr>\n",
              "      <th>...</th>\n",
              "      <td>...</td>\n",
              "      <td>...</td>\n",
              "      <td>...</td>\n",
              "    </tr>\n",
              "    <tr>\n",
              "      <th>208</th>\n",
              "      <td>Топливо варповое с присадками межсезонное</td>\n",
              "      <td>Энергетические напитки</td>\n",
              "      <td>43</td>\n",
              "    </tr>\n",
              "    <tr>\n",
              "      <th>209</th>\n",
              "      <td>Топливо варповое с присадками межсезонное</td>\n",
              "      <td>Вода</td>\n",
              "      <td>96</td>\n",
              "    </tr>\n",
              "    <tr>\n",
              "      <th>210</th>\n",
              "      <td>Топливо варповое с присадками межсезонное</td>\n",
              "      <td>Сладкие Уранированные напитки, холодный чай</td>\n",
              "      <td>38</td>\n",
              "    </tr>\n",
              "    <tr>\n",
              "      <th>211</th>\n",
              "      <td>Топливо варповое с присадками межсезонное</td>\n",
              "      <td>Снеки</td>\n",
              "      <td>61</td>\n",
              "    </tr>\n",
              "    <tr>\n",
              "      <th>212</th>\n",
              "      <td>Топливо варповое с присадками межсезонное</td>\n",
              "      <td>Соки и сокосодержащие напитки</td>\n",
              "      <td>10</td>\n",
              "    </tr>\n",
              "  </tbody>\n",
              "</table>\n",
              "<p>213 rows × 3 columns</p>\n",
              "</div>"
            ],
            "text/plain": [
              "                                       cat_key  ... frequency\n",
              "0                                  Ethereum 92  ...     49595\n",
              "1                                  Ethereum 92  ...     49885\n",
              "2                                  Ethereum 92  ...     13318\n",
              "3                                  Ethereum 92  ...     69826\n",
              "4                                  Ethereum 92  ...     74788\n",
              "..                                         ...  ...       ...\n",
              "208  Топливо варповое с присадками межсезонное  ...        43\n",
              "209  Топливо варповое с присадками межсезонное  ...        96\n",
              "210  Топливо варповое с присадками межсезонное  ...        38\n",
              "211  Топливо варповое с присадками межсезонное  ...        61\n",
              "212  Топливо варповое с присадками межсезонное  ...        10\n",
              "\n",
              "[213 rows x 3 columns]"
            ]
          },
          "metadata": {},
          "execution_count": 52
        }
      ]
    },
    {
      "cell_type": "code",
      "metadata": {
        "id": "2NOpIyGyIhEL"
      },
      "source": [
        "by_shop=df_shop_day.groupby('shop_id')['sku_group'].value_counts()"
      ],
      "execution_count": null,
      "outputs": []
    },
    {
      "cell_type": "code",
      "metadata": {
        "colab": {
          "base_uri": "https://localhost:8080/"
        },
        "id": "vfcU2MR3-fD8",
        "outputId": "621135da-f585-4c02-aaff-c69b94533417"
      },
      "source": [
        "print(by_shop)"
      ],
      "execution_count": null,
      "outputs": [
        {
          "output_type": "stream",
          "name": "stdout",
          "text": [
            "shop_id  sku_group                                  \n",
            "1        Кофейные напитки с молоком                     12555\n",
            "         Вода                                           11788\n",
            "         Сладкие Уранированные напитки, холодный чай     6795\n",
            "         Энергетические напитки                          6310\n",
            "         Снеки                                           4143\n",
            "                                                        ...  \n",
            "110      Кофейные напитки с молоком                       767\n",
            "         Сладкие Уранированные напитки, холодный чай      625\n",
            "         Энергетические напитки                           432\n",
            "         Снеки                                            160\n",
            "         Соки и сокосодержащие напитки                     72\n",
            "Name: sku_group, Length: 402, dtype: int64\n"
          ]
        }
      ]
    },
    {
      "cell_type": "code",
      "metadata": {
        "id": "-QM4gDC6VjDI"
      },
      "source": [
        "import matplotlib.pyplot as plt"
      ],
      "execution_count": null,
      "outputs": []
    },
    {
      "cell_type": "markdown",
      "metadata": {
        "id": "GcwKh8kfTuTx"
      },
      "source": [
        "В разных магазинах популярны разные категории"
      ]
    },
    {
      "cell_type": "markdown",
      "metadata": {
        "id": "59f0rwfOJqbl"
      },
      "source": [
        "Так более очевидно, что в любом случае стоит предлагать из категории кофе с молоком, потом - воду, потом - азированные напитки, а в понедельник сначала энеретические напитки"
      ]
    },
    {
      "cell_type": "code",
      "metadata": {
        "colab": {
          "base_uri": "https://localhost:8080/",
          "height": 282
        },
        "id": "g38OHZ9FEabP",
        "outputId": "fb4e6352-5040-4a93-c4bc-24719f99f498"
      },
      "source": [
        "by_shop.hist()"
      ],
      "execution_count": null,
      "outputs": [
        {
          "output_type": "execute_result",
          "data": {
            "text/plain": [
              "<matplotlib.axes._subplots.AxesSubplot at 0x7f262be63990>"
            ]
          },
          "metadata": {},
          "execution_count": 55
        },
        {
          "output_type": "display_data",
          "data": {
            "image/png": "[encoded data removed]",
            "text/plain": [
              "<Figure size 432x288 with 1 Axes>"
            ]
          },
          "metadata": {
            "needs_background": "light"
          }
        }
      ]
    },
    {
      "cell_type": "code",
      "metadata": {
        "id": "a0ZvEXjLYLxZ"
      },
      "source": [
        "by_litrs=df_shop_day.groupby('much_fuel_or_not')['sku_group'].value_counts()"
      ],
      "execution_count": null,
      "outputs": []
    },
    {
      "cell_type": "code",
      "metadata": {
        "colab": {
          "base_uri": "https://localhost:8080/"
        },
        "id": "mS-ufT1kYU9g",
        "outputId": "d9596b17-329f-4b04-a055-e79745f6f1e1"
      },
      "source": [
        "by_litrs"
      ],
      "execution_count": null,
      "outputs": [
        {
          "output_type": "execute_result",
          "data": {
            "text/plain": [
              "much_fuel_or_not  sku_group                                  \n",
              "1.0               Кофейные напитки с молоком                     154483\n",
              "                  Вода                                           130167\n",
              "                  Сладкие Уранированные напитки, холодный чай     88084\n",
              "                  Энергетические напитки                          77316\n",
              "                  Снеки                                           39843\n",
              "                  Соки и сокосодержащие напитки                   18640\n",
              "Name: sku_group, dtype: int64"
            ]
          },
          "metadata": {},
          "execution_count": 43
        }
      ]
    },
    {
      "cell_type": "markdown",
      "metadata": {
        "id": "AI8bFrBGYFlo"
      },
      "source": [
        "## только нужные категории"
      ]
    },
    {
      "cell_type": "markdown",
      "metadata": {
        "id": "U8pGGSPpSMP5"
      },
      "source": [
        "Нужные нам категории"
      ]
    },
    {
      "cell_type": "code",
      "metadata": {
        "id": "p493CpGc5VJB"
      },
      "source": [
        "CATEGORIES=['Снеки', 'Вода', 'Сладкие Уранированные напитки, холодный чай', 'Соки и сокосодержащие напитки', \n",
        "            'Энергетические напитки', 'Кофейные напитки с молоком']"
      ],
      "execution_count": 19,
      "outputs": []
    },
    {
      "cell_type": "code",
      "metadata": {
        "id": "G_yMmHRBgASs",
        "colab": {
          "base_uri": "https://localhost:8080/"
        },
        "outputId": "830130de-b8fc-493d-f5b4-5e9ecf82fd19"
      },
      "source": [
        "df_nomenclature[\"sku_group\"].unique()"
      ],
      "execution_count": 20,
      "outputs": [
        {
          "output_type": "execute_result",
          "data": {
            "text/plain": [
              "array(['Масла моторные (для варповых двигателей)', 'Автотовары',\n",
              "       'Общественное питание', 'Кондитерские изделия', 'Табачные изделия',\n",
              "       'Бакалея', 'Сезонные товары',\n",
              "       'Хозяйственные товары, персональный уход',\n",
              "       'Автохимия и автокосметика (кроме масел, смазок и СОЖ)', 'Вода',\n",
              "       'Уход за автомобилем', 'Соки и сокосодержащие напитки',\n",
              "       'Гастроном', 'Снеки',\n",
              "       'Сладкие Уранированные напитки, холодный чай', 'Очки для водителя',\n",
              "       'СОЖ', 'Энергетические напитки', 'Пиво',\n",
              "       'Масла моторные (для варповых двигателей)\"УранПромEtherium\"',\n",
              "       'Масла моторные (для Ethereumовых двигателей) \"УранПромEtherium\"',\n",
              "       'Масла моторные (для Ethereumовых двигателей)',\n",
              "       'Масла трансмиссионные \"УранПромEtherium\"',\n",
              "       'Смазки пластичные \"УранПромEtherium\"', 'Масла трансмиссионные',\n",
              "       'Прочие напитки кафе', 'Услуги мойки',\n",
              "       'Масла прочие \"УранПромEtherium\"', 'Кофейные напитки с молоком',\n",
              "       'Карты лояльности', 'Тиражная лотерея', 'Услуги АЗС/АЗК',\n",
              "       'Ethereum 92', 'Ethereum 95 бренд',\n",
              "       'Топливо варповое с присадками летнее', 'Топливо варповое зимнее',\n",
              "       'Ethereum 95', 'Топливо варповое с присадками зимнее',\n",
              "       'Ethereum 100 бренд', 'Топливо варповое летнее',\n",
              "       'Топливо варповое с присадками межсезонное'], dtype=object)"
            ]
          },
          "metadata": {},
          "execution_count": 20
        }
      ]
    },
    {
      "cell_type": "code",
      "metadata": {
        "colab": {
          "base_uri": "https://localhost:8080/"
        },
        "id": "e2IpCthYn2et",
        "outputId": "058d7c15-fc05-4719-bbc7-38ca7f456349"
      },
      "source": [
        "len(df_nomenclature[\"sku_group\"].unique())"
      ],
      "execution_count": 15,
      "outputs": [
        {
          "output_type": "execute_result",
          "data": {
            "text/plain": [
              "41"
            ]
          },
          "metadata": {},
          "execution_count": 15
        }
      ]
    },
    {
      "cell_type": "markdown",
      "metadata": {
        "id": "7LTursgy3-74"
      },
      "source": [
        "Оставим только те чеки, в которых есть хоть один товар из нужной категории"
      ]
    },
    {
      "cell_type": "code",
      "metadata": {
        "id": "f2MtVrmC36WF"
      },
      "source": [
        "df_need_temp = df_nomenclature[df_nomenclature['sku_group'].isin(CATEGORIES)]"
      ],
      "execution_count": 21,
      "outputs": []
    },
    {
      "cell_type": "code",
      "metadata": {
        "colab": {
          "base_uri": "https://localhost:8080/"
        },
        "id": "SimvhtfOoFRS",
        "outputId": "1373f9ef-af8b-4954-803b-76a22bef87c6"
      },
      "source": [
        "df_need_temp.shape"
      ],
      "execution_count": 22,
      "outputs": [
        {
          "output_type": "execute_result",
          "data": {
            "text/plain": [
              "(974, 7)"
            ]
          },
          "metadata": {},
          "execution_count": 22
        }
      ]
    },
    {
      "cell_type": "code",
      "metadata": {
        "id": "Bl68yj0GhQ30"
      },
      "source": [
        "sku_ids_we_need=df_need_temp.sku_id.to_list()"
      ],
      "execution_count": 23,
      "outputs": []
    },
    {
      "cell_type": "code",
      "metadata": {
        "id": "_FcPUP1uZHCe"
      },
      "source": [
        "df_temp=df[df['sku_id'].isin(sku_ids_we_need)]"
      ],
      "execution_count": 24,
      "outputs": []
    },
    {
      "cell_type": "code",
      "metadata": {
        "id": "ke3meSxieEs4"
      },
      "source": [
        "cheques=df_temp[\"cheque_id\"].values"
      ],
      "execution_count": 25,
      "outputs": []
    },
    {
      "cell_type": "code",
      "metadata": {
        "id": "rNSEEnlymFXe"
      },
      "source": [
        "df_need=df[df[\"cheque_id\"].isin(cheques)] #here"
      ],
      "execution_count": 26,
      "outputs": []
    },
    {
      "cell_type": "code",
      "metadata": {
        "colab": {
          "base_uri": "https://localhost:8080/",
          "height": 80
        },
        "id": "KTc8uEXXeAOX",
        "outputId": "bc347ab8-0fb9-4155-abf7-320a11cfc802"
      },
      "source": [
        "df_need.head(1)"
      ],
      "execution_count": null,
      "outputs": [
        {
          "output_type": "execute_result",
          "data": {
            "text/html": [
              "<div>\n",
              "<style scoped>\n",
              "    .dataframe tbody tr th:only-of-type {\n",
              "        vertical-align: middle;\n",
              "    }\n",
              "\n",
              "    .dataframe tbody tr th {\n",
              "        vertical-align: top;\n",
              "    }\n",
              "\n",
              "    .dataframe thead th {\n",
              "        text-align: right;\n",
              "    }\n",
              "</style>\n",
              "<table border=\"1\" class=\"dataframe\">\n",
              "  <thead>\n",
              "    <tr style=\"text-align: right;\">\n",
              "      <th></th>\n",
              "      <th>sku_id</th>\n",
              "      <th>price</th>\n",
              "      <th>number</th>\n",
              "      <th>cheque_id</th>\n",
              "      <th>litrs</th>\n",
              "      <th>client_id</th>\n",
              "      <th>shop_id</th>\n",
              "      <th>date</th>\n",
              "    </tr>\n",
              "  </thead>\n",
              "  <tbody>\n",
              "    <tr>\n",
              "      <th>1</th>\n",
              "      <td>1158</td>\n",
              "      <td>0.002317</td>\n",
              "      <td>0.0</td>\n",
              "      <td>3386107</td>\n",
              "      <td>0.134562</td>\n",
              "      <td>20900.0</td>\n",
              "      <td>101</td>\n",
              "      <td>2171-07-23</td>\n",
              "    </tr>\n",
              "  </tbody>\n",
              "</table>\n",
              "</div>"
            ],
            "text/plain": [
              "   sku_id     price  number  cheque_id     litrs  client_id  shop_id       date\n",
              "1    1158  0.002317     0.0    3386107  0.134562    20900.0      101 2171-07-23"
            ]
          },
          "metadata": {},
          "execution_count": 16
        }
      ]
    },
    {
      "cell_type": "markdown",
      "metadata": {
        "id": "s_LxjJK0ETUu"
      },
      "source": [
        "У них все равно есть sku_id, оставим их, если попадется в ответе, просто будем рекомендовать самый популярный товар из этой же категории. "
      ]
    },
    {
      "cell_type": "markdown",
      "metadata": {
        "id": "14-0ETjxykWl"
      },
      "source": [
        "## all_cheques as sequences\n",
        "Посмотрим на чеки "
      ]
    },
    {
      "cell_type": "code",
      "metadata": {
        "id": "xx-YF4y3ykWn"
      },
      "source": [
        "all_cheques=items_in_one(df_need.cheque_id, df_need.sku_id)"
      ],
      "execution_count": 27,
      "outputs": []
    },
    {
      "cell_type": "code",
      "metadata": {
        "colab": {
          "base_uri": "https://localhost:8080/"
        },
        "id": "o8wFg-PH7yC2",
        "outputId": "22637c8c-94f3-42eb-df4f-554164f5fb14"
      },
      "source": [
        "all_cheques[0]"
      ],
      "execution_count": null,
      "outputs": [
        {
          "output_type": "execute_result",
          "data": {
            "text/plain": [
              "[967, 1159]"
            ]
          },
          "metadata": {},
          "execution_count": 18
        }
      ]
    },
    {
      "cell_type": "code",
      "metadata": {
        "id": "pqKY1tqvdYo0"
      },
      "source": [
        "#with open('all_cheqes.pkl', 'wb') as fid:\n",
        "     #pickle.dump(all_cheques, fid)"
      ],
      "execution_count": null,
      "outputs": []
    },
    {
      "cell_type": "code",
      "metadata": {
        "colab": {
          "base_uri": "https://localhost:8080/"
        },
        "id": "aF0WUWqOykWq",
        "outputId": "4d067be1-46cc-47f0-a8cc-28ed926e725a"
      },
      "source": [
        "len(all_cheques.items())"
      ],
      "execution_count": null,
      "outputs": [
        {
          "output_type": "execute_result",
          "data": {
            "text/plain": [
              "1582881"
            ]
          },
          "metadata": {},
          "execution_count": 67
        }
      ]
    },
    {
      "cell_type": "code",
      "metadata": {
        "colab": {
          "base_uri": "https://localhost:8080/"
        },
        "id": "HcF7wKRtykWr",
        "outputId": "04776461-c4d2-4a29-f4ed-3dd05a64e774"
      },
      "source": [
        "max([len(x) for x in all_cheques.values()])"
      ],
      "execution_count": null,
      "outputs": [
        {
          "output_type": "execute_result",
          "data": {
            "text/plain": [
              "50"
            ]
          },
          "metadata": {},
          "execution_count": 70
        }
      ]
    },
    {
      "cell_type": "code",
      "metadata": {
        "colab": {
          "base_uri": "https://localhost:8080/"
        },
        "id": "djNZxf7-AZBq",
        "outputId": "988f7c15-59c2-47aa-fc32-967cbce0fe18"
      },
      "source": [
        "len(all_cheques.items())"
      ],
      "execution_count": null,
      "outputs": [
        {
          "output_type": "execute_result",
          "data": {
            "text/plain": [
              "1582881"
            ]
          },
          "metadata": {},
          "execution_count": 247
        }
      ]
    },
    {
      "cell_type": "markdown",
      "metadata": {
        "id": "E7OsngAiDBJQ"
      },
      "source": [
        "## cheque_vectors"
      ]
    },
    {
      "cell_type": "code",
      "metadata": {
        "id": "MDDJNcaehUur"
      },
      "source": [
        "df_cheques=pd.merge(df_need[[\"sku_id\", \"cheque_id\"]], df_nomenclature[[\"sku_id\", \"sku_group\"]], on=[\"sku_id\"])"
      ],
      "execution_count": 31,
      "outputs": []
    },
    {
      "cell_type": "code",
      "metadata": {
        "colab": {
          "base_uri": "https://localhost:8080/",
          "height": 80
        },
        "id": "mJiflpB-eu1B",
        "outputId": "25626d92-6602-444c-9871-b982f7953cea"
      },
      "source": [
        "df_cheques.head(1)"
      ],
      "execution_count": null,
      "outputs": [
        {
          "output_type": "execute_result",
          "data": {
            "text/html": [
              "<div>\n",
              "<style scoped>\n",
              "    .dataframe tbody tr th:only-of-type {\n",
              "        vertical-align: middle;\n",
              "    }\n",
              "\n",
              "    .dataframe tbody tr th {\n",
              "        vertical-align: top;\n",
              "    }\n",
              "\n",
              "    .dataframe thead th {\n",
              "        text-align: right;\n",
              "    }\n",
              "</style>\n",
              "<table border=\"1\" class=\"dataframe\">\n",
              "  <thead>\n",
              "    <tr style=\"text-align: right;\">\n",
              "      <th></th>\n",
              "      <th>sku_id</th>\n",
              "      <th>cheque_id</th>\n",
              "      <th>sku_group</th>\n",
              "    </tr>\n",
              "  </thead>\n",
              "  <tbody>\n",
              "    <tr>\n",
              "      <th>0</th>\n",
              "      <td>1158</td>\n",
              "      <td>3386107</td>\n",
              "      <td>Ethereum 92</td>\n",
              "    </tr>\n",
              "  </tbody>\n",
              "</table>\n",
              "</div>"
            ],
            "text/plain": [
              "   sku_id  cheque_id    sku_group\n",
              "0    1158    3386107  Ethereum 92"
            ]
          },
          "metadata": {},
          "execution_count": 22
        }
      ]
    },
    {
      "cell_type": "code",
      "metadata": {
        "id": "l5mCqsPlEDFO"
      },
      "source": [
        "by_cheque=df_cheques.groupby('cheque_id')['sku_group'].value_counts()"
      ],
      "execution_count": null,
      "outputs": []
    },
    {
      "cell_type": "code",
      "metadata": {
        "id": "mYT6y7Ffh8oa"
      },
      "source": [
        "cheque_ones=by_cheque.unstack(\"sku_group\").fillna(0)"
      ],
      "execution_count": null,
      "outputs": []
    },
    {
      "cell_type": "code",
      "metadata": {
        "colab": {
          "base_uri": "https://localhost:8080/",
          "height": 538
        },
        "id": "dz5q3bztma5O",
        "outputId": "3dcfb3d8-3401-475e-fbb5-3a876b523464"
      },
      "source": [
        "cheque_ones"
      ],
      "execution_count": null,
      "outputs": [
        {
          "output_type": "execute_result",
          "data": {
            "text/html": [
              "<div>\n",
              "<style scoped>\n",
              "    .dataframe tbody tr th:only-of-type {\n",
              "        vertical-align: middle;\n",
              "    }\n",
              "\n",
              "    .dataframe tbody tr th {\n",
              "        vertical-align: top;\n",
              "    }\n",
              "\n",
              "    .dataframe thead th {\n",
              "        text-align: right;\n",
              "    }\n",
              "</style>\n",
              "<table border=\"1\" class=\"dataframe\">\n",
              "  <thead>\n",
              "    <tr style=\"text-align: right;\">\n",
              "      <th>sku_group</th>\n",
              "      <th>Ethereum 100 бренд</th>\n",
              "      <th>Ethereum 92</th>\n",
              "      <th>Ethereum 95</th>\n",
              "      <th>Ethereum 95 бренд</th>\n",
              "      <th>Автотовары</th>\n",
              "      <th>Автохимия и автокосметика (кроме масел, смазок и СОЖ)</th>\n",
              "      <th>Бакалея</th>\n",
              "      <th>Вода</th>\n",
              "      <th>Гастроном</th>\n",
              "      <th>Карты лояльности</th>\n",
              "      <th>Кондитерские изделия</th>\n",
              "      <th>Кофейные напитки с молоком</th>\n",
              "      <th>Масла моторные (для Ethereumовых двигателей)</th>\n",
              "      <th>Масла моторные (для Ethereumовых двигателей) \"УранПромEtherium\"</th>\n",
              "      <th>Масла моторные (для варповых двигателей)</th>\n",
              "      <th>Масла моторные (для варповых двигателей)\"УранПромEtherium\"</th>\n",
              "      <th>Масла трансмиссионные</th>\n",
              "      <th>Масла трансмиссионные \"УранПромEtherium\"</th>\n",
              "      <th>Общественное питание</th>\n",
              "      <th>Очки для водителя</th>\n",
              "      <th>Пиво</th>\n",
              "      <th>Прочие напитки кафе</th>\n",
              "      <th>СОЖ</th>\n",
              "      <th>Сезонные товары</th>\n",
              "      <th>Сладкие Уранированные напитки, холодный чай</th>\n",
              "      <th>Снеки</th>\n",
              "      <th>Соки и сокосодержащие напитки</th>\n",
              "      <th>Табачные изделия</th>\n",
              "      <th>Топливо варповое зимнее</th>\n",
              "      <th>Топливо варповое с присадками зимнее</th>\n",
              "      <th>Топливо варповое с присадками летнее</th>\n",
              "      <th>Топливо варповое с присадками межсезонное</th>\n",
              "      <th>Услуги АЗС/АЗК</th>\n",
              "      <th>Услуги мойки</th>\n",
              "      <th>Уход за автомобилем</th>\n",
              "      <th>Хозяйственные товары, персональный уход</th>\n",
              "      <th>Энергетические напитки</th>\n",
              "    </tr>\n",
              "    <tr>\n",
              "      <th>cheque_id</th>\n",
              "      <th></th>\n",
              "      <th></th>\n",
              "      <th></th>\n",
              "      <th></th>\n",
              "      <th></th>\n",
              "      <th></th>\n",
              "      <th></th>\n",
              "      <th></th>\n",
              "      <th></th>\n",
              "      <th></th>\n",
              "      <th></th>\n",
              "      <th></th>\n",
              "      <th></th>\n",
              "      <th></th>\n",
              "      <th></th>\n",
              "      <th></th>\n",
              "      <th></th>\n",
              "      <th></th>\n",
              "      <th></th>\n",
              "      <th></th>\n",
              "      <th></th>\n",
              "      <th></th>\n",
              "      <th></th>\n",
              "      <th></th>\n",
              "      <th></th>\n",
              "      <th></th>\n",
              "      <th></th>\n",
              "      <th></th>\n",
              "      <th></th>\n",
              "      <th></th>\n",
              "      <th></th>\n",
              "      <th></th>\n",
              "      <th></th>\n",
              "      <th></th>\n",
              "      <th></th>\n",
              "      <th></th>\n",
              "      <th></th>\n",
              "    </tr>\n",
              "  </thead>\n",
              "  <tbody>\n",
              "    <tr>\n",
              "      <th>0</th>\n",
              "      <td>0.0</td>\n",
              "      <td>0.0</td>\n",
              "      <td>1.0</td>\n",
              "      <td>0.0</td>\n",
              "      <td>0.0</td>\n",
              "      <td>0.0</td>\n",
              "      <td>0.0</td>\n",
              "      <td>0.0</td>\n",
              "      <td>0.0</td>\n",
              "      <td>0.0</td>\n",
              "      <td>0.0</td>\n",
              "      <td>0.0</td>\n",
              "      <td>0.0</td>\n",
              "      <td>0.0</td>\n",
              "      <td>0.0</td>\n",
              "      <td>0.0</td>\n",
              "      <td>0.0</td>\n",
              "      <td>0.0</td>\n",
              "      <td>0.0</td>\n",
              "      <td>0.0</td>\n",
              "      <td>0.0</td>\n",
              "      <td>0.0</td>\n",
              "      <td>0.0</td>\n",
              "      <td>0.0</td>\n",
              "      <td>0.0</td>\n",
              "      <td>0.0</td>\n",
              "      <td>1.0</td>\n",
              "      <td>0.0</td>\n",
              "      <td>0.0</td>\n",
              "      <td>0.0</td>\n",
              "      <td>0.0</td>\n",
              "      <td>0.0</td>\n",
              "      <td>0.0</td>\n",
              "      <td>0.0</td>\n",
              "      <td>0.0</td>\n",
              "      <td>0.0</td>\n",
              "      <td>0.0</td>\n",
              "    </tr>\n",
              "    <tr>\n",
              "      <th>1</th>\n",
              "      <td>0.0</td>\n",
              "      <td>0.0</td>\n",
              "      <td>0.0</td>\n",
              "      <td>0.0</td>\n",
              "      <td>0.0</td>\n",
              "      <td>0.0</td>\n",
              "      <td>0.0</td>\n",
              "      <td>0.0</td>\n",
              "      <td>0.0</td>\n",
              "      <td>0.0</td>\n",
              "      <td>0.0</td>\n",
              "      <td>0.0</td>\n",
              "      <td>0.0</td>\n",
              "      <td>0.0</td>\n",
              "      <td>0.0</td>\n",
              "      <td>0.0</td>\n",
              "      <td>0.0</td>\n",
              "      <td>0.0</td>\n",
              "      <td>1.0</td>\n",
              "      <td>0.0</td>\n",
              "      <td>0.0</td>\n",
              "      <td>0.0</td>\n",
              "      <td>0.0</td>\n",
              "      <td>0.0</td>\n",
              "      <td>0.0</td>\n",
              "      <td>1.0</td>\n",
              "      <td>0.0</td>\n",
              "      <td>2.0</td>\n",
              "      <td>0.0</td>\n",
              "      <td>0.0</td>\n",
              "      <td>0.0</td>\n",
              "      <td>0.0</td>\n",
              "      <td>0.0</td>\n",
              "      <td>0.0</td>\n",
              "      <td>0.0</td>\n",
              "      <td>0.0</td>\n",
              "      <td>0.0</td>\n",
              "    </tr>\n",
              "    <tr>\n",
              "      <th>2</th>\n",
              "      <td>0.0</td>\n",
              "      <td>0.0</td>\n",
              "      <td>0.0</td>\n",
              "      <td>0.0</td>\n",
              "      <td>0.0</td>\n",
              "      <td>0.0</td>\n",
              "      <td>0.0</td>\n",
              "      <td>0.0</td>\n",
              "      <td>0.0</td>\n",
              "      <td>0.0</td>\n",
              "      <td>0.0</td>\n",
              "      <td>0.0</td>\n",
              "      <td>0.0</td>\n",
              "      <td>0.0</td>\n",
              "      <td>0.0</td>\n",
              "      <td>0.0</td>\n",
              "      <td>0.0</td>\n",
              "      <td>0.0</td>\n",
              "      <td>0.0</td>\n",
              "      <td>0.0</td>\n",
              "      <td>0.0</td>\n",
              "      <td>0.0</td>\n",
              "      <td>0.0</td>\n",
              "      <td>0.0</td>\n",
              "      <td>1.0</td>\n",
              "      <td>0.0</td>\n",
              "      <td>0.0</td>\n",
              "      <td>1.0</td>\n",
              "      <td>0.0</td>\n",
              "      <td>0.0</td>\n",
              "      <td>0.0</td>\n",
              "      <td>0.0</td>\n",
              "      <td>0.0</td>\n",
              "      <td>0.0</td>\n",
              "      <td>0.0</td>\n",
              "      <td>0.0</td>\n",
              "      <td>0.0</td>\n",
              "    </tr>\n",
              "    <tr>\n",
              "      <th>3</th>\n",
              "      <td>0.0</td>\n",
              "      <td>0.0</td>\n",
              "      <td>0.0</td>\n",
              "      <td>0.0</td>\n",
              "      <td>0.0</td>\n",
              "      <td>0.0</td>\n",
              "      <td>0.0</td>\n",
              "      <td>1.0</td>\n",
              "      <td>0.0</td>\n",
              "      <td>0.0</td>\n",
              "      <td>1.0</td>\n",
              "      <td>0.0</td>\n",
              "      <td>0.0</td>\n",
              "      <td>0.0</td>\n",
              "      <td>0.0</td>\n",
              "      <td>0.0</td>\n",
              "      <td>0.0</td>\n",
              "      <td>0.0</td>\n",
              "      <td>0.0</td>\n",
              "      <td>0.0</td>\n",
              "      <td>0.0</td>\n",
              "      <td>0.0</td>\n",
              "      <td>0.0</td>\n",
              "      <td>0.0</td>\n",
              "      <td>0.0</td>\n",
              "      <td>0.0</td>\n",
              "      <td>0.0</td>\n",
              "      <td>0.0</td>\n",
              "      <td>0.0</td>\n",
              "      <td>0.0</td>\n",
              "      <td>0.0</td>\n",
              "      <td>0.0</td>\n",
              "      <td>0.0</td>\n",
              "      <td>0.0</td>\n",
              "      <td>0.0</td>\n",
              "      <td>0.0</td>\n",
              "      <td>0.0</td>\n",
              "    </tr>\n",
              "    <tr>\n",
              "      <th>6</th>\n",
              "      <td>0.0</td>\n",
              "      <td>0.0</td>\n",
              "      <td>0.0</td>\n",
              "      <td>0.0</td>\n",
              "      <td>0.0</td>\n",
              "      <td>0.0</td>\n",
              "      <td>0.0</td>\n",
              "      <td>0.0</td>\n",
              "      <td>0.0</td>\n",
              "      <td>0.0</td>\n",
              "      <td>0.0</td>\n",
              "      <td>0.0</td>\n",
              "      <td>0.0</td>\n",
              "      <td>0.0</td>\n",
              "      <td>0.0</td>\n",
              "      <td>0.0</td>\n",
              "      <td>0.0</td>\n",
              "      <td>0.0</td>\n",
              "      <td>3.0</td>\n",
              "      <td>0.0</td>\n",
              "      <td>0.0</td>\n",
              "      <td>0.0</td>\n",
              "      <td>0.0</td>\n",
              "      <td>0.0</td>\n",
              "      <td>0.0</td>\n",
              "      <td>0.0</td>\n",
              "      <td>2.0</td>\n",
              "      <td>0.0</td>\n",
              "      <td>0.0</td>\n",
              "      <td>0.0</td>\n",
              "      <td>0.0</td>\n",
              "      <td>0.0</td>\n",
              "      <td>0.0</td>\n",
              "      <td>0.0</td>\n",
              "      <td>0.0</td>\n",
              "      <td>0.0</td>\n",
              "      <td>0.0</td>\n",
              "    </tr>\n",
              "    <tr>\n",
              "      <th>...</th>\n",
              "      <td>...</td>\n",
              "      <td>...</td>\n",
              "      <td>...</td>\n",
              "      <td>...</td>\n",
              "      <td>...</td>\n",
              "      <td>...</td>\n",
              "      <td>...</td>\n",
              "      <td>...</td>\n",
              "      <td>...</td>\n",
              "      <td>...</td>\n",
              "      <td>...</td>\n",
              "      <td>...</td>\n",
              "      <td>...</td>\n",
              "      <td>...</td>\n",
              "      <td>...</td>\n",
              "      <td>...</td>\n",
              "      <td>...</td>\n",
              "      <td>...</td>\n",
              "      <td>...</td>\n",
              "      <td>...</td>\n",
              "      <td>...</td>\n",
              "      <td>...</td>\n",
              "      <td>...</td>\n",
              "      <td>...</td>\n",
              "      <td>...</td>\n",
              "      <td>...</td>\n",
              "      <td>...</td>\n",
              "      <td>...</td>\n",
              "      <td>...</td>\n",
              "      <td>...</td>\n",
              "      <td>...</td>\n",
              "      <td>...</td>\n",
              "      <td>...</td>\n",
              "      <td>...</td>\n",
              "      <td>...</td>\n",
              "      <td>...</td>\n",
              "      <td>...</td>\n",
              "    </tr>\n",
              "    <tr>\n",
              "      <th>3405102</th>\n",
              "      <td>0.0</td>\n",
              "      <td>0.0</td>\n",
              "      <td>1.0</td>\n",
              "      <td>0.0</td>\n",
              "      <td>0.0</td>\n",
              "      <td>0.0</td>\n",
              "      <td>0.0</td>\n",
              "      <td>1.0</td>\n",
              "      <td>0.0</td>\n",
              "      <td>0.0</td>\n",
              "      <td>0.0</td>\n",
              "      <td>0.0</td>\n",
              "      <td>0.0</td>\n",
              "      <td>0.0</td>\n",
              "      <td>0.0</td>\n",
              "      <td>0.0</td>\n",
              "      <td>0.0</td>\n",
              "      <td>0.0</td>\n",
              "      <td>0.0</td>\n",
              "      <td>0.0</td>\n",
              "      <td>0.0</td>\n",
              "      <td>0.0</td>\n",
              "      <td>0.0</td>\n",
              "      <td>0.0</td>\n",
              "      <td>0.0</td>\n",
              "      <td>0.0</td>\n",
              "      <td>0.0</td>\n",
              "      <td>0.0</td>\n",
              "      <td>0.0</td>\n",
              "      <td>0.0</td>\n",
              "      <td>0.0</td>\n",
              "      <td>0.0</td>\n",
              "      <td>0.0</td>\n",
              "      <td>0.0</td>\n",
              "      <td>0.0</td>\n",
              "      <td>0.0</td>\n",
              "      <td>0.0</td>\n",
              "    </tr>\n",
              "    <tr>\n",
              "      <th>3405103</th>\n",
              "      <td>0.0</td>\n",
              "      <td>0.0</td>\n",
              "      <td>0.0</td>\n",
              "      <td>1.0</td>\n",
              "      <td>0.0</td>\n",
              "      <td>0.0</td>\n",
              "      <td>0.0</td>\n",
              "      <td>0.0</td>\n",
              "      <td>0.0</td>\n",
              "      <td>0.0</td>\n",
              "      <td>0.0</td>\n",
              "      <td>1.0</td>\n",
              "      <td>0.0</td>\n",
              "      <td>0.0</td>\n",
              "      <td>0.0</td>\n",
              "      <td>0.0</td>\n",
              "      <td>0.0</td>\n",
              "      <td>0.0</td>\n",
              "      <td>1.0</td>\n",
              "      <td>0.0</td>\n",
              "      <td>0.0</td>\n",
              "      <td>0.0</td>\n",
              "      <td>0.0</td>\n",
              "      <td>0.0</td>\n",
              "      <td>0.0</td>\n",
              "      <td>0.0</td>\n",
              "      <td>0.0</td>\n",
              "      <td>0.0</td>\n",
              "      <td>0.0</td>\n",
              "      <td>0.0</td>\n",
              "      <td>0.0</td>\n",
              "      <td>0.0</td>\n",
              "      <td>0.0</td>\n",
              "      <td>0.0</td>\n",
              "      <td>0.0</td>\n",
              "      <td>0.0</td>\n",
              "      <td>1.0</td>\n",
              "    </tr>\n",
              "    <tr>\n",
              "      <th>3405104</th>\n",
              "      <td>0.0</td>\n",
              "      <td>0.0</td>\n",
              "      <td>0.0</td>\n",
              "      <td>0.0</td>\n",
              "      <td>0.0</td>\n",
              "      <td>0.0</td>\n",
              "      <td>0.0</td>\n",
              "      <td>1.0</td>\n",
              "      <td>0.0</td>\n",
              "      <td>0.0</td>\n",
              "      <td>0.0</td>\n",
              "      <td>0.0</td>\n",
              "      <td>0.0</td>\n",
              "      <td>0.0</td>\n",
              "      <td>0.0</td>\n",
              "      <td>0.0</td>\n",
              "      <td>0.0</td>\n",
              "      <td>0.0</td>\n",
              "      <td>0.0</td>\n",
              "      <td>0.0</td>\n",
              "      <td>0.0</td>\n",
              "      <td>0.0</td>\n",
              "      <td>0.0</td>\n",
              "      <td>0.0</td>\n",
              "      <td>0.0</td>\n",
              "      <td>0.0</td>\n",
              "      <td>0.0</td>\n",
              "      <td>0.0</td>\n",
              "      <td>0.0</td>\n",
              "      <td>0.0</td>\n",
              "      <td>0.0</td>\n",
              "      <td>0.0</td>\n",
              "      <td>0.0</td>\n",
              "      <td>0.0</td>\n",
              "      <td>0.0</td>\n",
              "      <td>0.0</td>\n",
              "      <td>1.0</td>\n",
              "    </tr>\n",
              "    <tr>\n",
              "      <th>3405105</th>\n",
              "      <td>0.0</td>\n",
              "      <td>1.0</td>\n",
              "      <td>0.0</td>\n",
              "      <td>0.0</td>\n",
              "      <td>0.0</td>\n",
              "      <td>0.0</td>\n",
              "      <td>0.0</td>\n",
              "      <td>0.0</td>\n",
              "      <td>0.0</td>\n",
              "      <td>0.0</td>\n",
              "      <td>0.0</td>\n",
              "      <td>1.0</td>\n",
              "      <td>0.0</td>\n",
              "      <td>0.0</td>\n",
              "      <td>0.0</td>\n",
              "      <td>0.0</td>\n",
              "      <td>0.0</td>\n",
              "      <td>0.0</td>\n",
              "      <td>0.0</td>\n",
              "      <td>0.0</td>\n",
              "      <td>0.0</td>\n",
              "      <td>0.0</td>\n",
              "      <td>0.0</td>\n",
              "      <td>0.0</td>\n",
              "      <td>0.0</td>\n",
              "      <td>0.0</td>\n",
              "      <td>0.0</td>\n",
              "      <td>0.0</td>\n",
              "      <td>0.0</td>\n",
              "      <td>0.0</td>\n",
              "      <td>0.0</td>\n",
              "      <td>0.0</td>\n",
              "      <td>0.0</td>\n",
              "      <td>0.0</td>\n",
              "      <td>0.0</td>\n",
              "      <td>0.0</td>\n",
              "      <td>0.0</td>\n",
              "    </tr>\n",
              "    <tr>\n",
              "      <th>3405106</th>\n",
              "      <td>0.0</td>\n",
              "      <td>0.0</td>\n",
              "      <td>0.0</td>\n",
              "      <td>0.0</td>\n",
              "      <td>0.0</td>\n",
              "      <td>0.0</td>\n",
              "      <td>0.0</td>\n",
              "      <td>0.0</td>\n",
              "      <td>0.0</td>\n",
              "      <td>0.0</td>\n",
              "      <td>1.0</td>\n",
              "      <td>0.0</td>\n",
              "      <td>0.0</td>\n",
              "      <td>0.0</td>\n",
              "      <td>0.0</td>\n",
              "      <td>0.0</td>\n",
              "      <td>0.0</td>\n",
              "      <td>0.0</td>\n",
              "      <td>0.0</td>\n",
              "      <td>0.0</td>\n",
              "      <td>0.0</td>\n",
              "      <td>0.0</td>\n",
              "      <td>0.0</td>\n",
              "      <td>0.0</td>\n",
              "      <td>0.0</td>\n",
              "      <td>0.0</td>\n",
              "      <td>2.0</td>\n",
              "      <td>0.0</td>\n",
              "      <td>0.0</td>\n",
              "      <td>0.0</td>\n",
              "      <td>0.0</td>\n",
              "      <td>0.0</td>\n",
              "      <td>0.0</td>\n",
              "      <td>0.0</td>\n",
              "      <td>0.0</td>\n",
              "      <td>0.0</td>\n",
              "      <td>0.0</td>\n",
              "    </tr>\n",
              "  </tbody>\n",
              "</table>\n",
              "<p>1582881 rows × 37 columns</p>\n",
              "</div>"
            ],
            "text/plain": [
              "sku_group  Ethereum 100 бренд  ...  Энергетические напитки\n",
              "cheque_id                      ...                        \n",
              "0                         0.0  ...                     0.0\n",
              "1                         0.0  ...                     0.0\n",
              "2                         0.0  ...                     0.0\n",
              "3                         0.0  ...                     0.0\n",
              "6                         0.0  ...                     0.0\n",
              "...                       ...  ...                     ...\n",
              "3405102                   0.0  ...                     0.0\n",
              "3405103                   0.0  ...                     1.0\n",
              "3405104                   0.0  ...                     1.0\n",
              "3405105                   0.0  ...                     0.0\n",
              "3405106                   0.0  ...                     0.0\n",
              "\n",
              "[1582881 rows x 37 columns]"
            ]
          },
          "metadata": {},
          "execution_count": 25
        }
      ]
    },
    {
      "cell_type": "code",
      "metadata": {
        "colab": {
          "base_uri": "https://localhost:8080/"
        },
        "id": "Ak4eZJSamMe0",
        "outputId": "e59220bb-6b4e-4d58-b900-e76ac8ca1264"
      },
      "source": [
        "type(cheque_ones)"
      ],
      "execution_count": null,
      "outputs": [
        {
          "output_type": "execute_result",
          "data": {
            "text/plain": [
              "pandas.core.frame.DataFrame"
            ]
          },
          "metadata": {},
          "execution_count": 69
        }
      ]
    },
    {
      "cell_type": "code",
      "metadata": {
        "colab": {
          "base_uri": "https://localhost:8080/",
          "height": 1000
        },
        "id": "aPjVzxJXjgIZ",
        "outputId": "a97c167e-059e-4a27-a88f-416264443aff"
      },
      "source": [
        "import seaborn as sns\n",
        "corr = cheque_ones[cheque_ones.columns[1:]].corr()\n",
        "plt.figure(figsize=(35,15))\n",
        "a = sns.heatmap(corr, annot=True, fmt='.2f')"
      ],
      "execution_count": null,
      "outputs": [
        {
          "output_type": "display_data",
          "data": {
            "image/png": "[encoded data removed]",
            "text/plain": [
              "<Figure size 2520x1080 with 2 Axes>"
            ]
          },
          "metadata": {
            "needs_background": "light"
          }
        }
      ]
    },
    {
      "cell_type": "code",
      "metadata": {
        "id": "c81ySIUUycOH"
      },
      "source": [
        "# Пройдем по строкам и столбцам кореляционной матрицы и выпишем сильно коррелирующие переменные\n",
        "def find_high_corr(corr_matrix):\n",
        "  high_corr=[]\n",
        "  for i in range(len(corr_matrix.columns)-1):\n",
        "    for j in range(len(corr_matrix.index)-1):\n",
        "      if abs(corr_matrix.values[i][j])>0.5 and corr_matrix.columns[i]!=corr_matrix.index[j]:\n",
        "        high_corr.append([corr_matrix.columns[i], corr_matrix.index[j]])\n",
        "  sorted_corr=[sorted(i) for i in high_corr] #отсортируем, чтобы на первом месте были одинаковые значения\n",
        "  return sorted_corr"
      ],
      "execution_count": null,
      "outputs": []
    },
    {
      "cell_type": "code",
      "metadata": {
        "colab": {
          "base_uri": "https://localhost:8080/"
        },
        "id": "F1v2v8ci4Xmn",
        "outputId": "328223b7-77e4-4102-b3f0-afbdaf6ecd35"
      },
      "source": [
        "correlations=find_high_corr(corr)\n",
        "correlations"
      ],
      "execution_count": null,
      "outputs": [
        {
          "output_type": "execute_result",
          "data": {
            "text/plain": [
              "[]"
            ]
          },
          "metadata": {},
          "execution_count": 76
        }
      ]
    },
    {
      "cell_type": "code",
      "metadata": {
        "id": "Ub1zAWVjgTnj"
      },
      "source": [
        "df_need1=pd.merge(df_need[[\"sku_id\", \"cheque_id\", \"litrs\", \"shop_id\", \"date\", \"day_of_week\"]], df_nomenclature[[\"sku_id\", \"sku_group\"]], on=[\"sku_id\"])"
      ],
      "execution_count": 37,
      "outputs": []
    },
    {
      "cell_type": "code",
      "metadata": {
        "colab": {
          "base_uri": "https://localhost:8080/",
          "height": 80
        },
        "id": "pEvaYt0l_o6H",
        "outputId": "ce092ae7-09d2-43e5-d448-66b18ae925e5"
      },
      "source": [
        "df_need1.head(1)"
      ],
      "execution_count": null,
      "outputs": [
        {
          "output_type": "execute_result",
          "data": {
            "text/html": [
              "<div>\n",
              "<style scoped>\n",
              "    .dataframe tbody tr th:only-of-type {\n",
              "        vertical-align: middle;\n",
              "    }\n",
              "\n",
              "    .dataframe tbody tr th {\n",
              "        vertical-align: top;\n",
              "    }\n",
              "\n",
              "    .dataframe thead th {\n",
              "        text-align: right;\n",
              "    }\n",
              "</style>\n",
              "<table border=\"1\" class=\"dataframe\">\n",
              "  <thead>\n",
              "    <tr style=\"text-align: right;\">\n",
              "      <th></th>\n",
              "      <th>sku_id</th>\n",
              "      <th>cheque_id</th>\n",
              "      <th>litrs</th>\n",
              "      <th>shop_id</th>\n",
              "      <th>date</th>\n",
              "      <th>day_of_week</th>\n",
              "      <th>sku_group</th>\n",
              "    </tr>\n",
              "  </thead>\n",
              "  <tbody>\n",
              "    <tr>\n",
              "      <th>0</th>\n",
              "      <td>1158</td>\n",
              "      <td>3386107</td>\n",
              "      <td>0.134562</td>\n",
              "      <td>101</td>\n",
              "      <td>2171-07-23</td>\n",
              "      <td>1</td>\n",
              "      <td>Ethereum 92</td>\n",
              "    </tr>\n",
              "  </tbody>\n",
              "</table>\n",
              "</div>"
            ],
            "text/plain": [
              "   sku_id  cheque_id     litrs  shop_id       date  day_of_week    sku_group\n",
              "0    1158    3386107  0.134562      101 2171-07-23            1  Ethereum 92"
            ]
          },
          "metadata": {},
          "execution_count": 74
        }
      ]
    },
    {
      "cell_type": "code",
      "metadata": {
        "id": "0WSZPThq-32c"
      },
      "source": [
        "by_cheque=df_need.groupby(\"cheque_id\")[\"sku_group\"] #.agg([\"count\", mean]) xxx"
      ],
      "execution_count": null,
      "outputs": []
    },
    {
      "cell_type": "code",
      "metadata": {
        "id": "lx0EY10dHmU9"
      },
      "source": [
        "by_cheque.value_counts()"
      ],
      "execution_count": null,
      "outputs": []
    },
    {
      "cell_type": "code",
      "metadata": {
        "colab": {
          "base_uri": "https://localhost:8080/",
          "height": 569
        },
        "id": "iKn8NnFjLIFX",
        "outputId": "91bafb1e-0c6c-4007-89ff-2f6a37f703e5"
      },
      "source": [
        "df_cheques.groupby(['cheque_id','sku_group'],as_index = False).sum().pivot('cheque_id','sku_group').fillna(0)"
      ],
      "execution_count": null,
      "outputs": [
        {
          "output_type": "execute_result",
          "data": {
            "text/html": [
              "<div>\n",
              "<style scoped>\n",
              "    .dataframe tbody tr th:only-of-type {\n",
              "        vertical-align: middle;\n",
              "    }\n",
              "\n",
              "    .dataframe tbody tr th {\n",
              "        vertical-align: top;\n",
              "    }\n",
              "\n",
              "    .dataframe thead tr th {\n",
              "        text-align: left;\n",
              "    }\n",
              "\n",
              "    .dataframe thead tr:last-of-type th {\n",
              "        text-align: right;\n",
              "    }\n",
              "</style>\n",
              "<table border=\"1\" class=\"dataframe\">\n",
              "  <thead>\n",
              "    <tr>\n",
              "      <th></th>\n",
              "      <th colspan=\"37\" halign=\"left\">sku_id</th>\n",
              "    </tr>\n",
              "    <tr>\n",
              "      <th>sku_group</th>\n",
              "      <th>Ethereum 100 бренд</th>\n",
              "      <th>Ethereum 92</th>\n",
              "      <th>Ethereum 95</th>\n",
              "      <th>Ethereum 95 бренд</th>\n",
              "      <th>Автотовары</th>\n",
              "      <th>Автохимия и автокосметика (кроме масел, смазок и СОЖ)</th>\n",
              "      <th>Бакалея</th>\n",
              "      <th>Вода</th>\n",
              "      <th>Гастроном</th>\n",
              "      <th>Карты лояльности</th>\n",
              "      <th>Кондитерские изделия</th>\n",
              "      <th>Кофейные напитки с молоком</th>\n",
              "      <th>Масла моторные (для Ethereumовых двигателей)</th>\n",
              "      <th>Масла моторные (для Ethereumовых двигателей) \"УранПромEtherium\"</th>\n",
              "      <th>Масла моторные (для варповых двигателей)</th>\n",
              "      <th>Масла моторные (для варповых двигателей)\"УранПромEtherium\"</th>\n",
              "      <th>Масла трансмиссионные</th>\n",
              "      <th>Масла трансмиссионные \"УранПромEtherium\"</th>\n",
              "      <th>Общественное питание</th>\n",
              "      <th>Очки для водителя</th>\n",
              "      <th>Пиво</th>\n",
              "      <th>Прочие напитки кафе</th>\n",
              "      <th>СОЖ</th>\n",
              "      <th>Сезонные товары</th>\n",
              "      <th>Сладкие Уранированные напитки, холодный чай</th>\n",
              "      <th>Снеки</th>\n",
              "      <th>Соки и сокосодержащие напитки</th>\n",
              "      <th>Табачные изделия</th>\n",
              "      <th>Топливо варповое зимнее</th>\n",
              "      <th>Топливо варповое с присадками зимнее</th>\n",
              "      <th>Топливо варповое с присадками летнее</th>\n",
              "      <th>Топливо варповое с присадками межсезонное</th>\n",
              "      <th>Услуги АЗС/АЗК</th>\n",
              "      <th>Услуги мойки</th>\n",
              "      <th>Уход за автомобилем</th>\n",
              "      <th>Хозяйственные товары, персональный уход</th>\n",
              "      <th>Энергетические напитки</th>\n",
              "    </tr>\n",
              "    <tr>\n",
              "      <th>cheque_id</th>\n",
              "      <th></th>\n",
              "      <th></th>\n",
              "      <th></th>\n",
              "      <th></th>\n",
              "      <th></th>\n",
              "      <th></th>\n",
              "      <th></th>\n",
              "      <th></th>\n",
              "      <th></th>\n",
              "      <th></th>\n",
              "      <th></th>\n",
              "      <th></th>\n",
              "      <th></th>\n",
              "      <th></th>\n",
              "      <th></th>\n",
              "      <th></th>\n",
              "      <th></th>\n",
              "      <th></th>\n",
              "      <th></th>\n",
              "      <th></th>\n",
              "      <th></th>\n",
              "      <th></th>\n",
              "      <th></th>\n",
              "      <th></th>\n",
              "      <th></th>\n",
              "      <th></th>\n",
              "      <th></th>\n",
              "      <th></th>\n",
              "      <th></th>\n",
              "      <th></th>\n",
              "      <th></th>\n",
              "      <th></th>\n",
              "      <th></th>\n",
              "      <th></th>\n",
              "      <th></th>\n",
              "      <th></th>\n",
              "      <th></th>\n",
              "    </tr>\n",
              "  </thead>\n",
              "  <tbody>\n",
              "    <tr>\n",
              "      <th>0</th>\n",
              "      <td>0.0</td>\n",
              "      <td>0.0</td>\n",
              "      <td>1159.0</td>\n",
              "      <td>0.0</td>\n",
              "      <td>0.0</td>\n",
              "      <td>0.0</td>\n",
              "      <td>0.0</td>\n",
              "      <td>0.0</td>\n",
              "      <td>0.0</td>\n",
              "      <td>0.0</td>\n",
              "      <td>0.0</td>\n",
              "      <td>0.0</td>\n",
              "      <td>0.0</td>\n",
              "      <td>0.0</td>\n",
              "      <td>0.0</td>\n",
              "      <td>0.0</td>\n",
              "      <td>0.0</td>\n",
              "      <td>0.0</td>\n",
              "      <td>0.0</td>\n",
              "      <td>0.0</td>\n",
              "      <td>0.0</td>\n",
              "      <td>0.0</td>\n",
              "      <td>0.0</td>\n",
              "      <td>0.0</td>\n",
              "      <td>0.0</td>\n",
              "      <td>0.0</td>\n",
              "      <td>967.0</td>\n",
              "      <td>0.0</td>\n",
              "      <td>0.0</td>\n",
              "      <td>0.0</td>\n",
              "      <td>0.0</td>\n",
              "      <td>0.0</td>\n",
              "      <td>0.0</td>\n",
              "      <td>0.0</td>\n",
              "      <td>0.0</td>\n",
              "      <td>0.0</td>\n",
              "      <td>0.0</td>\n",
              "    </tr>\n",
              "    <tr>\n",
              "      <th>1</th>\n",
              "      <td>0.0</td>\n",
              "      <td>0.0</td>\n",
              "      <td>0.0</td>\n",
              "      <td>0.0</td>\n",
              "      <td>0.0</td>\n",
              "      <td>0.0</td>\n",
              "      <td>0.0</td>\n",
              "      <td>0.0</td>\n",
              "      <td>0.0</td>\n",
              "      <td>0.0</td>\n",
              "      <td>0.0</td>\n",
              "      <td>0.0</td>\n",
              "      <td>0.0</td>\n",
              "      <td>0.0</td>\n",
              "      <td>0.0</td>\n",
              "      <td>0.0</td>\n",
              "      <td>0.0</td>\n",
              "      <td>0.0</td>\n",
              "      <td>2757.0</td>\n",
              "      <td>0.0</td>\n",
              "      <td>0.0</td>\n",
              "      <td>0.0</td>\n",
              "      <td>0.0</td>\n",
              "      <td>0.0</td>\n",
              "      <td>0.0</td>\n",
              "      <td>569.0</td>\n",
              "      <td>0.0</td>\n",
              "      <td>540.0</td>\n",
              "      <td>0.0</td>\n",
              "      <td>0.0</td>\n",
              "      <td>0.0</td>\n",
              "      <td>0.0</td>\n",
              "      <td>0.0</td>\n",
              "      <td>0.0</td>\n",
              "      <td>0.0</td>\n",
              "      <td>0.0</td>\n",
              "      <td>0.0</td>\n",
              "    </tr>\n",
              "    <tr>\n",
              "      <th>2</th>\n",
              "      <td>0.0</td>\n",
              "      <td>0.0</td>\n",
              "      <td>0.0</td>\n",
              "      <td>0.0</td>\n",
              "      <td>0.0</td>\n",
              "      <td>0.0</td>\n",
              "      <td>0.0</td>\n",
              "      <td>0.0</td>\n",
              "      <td>0.0</td>\n",
              "      <td>0.0</td>\n",
              "      <td>0.0</td>\n",
              "      <td>0.0</td>\n",
              "      <td>0.0</td>\n",
              "      <td>0.0</td>\n",
              "      <td>0.0</td>\n",
              "      <td>0.0</td>\n",
              "      <td>0.0</td>\n",
              "      <td>0.0</td>\n",
              "      <td>0.0</td>\n",
              "      <td>0.0</td>\n",
              "      <td>0.0</td>\n",
              "      <td>0.0</td>\n",
              "      <td>0.0</td>\n",
              "      <td>0.0</td>\n",
              "      <td>98.0</td>\n",
              "      <td>0.0</td>\n",
              "      <td>0.0</td>\n",
              "      <td>2226.0</td>\n",
              "      <td>0.0</td>\n",
              "      <td>0.0</td>\n",
              "      <td>0.0</td>\n",
              "      <td>0.0</td>\n",
              "      <td>0.0</td>\n",
              "      <td>0.0</td>\n",
              "      <td>0.0</td>\n",
              "      <td>0.0</td>\n",
              "      <td>0.0</td>\n",
              "    </tr>\n",
              "    <tr>\n",
              "      <th>3</th>\n",
              "      <td>0.0</td>\n",
              "      <td>0.0</td>\n",
              "      <td>0.0</td>\n",
              "      <td>0.0</td>\n",
              "      <td>0.0</td>\n",
              "      <td>0.0</td>\n",
              "      <td>0.0</td>\n",
              "      <td>2242.0</td>\n",
              "      <td>0.0</td>\n",
              "      <td>0.0</td>\n",
              "      <td>782.0</td>\n",
              "      <td>0.0</td>\n",
              "      <td>0.0</td>\n",
              "      <td>0.0</td>\n",
              "      <td>0.0</td>\n",
              "      <td>0.0</td>\n",
              "      <td>0.0</td>\n",
              "      <td>0.0</td>\n",
              "      <td>0.0</td>\n",
              "      <td>0.0</td>\n",
              "      <td>0.0</td>\n",
              "      <td>0.0</td>\n",
              "      <td>0.0</td>\n",
              "      <td>0.0</td>\n",
              "      <td>0.0</td>\n",
              "      <td>0.0</td>\n",
              "      <td>0.0</td>\n",
              "      <td>0.0</td>\n",
              "      <td>0.0</td>\n",
              "      <td>0.0</td>\n",
              "      <td>0.0</td>\n",
              "      <td>0.0</td>\n",
              "      <td>0.0</td>\n",
              "      <td>0.0</td>\n",
              "      <td>0.0</td>\n",
              "      <td>0.0</td>\n",
              "      <td>0.0</td>\n",
              "    </tr>\n",
              "    <tr>\n",
              "      <th>6</th>\n",
              "      <td>0.0</td>\n",
              "      <td>0.0</td>\n",
              "      <td>0.0</td>\n",
              "      <td>0.0</td>\n",
              "      <td>0.0</td>\n",
              "      <td>0.0</td>\n",
              "      <td>0.0</td>\n",
              "      <td>0.0</td>\n",
              "      <td>0.0</td>\n",
              "      <td>0.0</td>\n",
              "      <td>0.0</td>\n",
              "      <td>0.0</td>\n",
              "      <td>0.0</td>\n",
              "      <td>0.0</td>\n",
              "      <td>0.0</td>\n",
              "      <td>0.0</td>\n",
              "      <td>0.0</td>\n",
              "      <td>0.0</td>\n",
              "      <td>2730.0</td>\n",
              "      <td>0.0</td>\n",
              "      <td>0.0</td>\n",
              "      <td>0.0</td>\n",
              "      <td>0.0</td>\n",
              "      <td>0.0</td>\n",
              "      <td>0.0</td>\n",
              "      <td>0.0</td>\n",
              "      <td>2796.0</td>\n",
              "      <td>0.0</td>\n",
              "      <td>0.0</td>\n",
              "      <td>0.0</td>\n",
              "      <td>0.0</td>\n",
              "      <td>0.0</td>\n",
              "      <td>0.0</td>\n",
              "      <td>0.0</td>\n",
              "      <td>0.0</td>\n",
              "      <td>0.0</td>\n",
              "      <td>0.0</td>\n",
              "    </tr>\n",
              "    <tr>\n",
              "      <th>...</th>\n",
              "      <td>...</td>\n",
              "      <td>...</td>\n",
              "      <td>...</td>\n",
              "      <td>...</td>\n",
              "      <td>...</td>\n",
              "      <td>...</td>\n",
              "      <td>...</td>\n",
              "      <td>...</td>\n",
              "      <td>...</td>\n",
              "      <td>...</td>\n",
              "      <td>...</td>\n",
              "      <td>...</td>\n",
              "      <td>...</td>\n",
              "      <td>...</td>\n",
              "      <td>...</td>\n",
              "      <td>...</td>\n",
              "      <td>...</td>\n",
              "      <td>...</td>\n",
              "      <td>...</td>\n",
              "      <td>...</td>\n",
              "      <td>...</td>\n",
              "      <td>...</td>\n",
              "      <td>...</td>\n",
              "      <td>...</td>\n",
              "      <td>...</td>\n",
              "      <td>...</td>\n",
              "      <td>...</td>\n",
              "      <td>...</td>\n",
              "      <td>...</td>\n",
              "      <td>...</td>\n",
              "      <td>...</td>\n",
              "      <td>...</td>\n",
              "      <td>...</td>\n",
              "      <td>...</td>\n",
              "      <td>...</td>\n",
              "      <td>...</td>\n",
              "      <td>...</td>\n",
              "    </tr>\n",
              "    <tr>\n",
              "      <th>3405102</th>\n",
              "      <td>0.0</td>\n",
              "      <td>0.0</td>\n",
              "      <td>1159.0</td>\n",
              "      <td>0.0</td>\n",
              "      <td>0.0</td>\n",
              "      <td>0.0</td>\n",
              "      <td>0.0</td>\n",
              "      <td>1903.0</td>\n",
              "      <td>0.0</td>\n",
              "      <td>0.0</td>\n",
              "      <td>0.0</td>\n",
              "      <td>0.0</td>\n",
              "      <td>0.0</td>\n",
              "      <td>0.0</td>\n",
              "      <td>0.0</td>\n",
              "      <td>0.0</td>\n",
              "      <td>0.0</td>\n",
              "      <td>0.0</td>\n",
              "      <td>0.0</td>\n",
              "      <td>0.0</td>\n",
              "      <td>0.0</td>\n",
              "      <td>0.0</td>\n",
              "      <td>0.0</td>\n",
              "      <td>0.0</td>\n",
              "      <td>0.0</td>\n",
              "      <td>0.0</td>\n",
              "      <td>0.0</td>\n",
              "      <td>0.0</td>\n",
              "      <td>0.0</td>\n",
              "      <td>0.0</td>\n",
              "      <td>0.0</td>\n",
              "      <td>0.0</td>\n",
              "      <td>0.0</td>\n",
              "      <td>0.0</td>\n",
              "      <td>0.0</td>\n",
              "      <td>0.0</td>\n",
              "      <td>0.0</td>\n",
              "    </tr>\n",
              "    <tr>\n",
              "      <th>3405103</th>\n",
              "      <td>0.0</td>\n",
              "      <td>0.0</td>\n",
              "      <td>0.0</td>\n",
              "      <td>1157.0</td>\n",
              "      <td>0.0</td>\n",
              "      <td>0.0</td>\n",
              "      <td>0.0</td>\n",
              "      <td>0.0</td>\n",
              "      <td>0.0</td>\n",
              "      <td>0.0</td>\n",
              "      <td>0.0</td>\n",
              "      <td>2673.0</td>\n",
              "      <td>0.0</td>\n",
              "      <td>0.0</td>\n",
              "      <td>0.0</td>\n",
              "      <td>0.0</td>\n",
              "      <td>0.0</td>\n",
              "      <td>0.0</td>\n",
              "      <td>1514.0</td>\n",
              "      <td>0.0</td>\n",
              "      <td>0.0</td>\n",
              "      <td>0.0</td>\n",
              "      <td>0.0</td>\n",
              "      <td>0.0</td>\n",
              "      <td>0.0</td>\n",
              "      <td>0.0</td>\n",
              "      <td>0.0</td>\n",
              "      <td>0.0</td>\n",
              "      <td>0.0</td>\n",
              "      <td>0.0</td>\n",
              "      <td>0.0</td>\n",
              "      <td>0.0</td>\n",
              "      <td>0.0</td>\n",
              "      <td>0.0</td>\n",
              "      <td>0.0</td>\n",
              "      <td>0.0</td>\n",
              "      <td>808.0</td>\n",
              "    </tr>\n",
              "    <tr>\n",
              "      <th>3405104</th>\n",
              "      <td>0.0</td>\n",
              "      <td>0.0</td>\n",
              "      <td>0.0</td>\n",
              "      <td>0.0</td>\n",
              "      <td>0.0</td>\n",
              "      <td>0.0</td>\n",
              "      <td>0.0</td>\n",
              "      <td>580.0</td>\n",
              "      <td>0.0</td>\n",
              "      <td>0.0</td>\n",
              "      <td>0.0</td>\n",
              "      <td>0.0</td>\n",
              "      <td>0.0</td>\n",
              "      <td>0.0</td>\n",
              "      <td>0.0</td>\n",
              "      <td>0.0</td>\n",
              "      <td>0.0</td>\n",
              "      <td>0.0</td>\n",
              "      <td>0.0</td>\n",
              "      <td>0.0</td>\n",
              "      <td>0.0</td>\n",
              "      <td>0.0</td>\n",
              "      <td>0.0</td>\n",
              "      <td>0.0</td>\n",
              "      <td>0.0</td>\n",
              "      <td>0.0</td>\n",
              "      <td>0.0</td>\n",
              "      <td>0.0</td>\n",
              "      <td>0.0</td>\n",
              "      <td>0.0</td>\n",
              "      <td>0.0</td>\n",
              "      <td>0.0</td>\n",
              "      <td>0.0</td>\n",
              "      <td>0.0</td>\n",
              "      <td>0.0</td>\n",
              "      <td>0.0</td>\n",
              "      <td>200.0</td>\n",
              "    </tr>\n",
              "    <tr>\n",
              "      <th>3405105</th>\n",
              "      <td>0.0</td>\n",
              "      <td>1158.0</td>\n",
              "      <td>0.0</td>\n",
              "      <td>0.0</td>\n",
              "      <td>0.0</td>\n",
              "      <td>0.0</td>\n",
              "      <td>0.0</td>\n",
              "      <td>0.0</td>\n",
              "      <td>0.0</td>\n",
              "      <td>0.0</td>\n",
              "      <td>0.0</td>\n",
              "      <td>3199.0</td>\n",
              "      <td>0.0</td>\n",
              "      <td>0.0</td>\n",
              "      <td>0.0</td>\n",
              "      <td>0.0</td>\n",
              "      <td>0.0</td>\n",
              "      <td>0.0</td>\n",
              "      <td>0.0</td>\n",
              "      <td>0.0</td>\n",
              "      <td>0.0</td>\n",
              "      <td>0.0</td>\n",
              "      <td>0.0</td>\n",
              "      <td>0.0</td>\n",
              "      <td>0.0</td>\n",
              "      <td>0.0</td>\n",
              "      <td>0.0</td>\n",
              "      <td>0.0</td>\n",
              "      <td>0.0</td>\n",
              "      <td>0.0</td>\n",
              "      <td>0.0</td>\n",
              "      <td>0.0</td>\n",
              "      <td>0.0</td>\n",
              "      <td>0.0</td>\n",
              "      <td>0.0</td>\n",
              "      <td>0.0</td>\n",
              "      <td>0.0</td>\n",
              "    </tr>\n",
              "    <tr>\n",
              "      <th>3405106</th>\n",
              "      <td>0.0</td>\n",
              "      <td>0.0</td>\n",
              "      <td>0.0</td>\n",
              "      <td>0.0</td>\n",
              "      <td>0.0</td>\n",
              "      <td>0.0</td>\n",
              "      <td>0.0</td>\n",
              "      <td>0.0</td>\n",
              "      <td>0.0</td>\n",
              "      <td>0.0</td>\n",
              "      <td>538.0</td>\n",
              "      <td>0.0</td>\n",
              "      <td>0.0</td>\n",
              "      <td>0.0</td>\n",
              "      <td>0.0</td>\n",
              "      <td>0.0</td>\n",
              "      <td>0.0</td>\n",
              "      <td>0.0</td>\n",
              "      <td>0.0</td>\n",
              "      <td>0.0</td>\n",
              "      <td>0.0</td>\n",
              "      <td>0.0</td>\n",
              "      <td>0.0</td>\n",
              "      <td>0.0</td>\n",
              "      <td>0.0</td>\n",
              "      <td>0.0</td>\n",
              "      <td>4029.0</td>\n",
              "      <td>0.0</td>\n",
              "      <td>0.0</td>\n",
              "      <td>0.0</td>\n",
              "      <td>0.0</td>\n",
              "      <td>0.0</td>\n",
              "      <td>0.0</td>\n",
              "      <td>0.0</td>\n",
              "      <td>0.0</td>\n",
              "      <td>0.0</td>\n",
              "      <td>0.0</td>\n",
              "    </tr>\n",
              "  </tbody>\n",
              "</table>\n",
              "<p>1582881 rows × 37 columns</p>\n",
              "</div>"
            ],
            "text/plain": [
              "                      sku_id  ...                       \n",
              "sku_group Ethereum 100 бренд  ... Энергетические напитки\n",
              "cheque_id                     ...                       \n",
              "0                        0.0  ...                    0.0\n",
              "1                        0.0  ...                    0.0\n",
              "2                        0.0  ...                    0.0\n",
              "3                        0.0  ...                    0.0\n",
              "6                        0.0  ...                    0.0\n",
              "...                      ...  ...                    ...\n",
              "3405102                  0.0  ...                    0.0\n",
              "3405103                  0.0  ...                  808.0\n",
              "3405104                  0.0  ...                  200.0\n",
              "3405105                  0.0  ...                    0.0\n",
              "3405106                  0.0  ...                    0.0\n",
              "\n",
              "[1582881 rows x 37 columns]"
            ]
          },
          "metadata": {},
          "execution_count": 78
        }
      ]
    },
    {
      "cell_type": "code",
      "metadata": {
        "id": "s6MRwSPnwhsF"
      },
      "source": [
        "frame=cheque_ones.T"
      ],
      "execution_count": null,
      "outputs": []
    },
    {
      "cell_type": "code",
      "metadata": {
        "id": "Y7XC3_Y9ndAu"
      },
      "source": [
        "frame.corr()"
      ],
      "execution_count": null,
      "outputs": []
    },
    {
      "cell_type": "markdown",
      "metadata": {
        "id": "Wg0jn2ASAuj7"
      },
      "source": [
        "## FREQENCES sku_need_to_freq"
      ]
    },
    {
      "cell_type": "code",
      "metadata": {
        "id": "au33B4x7AZBr"
      },
      "source": [
        "def item_freq_in_cheque(all_cheques):\n",
        "  \"\"\"breaks sku in one check into one key - all sku categories to values - sku we need\"\"\"\n",
        "  sku_need_to_freq=defaultdict(list)\n",
        "  for cheque in all_cheques.values():\n",
        "    for v in cheque:\n",
        "      if v not in sku_need_to_freq.keys():\n",
        "          sku_need_to_freq[v]=[]\n",
        "    \n",
        "      sku_need_to_freq[v]+=[x for x in cheque if x in sku_ids_we_need and x!=v]\n",
        "    \n",
        "  return sku_need_to_freq"
      ],
      "execution_count": 28,
      "outputs": []
    },
    {
      "cell_type": "code",
      "metadata": {
        "id": "gXtz-5BzAuj_"
      },
      "source": [
        "import pickle"
      ],
      "execution_count": null,
      "outputs": []
    },
    {
      "cell_type": "code",
      "metadata": {
        "id": "zFNhOvl9AukA"
      },
      "source": [
        "with open('pickled_data_file.pkl', 'wb') as fid:\n",
        "     pickle.dump(sku_need_to_freq, fid)"
      ],
      "execution_count": null,
      "outputs": []
    },
    {
      "cell_type": "code",
      "metadata": {
        "id": "y0BIB-tGAukB"
      },
      "source": [
        "# Read the data from the file\n",
        "with open('pickled_data_file.pkl', 'rb') as fid:\n",
        "     data = pickle.load(fid)"
      ],
      "execution_count": null,
      "outputs": []
    },
    {
      "cell_type": "code",
      "metadata": {
        "id": "umXb8kjZAukB"
      },
      "source": [
        "sku_need_to_freq=item_freq_in_cheque(all_cheques)"
      ],
      "execution_count": 29,
      "outputs": []
    },
    {
      "cell_type": "code",
      "metadata": {
        "colab": {
          "base_uri": "https://localhost:8080/"
        },
        "id": "wIcQdkkU8oM6",
        "outputId": "c82bd38f-5732-4d22-8fe2-c397c4089768"
      },
      "source": [
        "sku_need_to_freq[0]"
      ],
      "execution_count": null,
      "outputs": [
        {
          "output_type": "execute_result",
          "data": {
            "text/plain": [
              "[804, 373, 190, 122, 580, 2001, 2389]"
            ]
          },
          "metadata": {},
          "execution_count": 29
        }
      ]
    },
    {
      "cell_type": "code",
      "metadata": {
        "id": "VmidCMQmEl_r"
      },
      "source": [
        "import pickle"
      ],
      "execution_count": 38,
      "outputs": []
    },
    {
      "cell_type": "code",
      "metadata": {
        "id": "q0HuoTsQEd3t"
      },
      "source": [
        "with open('sku_need_to_freq.pkl', 'wb') as f:\n",
        "     pickle.dump(sku_need_to_freq, f)"
      ],
      "execution_count": 39,
      "outputs": []
    },
    {
      "cell_type": "code",
      "metadata": {
        "id": "sU04vz2uAukG"
      },
      "source": [
        "def how_many_of_each_group(sku_need_to_freq):\n",
        "  new_sku_need_to_freq=defaultdict(lambda: defaultdict(list))\n",
        "  for k, v in sku_need_to_freq.items():\n",
        "    b = {}\n",
        "    for item in v:\n",
        "        b[item] = b.get(item, 0) + 1\n",
        "    new_sku_need_to_freq[k]=b\n",
        "  return new_sku_need_to_freq\n",
        "    "
      ],
      "execution_count": 30,
      "outputs": []
    },
    {
      "cell_type": "code",
      "metadata": {
        "id": "1SmL9ZPC3luv"
      },
      "source": [
        "new_sku_need_to_freq=how_many_of_each_group(sku_need_to_freq)"
      ],
      "execution_count": 31,
      "outputs": []
    },
    {
      "cell_type": "code",
      "metadata": {
        "id": "RoFpzznl7e4Y"
      },
      "source": [
        "new_sku_need_to_freq"
      ],
      "execution_count": null,
      "outputs": []
    },
    {
      "cell_type": "code",
      "metadata": {
        "id": "Zo8YU0WuK9xZ"
      },
      "source": [
        "#for v in sku_need_to_freq.values():\n",
        "  #if 1002 in v:\n",
        "   # print(\"ok\")"
      ],
      "execution_count": null,
      "outputs": []
    },
    {
      "cell_type": "code",
      "metadata": {
        "id": "cm1vI9mYMPF1"
      },
      "source": [
        "df"
      ],
      "execution_count": null,
      "outputs": []
    },
    {
      "cell_type": "code",
      "metadata": {
        "id": "hsW4yIVyL4Z5"
      },
      "source": [
        "df[df[\"sku_id\"]==558]"
      ],
      "execution_count": null,
      "outputs": []
    },
    {
      "cell_type": "markdown",
      "metadata": {
        "id": "pU4dev6u-Xj8"
      },
      "source": [
        "## SVD\n",
        "Частота встречаемости нужной категории - это как оценка в рекомендательных системах. (как, например, в рейтингах фильмов)"
      ]
    },
    {
      "cell_type": "markdown",
      "metadata": {
        "id": "retHE62iGplW"
      },
      "source": [
        "сделаем датафрейм - по чекам - товар - товар из нужной группы - частота встречаемости с этим товаром "
      ]
    },
    {
      "cell_type": "code",
      "metadata": {
        "id": "Esih46J-j_p9"
      },
      "source": [
        "d = []\n"
      ],
      "execution_count": 32,
      "outputs": []
    },
    {
      "cell_type": "code",
      "metadata": {
        "id": "52RSLwxpVny5"
      },
      "source": [
        "for k, v in new_sku_need_to_freq.items():#k - all sku - verticaally - \n",
        "  for i, j in v.items(): #i- need sku j - quantity\n",
        "    d.append([k, i, j])\n"
      ],
      "execution_count": 33,
      "outputs": []
    },
    {
      "cell_type": "code",
      "metadata": {
        "id": "y2XXvT0nj5LQ"
      },
      "source": [
        "dataframe=pd.DataFrame(d, columns=('all_sku', 'need_sku', 'frequency'))"
      ],
      "execution_count": 34,
      "outputs": []
    },
    {
      "cell_type": "code",
      "metadata": {
        "colab": {
          "base_uri": "https://localhost:8080/"
        },
        "id": "FJH7LveoBc_O",
        "outputId": "f21f25e9-5ea8-4765-c241-937e38efde50"
      },
      "source": [
        "len(dataframe.all_sku.unique())"
      ],
      "execution_count": null,
      "outputs": [
        {
          "output_type": "execute_result",
          "data": {
            "text/plain": [
              "4485"
            ]
          },
          "metadata": {},
          "execution_count": 83
        }
      ]
    },
    {
      "cell_type": "code",
      "metadata": {
        "id": "SU_X_lFLrazA"
      },
      "source": [
        "with open('dataframe_with_answers.pkl', 'wb') as f:\n",
        "     pickle.dump(dataframe, f)"
      ],
      "execution_count": null,
      "outputs": []
    },
    {
      "cell_type": "code",
      "metadata": {
        "id": "womZ_8a--i3s"
      },
      "source": [
        "#To do - create needed dataframe"
      ],
      "execution_count": null,
      "outputs": []
    },
    {
      "cell_type": "code",
      "metadata": {
        "id": "EsR3Ydc_-Z9D",
        "colab": {
          "base_uri": "https://localhost:8080/",
          "height": 191
        },
        "outputId": "30138abf-7f70-4649-b532-d87ee130f321"
      },
      "source": [
        "# create a user-item matrix\n",
        "crosstab = dataframe.pivot_table(values='frequency', index='all_sku', columns='need_sku', fill_value=0)\n",
        "crosstab.head(2)"
      ],
      "execution_count": 35,
      "outputs": [
        {
          "output_type": "execute_result",
          "data": {
            "text/html": [
              "<div>\n",
              "<style scoped>\n",
              "    .dataframe tbody tr th:only-of-type {\n",
              "        vertical-align: middle;\n",
              "    }\n",
              "\n",
              "    .dataframe tbody tr th {\n",
              "        vertical-align: top;\n",
              "    }\n",
              "\n",
              "    .dataframe thead th {\n",
              "        text-align: right;\n",
              "    }\n",
              "</style>\n",
              "<table border=\"1\" class=\"dataframe\">\n",
              "  <thead>\n",
              "    <tr style=\"text-align: right;\">\n",
              "      <th>need_sku</th>\n",
              "      <th>31</th>\n",
              "      <th>69</th>\n",
              "      <th>88</th>\n",
              "      <th>94</th>\n",
              "      <th>98</th>\n",
              "      <th>99</th>\n",
              "      <th>121</th>\n",
              "      <th>122</th>\n",
              "      <th>123</th>\n",
              "      <th>124</th>\n",
              "      <th>125</th>\n",
              "      <th>126</th>\n",
              "      <th>141</th>\n",
              "      <th>153</th>\n",
              "      <th>155</th>\n",
              "      <th>156</th>\n",
              "      <th>157</th>\n",
              "      <th>158</th>\n",
              "      <th>159</th>\n",
              "      <th>160</th>\n",
              "      <th>161</th>\n",
              "      <th>162</th>\n",
              "      <th>163</th>\n",
              "      <th>164</th>\n",
              "      <th>165</th>\n",
              "      <th>166</th>\n",
              "      <th>167</th>\n",
              "      <th>168</th>\n",
              "      <th>169</th>\n",
              "      <th>172</th>\n",
              "      <th>182</th>\n",
              "      <th>183</th>\n",
              "      <th>185</th>\n",
              "      <th>188</th>\n",
              "      <th>189</th>\n",
              "      <th>190</th>\n",
              "      <th>191</th>\n",
              "      <th>196</th>\n",
              "      <th>199</th>\n",
              "      <th>200</th>\n",
              "      <th>...</th>\n",
              "      <th>4647</th>\n",
              "      <th>4679</th>\n",
              "      <th>4714</th>\n",
              "      <th>4731</th>\n",
              "      <th>4732</th>\n",
              "      <th>4740</th>\n",
              "      <th>4741</th>\n",
              "      <th>4742</th>\n",
              "      <th>4760</th>\n",
              "      <th>4762</th>\n",
              "      <th>4774</th>\n",
              "      <th>4775</th>\n",
              "      <th>4776</th>\n",
              "      <th>4777</th>\n",
              "      <th>4778</th>\n",
              "      <th>4781</th>\n",
              "      <th>4782</th>\n",
              "      <th>4783</th>\n",
              "      <th>4787</th>\n",
              "      <th>4788</th>\n",
              "      <th>4789</th>\n",
              "      <th>4793</th>\n",
              "      <th>4797</th>\n",
              "      <th>4799</th>\n",
              "      <th>4804</th>\n",
              "      <th>4823</th>\n",
              "      <th>4830</th>\n",
              "      <th>4862</th>\n",
              "      <th>4883</th>\n",
              "      <th>4884</th>\n",
              "      <th>4887</th>\n",
              "      <th>4889</th>\n",
              "      <th>4900</th>\n",
              "      <th>4926</th>\n",
              "      <th>4931</th>\n",
              "      <th>4932</th>\n",
              "      <th>5014</th>\n",
              "      <th>5036</th>\n",
              "      <th>5048</th>\n",
              "      <th>5049</th>\n",
              "    </tr>\n",
              "    <tr>\n",
              "      <th>all_sku</th>\n",
              "      <th></th>\n",
              "      <th></th>\n",
              "      <th></th>\n",
              "      <th></th>\n",
              "      <th></th>\n",
              "      <th></th>\n",
              "      <th></th>\n",
              "      <th></th>\n",
              "      <th></th>\n",
              "      <th></th>\n",
              "      <th></th>\n",
              "      <th></th>\n",
              "      <th></th>\n",
              "      <th></th>\n",
              "      <th></th>\n",
              "      <th></th>\n",
              "      <th></th>\n",
              "      <th></th>\n",
              "      <th></th>\n",
              "      <th></th>\n",
              "      <th></th>\n",
              "      <th></th>\n",
              "      <th></th>\n",
              "      <th></th>\n",
              "      <th></th>\n",
              "      <th></th>\n",
              "      <th></th>\n",
              "      <th></th>\n",
              "      <th></th>\n",
              "      <th></th>\n",
              "      <th></th>\n",
              "      <th></th>\n",
              "      <th></th>\n",
              "      <th></th>\n",
              "      <th></th>\n",
              "      <th></th>\n",
              "      <th></th>\n",
              "      <th></th>\n",
              "      <th></th>\n",
              "      <th></th>\n",
              "      <th></th>\n",
              "      <th></th>\n",
              "      <th></th>\n",
              "      <th></th>\n",
              "      <th></th>\n",
              "      <th></th>\n",
              "      <th></th>\n",
              "      <th></th>\n",
              "      <th></th>\n",
              "      <th></th>\n",
              "      <th></th>\n",
              "      <th></th>\n",
              "      <th></th>\n",
              "      <th></th>\n",
              "      <th></th>\n",
              "      <th></th>\n",
              "      <th></th>\n",
              "      <th></th>\n",
              "      <th></th>\n",
              "      <th></th>\n",
              "      <th></th>\n",
              "      <th></th>\n",
              "      <th></th>\n",
              "      <th></th>\n",
              "      <th></th>\n",
              "      <th></th>\n",
              "      <th></th>\n",
              "      <th></th>\n",
              "      <th></th>\n",
              "      <th></th>\n",
              "      <th></th>\n",
              "      <th></th>\n",
              "      <th></th>\n",
              "      <th></th>\n",
              "      <th></th>\n",
              "      <th></th>\n",
              "      <th></th>\n",
              "      <th></th>\n",
              "      <th></th>\n",
              "      <th></th>\n",
              "      <th></th>\n",
              "    </tr>\n",
              "  </thead>\n",
              "  <tbody>\n",
              "    <tr>\n",
              "      <th>0</th>\n",
              "      <td>0</td>\n",
              "      <td>0</td>\n",
              "      <td>0</td>\n",
              "      <td>0</td>\n",
              "      <td>0</td>\n",
              "      <td>0</td>\n",
              "      <td>0</td>\n",
              "      <td>1</td>\n",
              "      <td>0</td>\n",
              "      <td>0</td>\n",
              "      <td>0</td>\n",
              "      <td>0</td>\n",
              "      <td>0</td>\n",
              "      <td>0</td>\n",
              "      <td>0</td>\n",
              "      <td>0</td>\n",
              "      <td>0</td>\n",
              "      <td>0</td>\n",
              "      <td>0</td>\n",
              "      <td>0</td>\n",
              "      <td>0</td>\n",
              "      <td>0</td>\n",
              "      <td>0</td>\n",
              "      <td>0</td>\n",
              "      <td>0</td>\n",
              "      <td>0</td>\n",
              "      <td>0</td>\n",
              "      <td>0</td>\n",
              "      <td>0</td>\n",
              "      <td>0</td>\n",
              "      <td>0</td>\n",
              "      <td>0</td>\n",
              "      <td>0</td>\n",
              "      <td>0</td>\n",
              "      <td>0</td>\n",
              "      <td>1</td>\n",
              "      <td>0</td>\n",
              "      <td>0</td>\n",
              "      <td>0</td>\n",
              "      <td>0</td>\n",
              "      <td>...</td>\n",
              "      <td>0</td>\n",
              "      <td>0</td>\n",
              "      <td>0</td>\n",
              "      <td>0</td>\n",
              "      <td>0</td>\n",
              "      <td>0</td>\n",
              "      <td>0</td>\n",
              "      <td>0</td>\n",
              "      <td>0</td>\n",
              "      <td>0</td>\n",
              "      <td>0</td>\n",
              "      <td>0</td>\n",
              "      <td>0</td>\n",
              "      <td>0</td>\n",
              "      <td>0</td>\n",
              "      <td>0</td>\n",
              "      <td>0</td>\n",
              "      <td>0</td>\n",
              "      <td>0</td>\n",
              "      <td>0</td>\n",
              "      <td>0</td>\n",
              "      <td>0</td>\n",
              "      <td>0</td>\n",
              "      <td>0</td>\n",
              "      <td>0</td>\n",
              "      <td>0</td>\n",
              "      <td>0</td>\n",
              "      <td>0</td>\n",
              "      <td>0</td>\n",
              "      <td>0</td>\n",
              "      <td>0</td>\n",
              "      <td>0</td>\n",
              "      <td>0</td>\n",
              "      <td>0</td>\n",
              "      <td>0</td>\n",
              "      <td>0</td>\n",
              "      <td>0</td>\n",
              "      <td>0</td>\n",
              "      <td>0</td>\n",
              "      <td>0</td>\n",
              "    </tr>\n",
              "    <tr>\n",
              "      <th>1</th>\n",
              "      <td>0</td>\n",
              "      <td>0</td>\n",
              "      <td>0</td>\n",
              "      <td>0</td>\n",
              "      <td>1</td>\n",
              "      <td>2</td>\n",
              "      <td>0</td>\n",
              "      <td>0</td>\n",
              "      <td>0</td>\n",
              "      <td>0</td>\n",
              "      <td>0</td>\n",
              "      <td>0</td>\n",
              "      <td>0</td>\n",
              "      <td>2</td>\n",
              "      <td>1</td>\n",
              "      <td>1</td>\n",
              "      <td>1</td>\n",
              "      <td>0</td>\n",
              "      <td>0</td>\n",
              "      <td>0</td>\n",
              "      <td>0</td>\n",
              "      <td>0</td>\n",
              "      <td>0</td>\n",
              "      <td>0</td>\n",
              "      <td>0</td>\n",
              "      <td>0</td>\n",
              "      <td>0</td>\n",
              "      <td>0</td>\n",
              "      <td>0</td>\n",
              "      <td>0</td>\n",
              "      <td>0</td>\n",
              "      <td>0</td>\n",
              "      <td>0</td>\n",
              "      <td>0</td>\n",
              "      <td>0</td>\n",
              "      <td>0</td>\n",
              "      <td>0</td>\n",
              "      <td>0</td>\n",
              "      <td>2</td>\n",
              "      <td>0</td>\n",
              "      <td>...</td>\n",
              "      <td>0</td>\n",
              "      <td>0</td>\n",
              "      <td>0</td>\n",
              "      <td>0</td>\n",
              "      <td>0</td>\n",
              "      <td>0</td>\n",
              "      <td>0</td>\n",
              "      <td>0</td>\n",
              "      <td>0</td>\n",
              "      <td>0</td>\n",
              "      <td>0</td>\n",
              "      <td>0</td>\n",
              "      <td>0</td>\n",
              "      <td>0</td>\n",
              "      <td>0</td>\n",
              "      <td>0</td>\n",
              "      <td>0</td>\n",
              "      <td>0</td>\n",
              "      <td>0</td>\n",
              "      <td>0</td>\n",
              "      <td>0</td>\n",
              "      <td>0</td>\n",
              "      <td>0</td>\n",
              "      <td>0</td>\n",
              "      <td>0</td>\n",
              "      <td>0</td>\n",
              "      <td>1</td>\n",
              "      <td>0</td>\n",
              "      <td>0</td>\n",
              "      <td>0</td>\n",
              "      <td>0</td>\n",
              "      <td>0</td>\n",
              "      <td>0</td>\n",
              "      <td>0</td>\n",
              "      <td>0</td>\n",
              "      <td>0</td>\n",
              "      <td>0</td>\n",
              "      <td>1</td>\n",
              "      <td>0</td>\n",
              "      <td>0</td>\n",
              "    </tr>\n",
              "  </tbody>\n",
              "</table>\n",
              "<p>2 rows × 891 columns</p>\n",
              "</div>"
            ],
            "text/plain": [
              "need_sku  31    69    88    94    98    ...  4932  5014  5036  5048  5049\n",
              "all_sku                                 ...                              \n",
              "0            0     0     0     0     0  ...     0     0     0     0     0\n",
              "1            0     0     0     0     1  ...     0     0     1     0     0\n",
              "\n",
              "[2 rows x 891 columns]"
            ]
          },
          "metadata": {},
          "execution_count": 35
        }
      ]
    },
    {
      "cell_type": "code",
      "metadata": {
        "id": "NsP8OqxM-aIP"
      },
      "source": [
        "# shape of the Utility matrix (original matrix) \n",
        "crosstab.shape"
      ],
      "execution_count": null,
      "outputs": []
    },
    {
      "cell_type": "code",
      "metadata": {
        "id": "WYGFHr2IJ09u"
      },
      "source": [
        "not_observed=set(sku_ids_we_need)-set(crosstab.columns)"
      ],
      "execution_count": null,
      "outputs": []
    },
    {
      "cell_type": "code",
      "metadata": {
        "id": "STsGBGmnKozH"
      },
      "source": [
        "not_observed"
      ],
      "execution_count": null,
      "outputs": []
    },
    {
      "cell_type": "code",
      "metadata": {
        "id": "lU4nSosyAX4t",
        "colab": {
          "base_uri": "https://localhost:8080/"
        },
        "outputId": "1e7a4533-6ac8-4f17-b32d-0683acdb5473"
      },
      "source": [
        "# Transpose the Utility matrix\n",
        "X = crosstab.values.T\n",
        "X.shape"
      ],
      "execution_count": 36,
      "outputs": [
        {
          "output_type": "execute_result",
          "data": {
            "text/plain": [
              "(891, 4493)"
            ]
          },
          "metadata": {},
          "execution_count": 36
        }
      ]
    },
    {
      "cell_type": "markdown",
      "metadata": {
        "id": "O8UJENLJlt1J"
      },
      "source": [
        "sku_need now in rows \n",
        "decompose"
      ]
    },
    {
      "cell_type": "code",
      "metadata": {
        "id": "CUni0okVAbY3"
      },
      "source": [
        "import sklearn\n",
        "from sklearn.decomposition import TruncatedSVD\n",
        "from sklearn.metrics import accuracy_score"
      ],
      "execution_count": 37,
      "outputs": []
    },
    {
      "cell_type": "code",
      "metadata": {
        "id": "Ce_RZr93AhsO",
        "colab": {
          "base_uri": "https://localhost:8080/"
        },
        "outputId": "ac187298-f699-4e0c-fecc-63a742ed82da"
      },
      "source": [
        "SVD = TruncatedSVD(n_components=30, random_state=42)\n",
        "result_matrix = SVD.fit_transform(X)\n",
        "result_matrix.shape"
      ],
      "execution_count": 38,
      "outputs": [
        {
          "output_type": "execute_result",
          "data": {
            "text/plain": [
              "(891, 30)"
            ]
          },
          "metadata": {},
          "execution_count": 38
        }
      ]
    },
    {
      "cell_type": "markdown",
      "metadata": {
        "id": "4mXCR8kHBEnb"
      },
      "source": [
        "Generating a Correlation Matrix\n",
        "We calculated PearsonR coefficient for every restaurant pair in the result_matrix. The correlation-based on similarities between users' tastes."
      ]
    },
    {
      "cell_type": "code",
      "metadata": {
        "id": "RrsyCgWEtZP_"
      },
      "source": [
        "import numpy as np"
      ],
      "execution_count": 39,
      "outputs": []
    },
    {
      "cell_type": "code",
      "metadata": {
        "id": "7kUsYrKEBFkq",
        "colab": {
          "base_uri": "https://localhost:8080/"
        },
        "outputId": "202820ec-6047-4fb8-a882-f2694587a2ef"
      },
      "source": [
        "# PearsonR coef \n",
        "corr_matrix = np.corrcoef(result_matrix)\n",
        "corr_matrix.shape"
      ],
      "execution_count": 40,
      "outputs": [
        {
          "output_type": "execute_result",
          "data": {
            "text/plain": [
              "(891, 891)"
            ]
          },
          "metadata": {},
          "execution_count": 40
        }
      ]
    },
    {
      "cell_type": "code",
      "metadata": {
        "id": "zt8vhwhYryMY"
      },
      "source": [
        "some_sku=811"
      ],
      "execution_count": null,
      "outputs": []
    },
    {
      "cell_type": "code",
      "metadata": {
        "colab": {
          "base_uri": "https://localhost:8080/"
        },
        "id": "POYEUggdqY__",
        "outputId": "d658aa69-a6e1-414f-ccd0-b0dd16f4f368"
      },
      "source": [
        "some_sku_vector = corr_matrix[some_sku]\n",
        "some_sku_vector.shape  "
      ],
      "execution_count": null,
      "outputs": [
        {
          "output_type": "execute_result",
          "data": {
            "text/plain": [
              "(891,)"
            ]
          },
          "metadata": {},
          "execution_count": 94
        }
      ]
    },
    {
      "cell_type": "code",
      "metadata": {
        "id": "JwVt90wpBWS6",
        "colab": {
          "base_uri": "https://localhost:8080/"
        },
        "outputId": "c6723e1b-ca6d-4df1-8057-8bb3056712cd"
      },
      "source": [
        "#Recommend Highly Correlated \n",
        "sorted(list(crosstab.columns[(some_sku_vector < 1.0) & (some_sku_vector > 0.70)]))[:20]"
      ],
      "execution_count": null,
      "outputs": [
        {
          "output_type": "execute_result",
          "data": {
            "text/plain": [
              "[31,\n",
              " 69,\n",
              " 88,\n",
              " 94,\n",
              " 98,\n",
              " 99,\n",
              " 121,\n",
              " 122,\n",
              " 123,\n",
              " 124,\n",
              " 141,\n",
              " 153,\n",
              " 155,\n",
              " 156,\n",
              " 157,\n",
              " 158,\n",
              " 159,\n",
              " 160,\n",
              " 161,\n",
              " 162]"
            ]
          },
          "metadata": {},
          "execution_count": 95
        }
      ]
    },
    {
      "cell_type": "markdown",
      "metadata": {
        "id": "aT0IMLydtMhx"
      },
      "source": [
        "## network KERAS"
      ]
    },
    {
      "cell_type": "code",
      "metadata": {
        "id": "iinHLe61uoPS"
      },
      "source": [
        "from sklearn.model_selection import train_test_split\n",
        "\n",
        "X = dataframe[['all', 'need']].values\n",
        "Y = dataframe['frequency'].values\n"
      ],
      "execution_count": null,
      "outputs": []
    },
    {
      "cell_type": "code",
      "metadata": {
        "id": "8d6BEx2Lu_UT"
      },
      "source": [
        "x_train_array = [x_train_keras[:, 0], x_train_keras[:, 1]]\n",
        "x_test_array = [x_test_keras[:, 0], x_test_keras[:, 1]]"
      ],
      "execution_count": null,
      "outputs": []
    },
    {
      "cell_type": "code",
      "metadata": {
        "id": "C-iE2bgbvtKC"
      },
      "source": [
        "class EmbeddingLayer:\n",
        "    def __init__(self, n_items, n_factors):\n",
        "        self.n_items = n_items\n",
        "        self.n_factors = n_factors\n",
        "    \n",
        "    def __call__(self, x):\n",
        "        x = Embedding(self.n_items, self.n_factors, embeddings_initializer='he_normal', embeddings_regularizer=l2(1e-6))(x)\n",
        "        return x"
      ],
      "execution_count": null,
      "outputs": []
    },
    {
      "cell_type": "code",
      "metadata": {
        "id": "AlsNGNHIv4qn"
      },
      "source": [
        "def Recommender(all_n, need_n, n_factors, min_r, max_r):\n",
        "    sku = Input(shape=[1],)\n",
        "    u = EmbeddingLayer(all_n+1, n_factors)(sku)\n",
        "    e1=Flatten()(u)\n",
        "    \n",
        "    need = Input(shape=(1,))\n",
        "    m = EmbeddingLayer(need_n+1, n_factors)(need)\n",
        "    e2=Flatten()(m) \n",
        "    \n",
        "    #prod = Dot([e1, e2], name='dot-product')\n",
        "    prod=x = Dot(axes=1)([e1, e2])\n",
        "    \n",
        "    model = Model(inputs=[sku, need], outputs=prod)\n",
        "    #opt = Adam(lr=0.001)\n",
        "\n",
        "    model.compile(loss='mean_squared_error', optimizer=\"adam\", metrics='accuracy')  \n",
        "    \n",
        "    return model"
      ],
      "execution_count": null,
      "outputs": []
    },
    {
      "cell_type": "code",
      "metadata": {
        "colab": {
          "base_uri": "https://localhost:8080/"
        },
        "id": "NEFV5ZwhwIzE",
        "outputId": "b1057471-447d-4445-e6ab-c04bfd88f2ff"
      },
      "source": [
        "keras_model = Recommender(all_n, need_n, n_factors, min_r, max_r)\n",
        "keras_model.summary()"
      ],
      "execution_count": null,
      "outputs": [
        {
          "output_type": "stream",
          "name": "stdout",
          "text": [
            "Model: \"model_9\"\n",
            "__________________________________________________________________________________________________\n",
            " Layer (type)                   Output Shape         Param #     Connected to                     \n",
            "==================================================================================================\n",
            " input_19 (InputLayer)          [(None, 1)]          0           []                               \n",
            "                                                                                                  \n",
            " input_20 (InputLayer)          [(None, 1)]          0           []                               \n",
            "                                                                                                  \n",
            " embedding_28 (Embedding)       (None, 1, 30)        134580      ['input_19[0][0]']               \n",
            "                                                                                                  \n",
            " embedding_29 (Embedding)       (None, 1, 30)        26670       ['input_20[0][0]']               \n",
            "                                                                                                  \n",
            " flatten_15 (Flatten)           (None, 30)           0           ['embedding_28[0][0]']           \n",
            "                                                                                                  \n",
            " flatten_16 (Flatten)           (None, 30)           0           ['embedding_29[0][0]']           \n",
            "                                                                                                  \n",
            " dot_6 (Dot)                    (None, 1)            0           ['flatten_15[0][0]',             \n",
            "                                                                  'flatten_16[0][0]']             \n",
            "                                                                                                  \n",
            "==================================================================================================\n",
            "Total params: 161,250\n",
            "Trainable params: 161,250\n",
            "Non-trainable params: 0\n",
            "__________________________________________________________________________________________________\n"
          ]
        }
      ]
    },
    {
      "cell_type": "code",
      "metadata": {
        "colab": {
          "base_uri": "https://localhost:8080/"
        },
        "id": "-gX5sffuwrn3",
        "outputId": "564ea160-090f-4e7b-b2ad-c49eba213d31"
      },
      "source": [
        "keras_model.fit(x=x_train_array, y=y_train_keras, batch_size=4,\\\n",
        "                          epochs=5, verbose=1, validation_data=(x_test_array, y_test_keras))"
      ],
      "execution_count": null,
      "outputs": [
        {
          "output_type": "stream",
          "name": "stdout",
          "text": [
            "Epoch 1/5\n",
            "83954/83954 [==============================] - 325s 4ms/step - loss: 640.9331 - accuracy: 0.4066 - val_loss: 762.7859 - val_accuracy: 0.4056\n",
            "Epoch 2/5\n",
            "83954/83954 [==============================] - 454s 5ms/step - loss: 612.0815 - accuracy: 0.4053 - val_loss: 730.1923 - val_accuracy: 0.4022\n",
            "Epoch 3/5\n",
            "83954/83954 [==============================] - 440s 5ms/step - loss: 592.0943 - accuracy: 0.4027 - val_loss: 705.1118 - val_accuracy: 0.4022\n",
            "Epoch 4/5\n",
            "83954/83954 [==============================] - 304s 4ms/step - loss: 573.5153 - accuracy: 0.4010 - val_loss: 675.4126 - val_accuracy: 0.4006\n",
            "Epoch 5/5\n",
            "83954/83954 [==============================] - 313s 4ms/step - loss: 555.2936 - accuracy: 0.3989 - val_loss: 651.4128 - val_accuracy: 0.3976\n"
          ]
        },
        {
          "output_type": "execute_result",
          "data": {
            "text/plain": [
              "<keras.callbacks.History at 0x7f373d2f4f50>"
            ]
          },
          "metadata": {},
          "execution_count": 210
        }
      ]
    },
    {
      "cell_type": "code",
      "metadata": {
        "id": "f7o_xCotFTpJ"
      },
      "source": [
        "model.save(\"/content/model.h5\")"
      ],
      "execution_count": null,
      "outputs": []
    },
    {
      "cell_type": "code",
      "metadata": {
        "id": "wNbCN8ptw3u2"
      },
      "source": [
        "predictions = keras_model.predict(x_test_array)"
      ],
      "execution_count": null,
      "outputs": []
    },
    {
      "cell_type": "code",
      "metadata": {
        "id": "MntMWmQXxD_Y"
      },
      "source": [
        "# create the df_test table with prediction results\n",
        "df_test = pd.DataFrame(X_test_keras[:,0])\n",
        "df_test.rename(columns={0: \"all\"}, inplace=True)\n",
        "df_test['all'] = X_test_keras[:,1]\n",
        "df_test['frequency'] = y_test_keras\n",
        "df_test[\"predictions\"] = predictions\n",
        "df_test.head()"
      ],
      "execution_count": null,
      "outputs": []
    },
    {
      "cell_type": "markdown",
      "metadata": {
        "id": "6yq8iufPgmuW"
      },
      "source": [
        "mapper:"
      ]
    },
    {
      "cell_type": "code",
      "metadata": {
        "colab": {
          "base_uri": "https://localhost:8080/",
          "height": 111
        },
        "id": "6Ja9lJ6Zwx8Q",
        "outputId": "ce34e917-ff57-4f99-fa12-d252eac161ac"
      },
      "source": [
        "df_need1.head(2)"
      ],
      "execution_count": null,
      "outputs": [
        {
          "output_type": "execute_result",
          "data": {
            "text/html": [
              "<div>\n",
              "<style scoped>\n",
              "    .dataframe tbody tr th:only-of-type {\n",
              "        vertical-align: middle;\n",
              "    }\n",
              "\n",
              "    .dataframe tbody tr th {\n",
              "        vertical-align: top;\n",
              "    }\n",
              "\n",
              "    .dataframe thead th {\n",
              "        text-align: right;\n",
              "    }\n",
              "</style>\n",
              "<table border=\"1\" class=\"dataframe\">\n",
              "  <thead>\n",
              "    <tr style=\"text-align: right;\">\n",
              "      <th></th>\n",
              "      <th>sku_id</th>\n",
              "      <th>price</th>\n",
              "      <th>number</th>\n",
              "      <th>cheque_id</th>\n",
              "      <th>litrs</th>\n",
              "      <th>client_id</th>\n",
              "      <th>shop_id</th>\n",
              "      <th>date</th>\n",
              "    </tr>\n",
              "  </thead>\n",
              "  <tbody>\n",
              "    <tr>\n",
              "      <th>11</th>\n",
              "      <td>558</td>\n",
              "      <td>0.011237</td>\n",
              "      <td>0.000452</td>\n",
              "      <td>1386544</td>\n",
              "      <td>0.104183</td>\n",
              "      <td>NaN</td>\n",
              "      <td>94</td>\n",
              "      <td>2171-07-23</td>\n",
              "    </tr>\n",
              "    <tr>\n",
              "      <th>12</th>\n",
              "      <td>558</td>\n",
              "      <td>0.011237</td>\n",
              "      <td>0.000452</td>\n",
              "      <td>1386544</td>\n",
              "      <td>0.104183</td>\n",
              "      <td>NaN</td>\n",
              "      <td>94</td>\n",
              "      <td>2171-07-23</td>\n",
              "    </tr>\n",
              "  </tbody>\n",
              "</table>\n",
              "</div>"
            ],
            "text/plain": [
              "    sku_id     price    number  ...  client_id  shop_id       date\n",
              "11     558  0.011237  0.000452  ...        NaN       94 2171-07-23\n",
              "12     558  0.011237  0.000452  ...        NaN       94 2171-07-23\n",
              "\n",
              "[2 rows x 8 columns]"
            ]
          },
          "metadata": {},
          "execution_count": 17
        }
      ]
    },
    {
      "cell_type": "code",
      "metadata": {
        "id": "AnRgjRuM3TGE"
      },
      "source": [
        "df_need.drop_duplicates"
      ],
      "execution_count": null,
      "outputs": []
    },
    {
      "cell_type": "code",
      "metadata": {
        "id": "pgvjjHPUbcPO"
      },
      "source": [
        "df_need=df_need[df_need.number!=0.000000]"
      ],
      "execution_count": null,
      "outputs": []
    },
    {
      "cell_type": "code",
      "metadata": {
        "colab": {
          "base_uri": "https://localhost:8080/"
        },
        "id": "sbadtBLpV1B_",
        "outputId": "4670e5fc-16ea-4c12-8b51-164e3477fb6f"
      },
      "source": [
        "data[0]"
      ],
      "execution_count": null,
      "outputs": [
        {
          "output_type": "execute_result",
          "data": {
            "text/plain": [
              "[804, 373, 190, 122, 580, 2001, 2389]"
            ]
          },
          "metadata": {},
          "execution_count": 4
        }
      ]
    },
    {
      "cell_type": "code",
      "metadata": {
        "colab": {
          "base_uri": "https://localhost:8080/"
        },
        "id": "samProSDZIRl",
        "outputId": "3d0680e5-7d52-4da8-f840-6504ee102b24"
      },
      "source": [
        "len(data.items())"
      ],
      "execution_count": null,
      "outputs": [
        {
          "output_type": "execute_result",
          "data": {
            "text/plain": [
              "4497"
            ]
          },
          "metadata": {},
          "execution_count": 12
        }
      ]
    },
    {
      "cell_type": "markdown",
      "metadata": {
        "id": "09zhfeGp0sIR"
      },
      "source": [
        "##KMEANS"
      ]
    },
    {
      "cell_type": "code",
      "metadata": {
        "id": "m4Cj3r0FrRxx"
      },
      "source": [
        "from sklearn.cluster import KMeans\n",
        "import numpy as np"
      ],
      "execution_count": 26,
      "outputs": []
    },
    {
      "cell_type": "code",
      "metadata": {
        "id": "XB8PufJGyh9d"
      },
      "source": [
        "def pad(seq):\n",
        "  m_length=40408\n",
        "  p=m_length-len(seq)\n",
        "  padded=seq+[0]*p\n",
        "  return padded"
      ],
      "execution_count": 27,
      "outputs": []
    },
    {
      "cell_type": "code",
      "metadata": {
        "colab": {
          "base_uri": "https://localhost:8080/"
        },
        "id": "3kVwBG7eWu6K",
        "outputId": "d92d6dc8-b62d-4ab3-e689-56fcf3ac615b"
      },
      "source": [
        "type(data)"
      ],
      "execution_count": null,
      "outputs": [
        {
          "output_type": "execute_result",
          "data": {
            "text/plain": [
              "collections.defaultdict"
            ]
          },
          "metadata": {},
          "execution_count": 8
        }
      ]
    },
    {
      "cell_type": "code",
      "metadata": {
        "colab": {
          "base_uri": "https://localhost:8080/"
        },
        "id": "2bQq9uSWN45E",
        "outputId": "a32e5a3b-272b-442b-f42e-3791622c37df"
      },
      "source": [
        "type(all_cheques)"
      ],
      "execution_count": 55,
      "outputs": [
        {
          "output_type": "execute_result",
          "data": {
            "text/plain": [
              "collections.defaultdict"
            ]
          },
          "metadata": {},
          "execution_count": 55
        }
      ]
    },
    {
      "cell_type": "code",
      "metadata": {
        "id": "r-bWTY-Awmi1"
      },
      "source": [
        "x=[pad(i) for i in list(all_cheques.values())]"
      ],
      "execution_count": null,
      "outputs": []
    },
    {
      "cell_type": "code",
      "metadata": {
        "id": "nSXNApYgY3BY"
      },
      "source": [
        "X=np.vstack(x)"
      ],
      "execution_count": null,
      "outputs": []
    },
    {
      "cell_type": "code",
      "metadata": {
        "colab": {
          "base_uri": "https://localhost:8080/"
        },
        "id": "CzSh4MS3Y-cD",
        "outputId": "369e6024-22be-4eb7-9a24-4eb87000c95e"
      },
      "source": [
        "X.shape"
      ],
      "execution_count": null,
      "outputs": [
        {
          "output_type": "execute_result",
          "data": {
            "text/plain": [
              "(4497, 40408)"
            ]
          },
          "metadata": {},
          "execution_count": 11
        }
      ]
    },
    {
      "cell_type": "code",
      "metadata": {
        "id": "_WgAlKKhxX3E"
      },
      "source": [
        "#for i in list(sku_need_to_freq.values()):\n",
        "  \n",
        "  x.append(np.array(pad(i)))"
      ],
      "execution_count": null,
      "outputs": []
    },
    {
      "cell_type": "code",
      "metadata": {
        "id": "GFcjkJuTSUwc"
      },
      "source": [
        "#we_need_sku_in_one_cheque_pd=pd.DataFrame(x)"
      ],
      "execution_count": null,
      "outputs": []
    },
    {
      "cell_type": "code",
      "metadata": {
        "id": "n5ToTf38BbJ-"
      },
      "source": [
        "l=[len(i) for i in x]"
      ],
      "execution_count": null,
      "outputs": []
    },
    {
      "cell_type": "code",
      "metadata": {
        "colab": {
          "base_uri": "https://localhost:8080/"
        },
        "id": "SwcS-C7LCXgm",
        "outputId": "b4cb177b-7fd4-4a26-e650-5a21c5bb4e0a"
      },
      "source": [
        "print(max(l), min(l))"
      ],
      "execution_count": null,
      "outputs": [
        {
          "output_type": "stream",
          "name": "stdout",
          "text": [
            "40408 50\n"
          ]
        }
      ]
    },
    {
      "cell_type": "code",
      "metadata": {
        "colab": {
          "base_uri": "https://localhost:8080/"
        },
        "id": "VxEPSTiMQiC2",
        "outputId": "a90fbe16-2bf3-41dd-84d4-16d6901df88d"
      },
      "source": [
        "len(x)"
      ],
      "execution_count": null,
      "outputs": [
        {
          "output_type": "execute_result",
          "data": {
            "text/plain": [
              "4505"
            ]
          },
          "metadata": {},
          "execution_count": 57
        }
      ]
    },
    {
      "cell_type": "code",
      "metadata": {
        "id": "O1plGwrVyDmd",
        "colab": {
          "base_uri": "https://localhost:8080/"
        },
        "outputId": "6223c7f4-5368-4e15-8fbb-a2b607e9551f"
      },
      "source": [
        "X[2]"
      ],
      "execution_count": null,
      "outputs": [
        {
          "output_type": "execute_result",
          "data": {
            "text/plain": [
              "array([ 407, 1412, 2242, ...,    0,    0,    0])"
            ]
          },
          "metadata": {},
          "execution_count": 13
        }
      ]
    },
    {
      "cell_type": "code",
      "metadata": {
        "id": "QbrAaFLAsDHR"
      },
      "source": [
        "kmeans = KMeans(n_clusters=40) #Applying Kmeans classifier\n",
        "kmeans_clusters = kmeans.fit_predict(X)\n",
        "#print(kmeans.cluster_centers_) #display cluster centers\n"
      ],
      "execution_count": null,
      "outputs": []
    },
    {
      "cell_type": "markdown",
      "metadata": {
        "id": "Its6-YHhMKeK"
      },
      "source": [
        "## X2"
      ]
    },
    {
      "cell_type": "code",
      "metadata": {
        "id": "fEKwNpvFMNnK"
      },
      "source": [
        "X2=cheque_ones.values"
      ],
      "execution_count": null,
      "outputs": []
    },
    {
      "cell_type": "code",
      "metadata": {
        "id": "7li00W9wMmFu"
      },
      "source": [
        "X2"
      ],
      "execution_count": null,
      "outputs": []
    },
    {
      "cell_type": "code",
      "metadata": {
        "colab": {
          "base_uri": "https://localhost:8080/"
        },
        "id": "9e13kljeL9Iz",
        "outputId": "39f65885-81e3-4aa3-e388-660ef6312ad0"
      },
      "source": [
        "kmeans2 = KMeans(n_clusters=10) #Applying Kmeans classifier\n",
        "y_2 = kmeans2.fit_predict(X2)\n",
        "#print(kmeans2.cluster_centers_) #display cluster centers"
      ],
      "execution_count": null,
      "outputs": [
        {
          "output_type": "stream",
          "name": "stdout",
          "text": [
            "[[ 5.26627203e-02  1.55361188e-01  2.25936082e-01  1.25415344e-01\n",
            "   7.93570354e-03  3.11456504e-03  2.38043713e-03  1.14824179e+00\n",
            "   5.64894990e-02  1.76683769e-03  1.16523630e-01  5.52540822e-02\n",
            "   1.02175265e-03  1.35594520e-03  5.47856648e-06  5.47856648e-06\n",
            "   8.21784972e-06  1.91749827e-05  6.06312952e-02  1.80792694e-04\n",
            "   1.39703445e-04  6.31815679e-02  7.76860727e-03  4.66226007e-03\n",
            "   5.70017449e-02  4.65678151e-03  1.98707606e-02  1.68493312e-01\n",
            "   1.45729868e-03  2.99020158e-02  6.35267176e-02  1.97228393e-04\n",
            "   1.09571330e-05  1.91749827e-05  1.37977697e-02  3.86293722e-02\n",
            "   6.08915271e-02]\n",
            " [ 2.53219965e-02  9.24915453e-02  8.78564747e-02  4.56491497e-02\n",
            "   4.67704411e-03  1.49905260e-03  1.60098818e-03  2.19569232e-01\n",
            "   1.93797520e-02  8.21480824e-04  8.33053510e-02  5.85350059e-01\n",
            "   6.77571775e-04  1.04334061e-03 -6.96896357e-18  1.19924208e-05\n",
            "   5.99621040e-05  2.23227063e-17  8.71549181e-02  1.43909049e-04\n",
            "   7.19545247e-05  4.12659199e-02  3.27992709e-03  2.22459406e-03\n",
            "   1.34159211e-01  2.80142950e-02  6.02439258e-02  1.70076512e+00\n",
            "   1.36713597e-03  2.54539131e-02  4.36883889e-02  1.61897681e-04\n",
            "  -7.35732818e-18  1.79886312e-05  9.09025496e-03  3.78900535e-02\n",
            "   1.45108292e-01]\n",
            " [ 3.37136643e-02  1.74416140e-01  1.82111850e-01  9.64175776e-02\n",
            "   7.08281875e-03  2.79257525e-03  2.64511253e-03  3.65661462e-02\n",
            "   4.37134799e-02  1.65895560e-03  1.07366684e-01  2.16447623e-02\n",
            "   1.01380620e-03  1.44236973e-03  9.21641997e-06  1.38246300e-05\n",
            "   3.68656799e-05  9.21641997e-06  1.73185748e-01  1.70503770e-04\n",
            "   1.52070930e-04  2.44511622e-02  4.09669868e-03  2.92160513e-03\n",
            "   1.19670605e+00  3.05800815e-02  1.79028958e-02  2.88331091e-01\n",
            "   1.05988830e-03  2.43682144e-02  4.95520820e-02  1.01380620e-04\n",
            "   2.76492599e-05  3.22574699e-05  1.13822787e-02  2.87506221e-02\n",
            "   1.15020921e-02]\n",
            " [ 5.00057462e-02  1.71017410e-01  3.31433825e-01 -2.67133538e-13\n",
            "   5.88912964e-03  1.86120042e-03  1.39309730e-03  2.76545231e-02\n",
            "   2.84449727e-02  2.01816913e-03  8.40707593e-02  1.02382561e+00\n",
            "   7.17571246e-04  8.96964057e-04  2.80301268e-06  2.80301268e-06\n",
            "   5.60602536e-06  8.40903803e-06  2.43876118e-01  2.41059090e-04\n",
            "   4.48482028e-05  6.00573496e-02  6.02087123e-03  3.29073688e-03\n",
            "   1.05533427e-02  1.81130679e-02  7.95523028e-02  3.64587859e-02\n",
            "   2.20316796e-03  7.15412926e-02  9.15267730e-02  4.54088054e-04\n",
            "   2.80301268e-06  2.80301268e-05  8.45388624e-03  1.59519452e-02\n",
            "   8.37259887e-03]\n",
            " [ 2.59119833e-02  5.80726529e-02  1.18533947e-01  7.18694464e-02\n",
            "   5.67541228e-03  9.93674877e-04  3.19122509e-03  2.30398808e-01\n",
            "   4.54224074e-02  1.50962145e-03  9.68833005e-02  6.49729606e-01\n",
            "   5.15946571e-04  4.01291777e-04  3.89719859e-18 -5.58702932e-18\n",
            "   1.91091323e-05  1.48349350e-17  2.23259636e+00  2.10200455e-04\n",
            "   1.71982190e-04  1.20903480e-01  4.49064608e-03  4.94926525e-03\n",
            "   3.22275515e-01  4.81167950e-02  6.52767958e-02  1.56312702e-01\n",
            "   8.21692687e-04  1.67204907e-02  4.00718503e-02  5.73273968e-05\n",
            "   5.25838054e-18  1.91091323e-05  6.72641455e-03  4.55370622e-02\n",
            "   1.36439204e-01]\n",
            " [ 3.50257750e-02  9.10246452e-02  1.58463385e-01  1.10726644e-01\n",
            "   8.75644375e-03  3.74267354e-03  3.24835817e-03  3.83306264e-01\n",
            "   3.21304993e-02  1.20048019e-03  1.59028317e-01  3.42772403e-01\n",
            "   5.64931855e-04  2.33034390e-03 -8.89384595e-19 -2.05236083e-18\n",
            "   3.71000431e-18 -1.51957711e-18  1.18565073e-01  2.11849446e-04\n",
            "   7.06164819e-05  5.63519525e-02  6.14363392e-03  6.84979874e-03\n",
            "   2.60645435e-01  7.34411412e-02  3.79916673e-02  5.52178518e+00\n",
            "   2.25972742e-03  3.13537180e-02  5.15500318e-02  2.82465928e-04\n",
            "  -1.25022063e-18  5.52604295e-18  1.30640491e-02  8.48810112e-02\n",
            "   2.59374338e-01]\n",
            " [ 4.80741511e-02  1.70281910e-01  1.94685897e-01  1.12847146e-01\n",
            "   7.87549468e-03  2.97460448e-03  1.62052608e-03  2.95887970e-02\n",
            "   2.14424866e-02  1.69914999e-03  9.85375953e-02  1.74457713e-02\n",
            "   1.35407840e-03  1.52443020e-03  4.36799483e-06  8.73598966e-06\n",
            "   1.31039845e-05  2.18399741e-05  8.69929850e-02  2.35871721e-04\n",
            "   1.57247814e-04  1.73889874e-02  5.39447361e-03  2.54217299e-03\n",
            "   4.15614708e-02  2.34736042e-02  1.13786265e-02  3.26424622e-01\n",
            "   1.13567866e-03  2.28315090e-02  5.09482917e-02  1.44143829e-04\n",
            "  -3.30452964e-17  1.31039845e-05  1.51001581e-02  2.68631682e-02\n",
            "   1.18224585e+00]\n",
            " [ 5.46160339e-14  1.67199588e-13  1.40248924e-13  1.00136414e+00\n",
            "   4.25550844e-03  1.21585955e-03  8.00687999e-04  5.37498888e-02\n",
            "   2.05954746e-02  2.41689155e-03  6.09264257e-02  9.87218647e-01\n",
            "   9.04480887e-04  4.44826666e-04  5.21518186e-18 -5.88094975e-18\n",
            "   2.96551111e-05  1.72794721e-17  1.38029714e-01  2.07585777e-04\n",
            "   2.96551111e-05  2.76385635e-02  8.39239643e-03  2.55033955e-03\n",
            "   1.40268675e-02  1.56134160e-02  7.49384656e-02  8.83574034e-02\n",
            "  -9.69059902e-16  2.86298762e-14  7.04020175e-14 -2.36410284e-16\n",
            "   6.11049568e-18  1.48275555e-05  9.35618754e-03  1.58803120e-02\n",
            "   1.38192818e-02]\n",
            " [ 5.74253608e-02  7.09210091e-02  1.75002754e-01  1.14602842e-01\n",
            "   8.78594249e-03  1.95549190e-03  8.67577393e-03  4.97824171e-01\n",
            "   6.75608681e-02  2.36862399e-03  2.41431640e+00  3.05662664e-01\n",
            "   9.91517021e-04  4.95758511e-04  9.44441736e-20 -5.00850582e-18\n",
            "   2.75421395e-05  1.00170116e-17  1.09948221e-01  2.75421395e-04\n",
            "   8.26264184e-05  6.64316404e-02  8.84102677e-03  1.21736256e-02\n",
            "   2.58923653e-01  1.88636113e-01  8.70607029e-02  2.12542690e-01\n",
            "   1.62498623e-03  3.43725901e-02  6.18596453e-02  3.85589953e-04\n",
            "   3.57871420e-18 -8.69394617e-18  1.56439352e-02  1.08213066e-01\n",
            "   2.07474937e-01]\n",
            " [ 4.82927266e-02  1.06584557e-01  2.35254203e-01  1.35775283e-01\n",
            "   7.40010498e-03  2.08688082e-03  1.31102206e-02  2.29889767e-01\n",
            "   8.77258120e-02  1.74120117e-03  1.88344195e-01  7.61263395e-02\n",
            "   8.83403536e-04  6.91359289e-04  2.42209071e-18 -6.01986316e-18\n",
            "   3.84088494e-05  2.56058996e-05  7.23366664e-02  2.30453096e-04\n",
            "   7.16965189e-04  9.99398261e-02  8.02744952e-03  6.23503655e-03\n",
            "   8.42050008e-02  1.40290883e+00  5.30938328e-02  1.10489457e-01\n",
            "   1.63877757e-03  3.32748665e-02  6.51286056e-02  3.96891444e-04\n",
            "   6.51368336e-18  1.29731566e-17  1.15354578e-02  5.00723367e-02\n",
            "   5.03283957e-02]]\n"
          ]
        }
      ]
    },
    {
      "cell_type": "code",
      "metadata": {
        "colab": {
          "base_uri": "https://localhost:8080/"
        },
        "id": "qy8BWZ64LuxY",
        "outputId": "3e1cd614-64ae-40f2-9c40-eafd6fa0247c"
      },
      "source": [
        "y_kmeans"
      ],
      "execution_count": null,
      "outputs": [
        {
          "output_type": "execute_result",
          "data": {
            "text/plain": [
              "array([8, 3, 7, ..., 4, 4, 4], dtype=int32)"
            ]
          },
          "metadata": {},
          "execution_count": 82
        }
      ]
    },
    {
      "cell_type": "code",
      "metadata": {
        "id": "hNWhfHltWuiV"
      },
      "source": [
        "import matplotlib.pyplot as plt"
      ],
      "execution_count": null,
      "outputs": []
    },
    {
      "cell_type": "code",
      "metadata": {
        "colab": {
          "base_uri": "https://localhost:8080/",
          "height": 163
        },
        "id": "N4tNghueD4ok",
        "outputId": "2498ebfd-d7e3-4031-e22e-020a445a6755"
      },
      "source": [
        "plt.scatter(y_2)"
      ],
      "execution_count": null,
      "outputs": [
        {
          "output_type": "error",
          "ename": "TypeError",
          "evalue": "ignored",
          "traceback": [
            "\u001b[0;31m---------------------------------------------------------------------------\u001b[0m",
            "\u001b[0;31mTypeError\u001b[0m                                 Traceback (most recent call last)",
            "\u001b[0;32m<ipython-input-84-26803e756dd3>\u001b[0m in \u001b[0;36m<module>\u001b[0;34m()\u001b[0m\n\u001b[0;32m----> 1\u001b[0;31m \u001b[0mframe\u001b[0m\u001b[0;34m=\u001b[0m\u001b[0mpd\u001b[0m\u001b[0;34m.\u001b[0m\u001b[0mDataFrame\u001b[0m\u001b[0;34m[\u001b[0m\u001b[0my_kmeans\u001b[0m\u001b[0;34m==\u001b[0m\u001b[0;36m0\u001b[0m\u001b[0;34m]\u001b[0m\u001b[0;34m\u001b[0m\u001b[0;34m\u001b[0m\u001b[0m\n\u001b[0m",
            "\u001b[0;31mTypeError\u001b[0m: 'type' object is not subscriptable"
          ]
        }
      ]
    },
    {
      "cell_type": "code",
      "metadata": {
        "colab": {
          "base_uri": "https://localhost:8080/"
        },
        "id": "LfT7MTERF83h",
        "outputId": "ba130a5a-db41-4e6d-8bae-c7ed584bad07"
      },
      "source": [
        "kmeans.predict(np.array(x[1]).reshape(1, -1))"
      ],
      "execution_count": null,
      "outputs": [
        {
          "output_type": "execute_result",
          "data": {
            "text/plain": [
              "array([3], dtype=int32)"
            ]
          },
          "metadata": {},
          "execution_count": 79
        }
      ]
    },
    {
      "cell_type": "code",
      "metadata": {
        "id": "O7JhxHrBMsjI"
      },
      "source": [
        "#######################################"
      ],
      "execution_count": null,
      "outputs": []
    },
    {
      "cell_type": "code",
      "metadata": {
        "id": "gz5sPdruMt5X"
      },
      "source": [
        "\n",
        "kmeans.labels_\n",
        "\n",
        "# Nice Pythonic way to get the indices of the points for each corresponding cluster\n",
        "mydict = {i: np.where(clf.labels_ == i)[0] for i in range(kmeans.n_clusters)}\n"
      ],
      "execution_count": null,
      "outputs": []
    },
    {
      "cell_type": "code",
      "metadata": {
        "id": "RvFC-aOwSH2D"
      },
      "source": [
        "# Transform this dictionary into list (if you need a list as result)\n",
        "dictlist = []\n",
        "for key, value in mydict.items():\n",
        "    temp = [key,value]\n",
        "    dictlist.append(temp)"
      ],
      "execution_count": null,
      "outputs": []
    },
    {
      "cell_type": "code",
      "metadata": {
        "colab": {
          "base_uri": "https://localhost:8080/"
        },
        "id": "KW1-hapqSOzv",
        "outputId": "4411cab1-e161-4a1a-a513-1309f1ab9c0b"
      },
      "source": [
        "dictlist"
      ],
      "execution_count": null,
      "outputs": [
        {
          "output_type": "execute_result",
          "data": {
            "text/plain": [
              "[[0, array([ 140,  291,  406, ..., 4494, 4495, 4496])],\n",
              " [1, array([222])],\n",
              " [2, array([ 672, 1151])],\n",
              " [3, array([141])],\n",
              " [4, array([  43,   50,   82,  136,  157,  162,  181,  205,  347,  507,  606,\n",
              "          696,  697,  734,  782,  828,  866,  869,  888,  965, 1008, 1588])],\n",
              " [5, array([220])],\n",
              " [6, array([  33,   60,   85,  104,  124,  137,  152,  169,  176,  178,  245,\n",
              "          251,  257,  282,  369,  370,  416,  427,  446,  450,  470,  508,\n",
              "          526,  538,  543,  551,  554,  565,  618,  627,  645,  653,  655,\n",
              "          668,  678,  680,  712,  713,  731,  767,  773,  786,  791,  817,\n",
              "          818,  824,  825,  830,  832,  834,  837,  846,  865,  867,  878,\n",
              "          892,  900,  912,  917,  922,  934,  949,  950,  973,  975,  979,\n",
              "          986, 1000, 1012, 1026, 1041, 1050, 1054, 1058, 1065, 1068, 1077,\n",
              "         1078, 1080, 1088, 1093, 1095, 1096, 1097, 1125, 1129, 1138, 1140,\n",
              "         1150, 1160, 1169, 1172, 1174, 1176, 1183, 1192, 1193, 1199, 1200,\n",
              "         1201, 1204, 1208, 1214, 1215, 1231, 1235, 1241, 1244, 1257, 1261,\n",
              "         1269, 1289, 1297, 1298, 1300, 1302, 1303, 1304, 1305, 1314, 1315,\n",
              "         1319, 1320, 1325, 1326, 1331, 1332, 1333, 1337, 1339, 1344, 1348,\n",
              "         1352, 1354, 1358, 1360, 1365, 1371, 1373, 1391, 1402, 1409, 1422,\n",
              "         1427, 1428, 1433, 1444, 1445, 1453, 1459, 1465, 1482, 1491, 1492,\n",
              "         1502, 1518, 1522, 1532, 1539, 1548, 1566, 1573, 1576, 1596, 1603,\n",
              "         1606, 1618, 1621, 1627, 1631, 1645, 1649, 1653, 1654, 1660, 1673,\n",
              "         1694, 1698, 1713, 1715, 1744, 1745, 1749, 1755, 1771, 1773, 1778,\n",
              "         1779, 1781, 1786, 1791, 1799, 1811, 1815, 1819, 1827, 1838, 1864,\n",
              "         1868, 1869, 1871, 1873, 1877, 1880, 1882, 1885, 1891, 1910, 1911,\n",
              "         1912, 1915, 1928, 1934, 1950, 1961, 1968, 1971, 1972, 1982, 1986,\n",
              "         1989, 2012, 2035, 2038, 2044, 2058, 2078, 2114, 2131, 2136, 2146,\n",
              "         2157, 2167, 2174, 2176, 2209, 2218, 2251, 2265, 2299, 2315, 2374,\n",
              "         2375, 2392, 2413, 2439, 2452, 2559, 2566, 2597, 2600, 2613, 2622,\n",
              "         2673, 2739, 2763, 2844, 2869, 2990, 3151, 3197, 3356, 3496, 3582,\n",
              "         3588, 3734, 3781, 3855, 4307, 4356])],\n",
              " [7, array([  66,   67,  138,  175,  366,  367,  380,  465,  522,  620,  723,\n",
              "          792,  972, 1006, 1122, 1146, 1164, 1167, 1171, 1186, 1203, 1218,\n",
              "         1250, 1286, 1295, 1475, 1692, 1794, 1923, 2199, 2354, 2793, 3684])],\n",
              " [8, array([55])],\n",
              " [9, array([53])],\n",
              " [10, array([440])],\n",
              " [11, array([12])],\n",
              " [12, array([37])],\n",
              " [13, array([715])],\n",
              " [14, array([192])],\n",
              " [15, array([  8,  45,  65,  76, 144, 151, 160, 201, 206, 266, 355, 358, 411,\n",
              "         608, 617, 719, 726, 771, 881])],\n",
              " [16, array([  20,   30,   39,   44,   52,   58,   61,   71,   73,   88,  111,\n",
              "          125,  128,  129,  149,  182,  197,  210,  223,  227,  228,  232,\n",
              "          249,  272,  318,  342,  377,  394,  405,  448,  451,  453,  461,\n",
              "          468,  483,  506,  552,  553,  560,  567,  573,  575,  576,  609,\n",
              "          623,  626,  633,  641,  692,  796,  823,  964, 1048])],\n",
              " [17, array([113])],\n",
              " [18, array([34])],\n",
              " [19, array([84])],\n",
              " [20, array([340, 381])],\n",
              " [21, array([83])],\n",
              " [22, array([150])],\n",
              " [23, array([213])],\n",
              " [24, array([321])],\n",
              " [25, array([56])],\n",
              " [26, array([ 115,  133,  161,  244,  253,  256,  259,  311,  333,  339,  373,\n",
              "          441,  452,  466,  496,  513,  541,  557,  612,  630,  656,  662,\n",
              "          671,  673,  707,  716,  736,  746,  755,  756,  759,  764,  776,\n",
              "          787,  801,  810,  821,  833,  870,  903,  909,  929,  931,  940,\n",
              "          957,  958,  961,  968, 1004, 1013, 1015, 1018, 1035, 1038, 1039,\n",
              "         1040, 1061, 1067, 1082, 1086, 1134, 1158, 1168, 1196, 1206, 1211,\n",
              "         1212, 1221, 1224, 1225, 1252, 1259, 1276, 1284, 1287, 1290, 1313,\n",
              "         1316, 1341, 1349, 1369, 1378, 1384, 1397, 1408, 1411, 1417, 1439,\n",
              "         1479, 1489, 1503, 1506, 1526, 1533, 1545, 1575, 1601, 1617, 1647,\n",
              "         1651, 1663, 1664, 1676, 1681, 1705, 1706, 1710, 1738, 1743, 1763,\n",
              "         1802, 1829, 1853, 1874, 1907, 1975, 2010, 2019, 2119, 2308, 2399,\n",
              "         3074, 3123, 4248])],\n",
              " [27, array([54])],\n",
              " [28, array([29])],\n",
              " [29, array([   5,   26,   32,   35,   38,   64,   96,  114,  147,  208,  237,\n",
              "          240,  261,  274,  312,  314,  375,  378,  385,  388,  403,  426,\n",
              "          438,  456,  492,  502,  511,  546,  548,  563,  598,  599,  603,\n",
              "          643,  647,  654,  665,  682,  714,  717,  718,  753,  797,  814,\n",
              "          829,  840,  845,  851,  863,  874,  885,  889,  901,  910,  920,\n",
              "          942,  943,  962, 1001, 1003, 1007, 1031, 1045, 1071, 1084, 1108,\n",
              "         1117, 1119, 1144, 1210, 1229, 1236, 1247, 1249, 1264, 1307, 1440,\n",
              "         1513, 1558, 1680, 1784, 2480, 3500, 4131, 4144])],\n",
              " [30, array([   9,   18,   31,   78,   98,  105,  127,  134,  154,  155,  165,\n",
              "          167,  183,  200,  203,  242,  243,  252,  255,  276,  313,  327,\n",
              "          334,  337,  344,  350,  360,  362,  399,  414,  418,  437,  463,\n",
              "          474,  487,  498,  542,  578,  592,  642,  661,  664,  674,  677,\n",
              "          693,  711,  722,  725,  729,  732,  738,  739,  741,  754,  765,\n",
              "          772,  780,  795,  914,  919,  933,  963,  996, 1027, 1057, 1165,\n",
              "         1195, 1306, 3280, 3389])],\n",
              " [31, array([ 13,  16,  19,  22,  59,  68, 211, 235, 285, 302, 482, 530, 532,\n",
              "         750, 760])],\n",
              " [32, array([21])],\n",
              " [33, array([  11,   15,   17,   49,   93,  107,  112,  121,  163,  171,  172,\n",
              "          174,  204,  234,  247,  264,  303,  345,  356,  365,  409,  410,\n",
              "          415,  420,  434,  436,  445,  447,  457,  460,  478,  486,  490,\n",
              "          491,  515,  524,  529,  536,  571,  572,  581,  587,  588,  589,\n",
              "          591,  600,  610,  614,  621,  628,  637,  676,  679,  683,  704,\n",
              "          708,  720,  735,  742,  769,  775,  790,  804,  811,  841,  850,\n",
              "          868,  884,  896,  908,  911,  927,  930,  932,  974,  994, 1025,\n",
              "         1036, 1053, 1062, 1072, 1100, 1109, 1110, 1120, 1127, 1128, 1139,\n",
              "         1148, 1157, 1234, 1254, 1271, 1275, 1288, 1294, 1312, 1377, 1420,\n",
              "         1469, 1477, 1607, 1708])],\n",
              " [34, array([476])],\n",
              " [35, array([ 263,  277,  479,  521,  561,  660,  727,  802,  806,  907, 1075,\n",
              "         1232, 1499, 1697, 1850])],\n",
              " [36,\n",
              "  array([ 332,  349,  585,  709,  730,  788, 1009, 1238, 1610, 1949, 2835])],\n",
              " [37, array([57])],\n",
              " [38, array([119])],\n",
              " [39, array([70])],\n",
              " [40, array([687])],\n",
              " [41, array([  86,   94,  116,  179,  194,  198,  236,  315,  323,  395,  417,\n",
              "          425,  428,  430,  455,  458,  471,  503,  505,  534,  535,  562,\n",
              "          583,  584,  613,  616,  622,  651,  652,  669,  675,  681,  694,\n",
              "          698,  751,  768,  779,  784,  836,  847,  849,  852,  853,  895,\n",
              "          924,  945,  981,  985,  987,  991, 1014, 1021, 1051, 1052, 1056,\n",
              "         1079, 1081, 1087, 1089, 1113, 1123, 1133, 1149, 1162, 1166, 1175,\n",
              "         1180, 1207, 1216, 1217, 1233, 1248, 1266, 1270, 1272, 1273, 1274,\n",
              "         1281, 1291, 1299, 1301, 1308, 1310, 1311, 1317, 1334, 1343, 1347,\n",
              "         1362, 1372, 1382, 1383, 1392, 1410, 1425, 1451, 1462, 1466, 1473,\n",
              "         1485, 1486, 1487, 1488, 1515, 1530, 1557, 1562, 1570, 1571, 1580,\n",
              "         1584, 1591, 1594, 1604, 1608, 1615, 1623, 1625, 1633, 1637, 1638,\n",
              "         1639, 1640, 1657, 1667, 1669, 1675, 1685, 1693, 1701, 1709, 1714,\n",
              "         1724, 1725, 1727, 1734, 1737, 1751, 1759, 1762, 1795, 1810, 1825,\n",
              "         1832, 1834, 1840, 1847, 1860, 1862, 1889, 1900, 1904, 1908, 1927,\n",
              "         1930, 1933, 1936, 1960, 1963, 1964, 1969, 1973, 1978, 1981, 1985,\n",
              "         1988, 1997, 1999, 2004, 2006, 2007, 2013, 2020, 2027, 2030, 2031,\n",
              "         2034, 2040, 2042, 2045, 2049, 2055, 2059, 2079, 2081, 2082, 2092,\n",
              "         2093, 2094, 2098, 2099, 2106, 2113, 2117, 2122, 2153, 2161, 2166,\n",
              "         2169, 2170, 2181, 2184, 2186, 2187, 2195, 2213, 2222, 2223, 2225,\n",
              "         2229, 2234, 2237, 2245, 2246, 2255, 2260, 2274, 2279, 2280, 2314,\n",
              "         2323, 2333, 2334, 2340, 2356, 2364, 2366, 2369, 2385, 2414, 2429,\n",
              "         2431, 2449, 2451, 2499, 2515, 2519, 2531, 2539, 2554, 2555, 2569,\n",
              "         2584, 2602, 2604, 2623, 2628, 2631, 2633, 2643, 2659, 2680, 2685,\n",
              "         2706, 2710, 2714, 2734, 2746, 2751, 2782, 2803, 2816, 2839, 2853,\n",
              "         2865, 2883, 2906, 2918, 2972, 2978, 3028, 3030, 3108, 3176, 3205,\n",
              "         3296, 3302, 3322, 3345, 3358, 3509, 3513, 3518, 3567, 3596, 3722,\n",
              "         3800, 3936, 3959, 3991, 4157, 4166, 4214, 4274, 4297, 4310, 4312,\n",
              "         4350])],\n",
              " [42, array([221])],\n",
              " [43, array([36])],\n",
              " [44, array([295])],\n",
              " [45, array([164])],\n",
              " [46, array([0])],\n",
              " [47, array([23])],\n",
              " [48, array([  41,   47,  109,  122,  131,  173,  193,  195,  267,  283,  348,\n",
              "          376,  392,  400,  402,  419,  439,  469,  472,  481,  489,  494,\n",
              "          555,  577,  586,  594,  615,  624,  635,  638,  644,  699,  700,\n",
              "          724,  766,  794,  813,  819,  839,  856,  858,  864,  876,  886,\n",
              "          890,  918,  923,  926,  936,  956,  969,  997, 1002, 1005, 1022,\n",
              "         1023, 1029, 1042, 1047, 1076, 1083, 1104, 1143, 1190, 1209, 1220,\n",
              "         1230, 1237, 1243, 1245, 1251, 1280, 1285, 1296, 1338, 1342, 1346,\n",
              "         1357, 1393, 1396, 1430, 1454, 1455, 1460, 1463, 1464, 1474, 1476,\n",
              "         1497, 1498, 1507, 1511, 1512, 1520, 1529, 1534, 1537, 1544, 1549,\n",
              "         1561, 1564, 1577, 1578, 1579, 1582, 1595, 1613, 1628, 1642, 1656,\n",
              "         1662, 1670, 1674, 1677, 1720, 1722, 1726, 1731, 1748, 1768, 1769,\n",
              "         1796, 1797, 1809, 1823, 1867, 1890, 1897, 1902, 1926, 1935, 1937,\n",
              "         1938, 1948, 1955, 1980, 2046, 2050, 2067, 2085, 2123, 2182, 2211,\n",
              "         2216, 2243, 2286, 2307, 2341, 2358, 2441, 2562, 3320, 3365, 3415,\n",
              "         3760, 4102, 4270])],\n",
              " [49, array([248])],\n",
              " [50, array([ 135,  214,  239,  260,  262,  269,  278,  280,  292,  310,  316,\n",
              "          382,  386,  389,  495,  539,  544,  550,  590,  639,  667,  691,\n",
              "          706,  749,  761,  762,  763,  774,  800,  848,  854,  855,  880,\n",
              "          893,  937,  947,  948,  952,  966,  977,  999, 1020, 1044, 1055,\n",
              "         1074, 1085, 1099, 1130, 1131, 1137, 1142, 1145, 1156, 1179, 1222,\n",
              "         1226, 1239, 1255, 1267, 1318, 1323, 1324, 1330, 1336, 1350, 1356,\n",
              "         1363, 1364, 1368, 1375, 1380, 1387, 1399, 1404, 1413, 1414, 1418,\n",
              "         1423, 1435, 1436, 1437, 1447, 1449, 1458, 1478, 1483, 1500, 1509,\n",
              "         1510, 1541, 1547, 1555, 1556, 1563, 1569, 1572, 1574, 1581, 1589,\n",
              "         1590, 1593, 1599, 1614, 1619, 1630, 1632, 1643, 1646, 1648, 1659,\n",
              "         1665, 1666, 1683, 1687, 1688, 1689, 1690, 1695, 1700, 1702, 1707,\n",
              "         1735, 1736, 1757, 1764, 1770, 1774, 1776, 1780, 1782, 1788, 1792,\n",
              "         1800, 1805, 1806, 1807, 1812, 1822, 1824, 1837, 1839, 1841, 1844,\n",
              "         1845, 1846, 1848, 1852, 1855, 1856, 1857, 1858, 1859, 1861, 1879,\n",
              "         1884, 1892, 1893, 1905, 1913, 1918, 1922, 1924, 1925, 1931, 1939,\n",
              "         1941, 1951, 1954, 1962, 1965, 1967, 1970, 1976, 1983, 1987, 1990,\n",
              "         1992, 2000, 2001, 2008, 2009, 2015, 2017, 2018, 2022, 2026, 2032,\n",
              "         2033, 2048, 2056, 2064, 2066, 2071, 2073, 2074, 2075, 2076, 2088,\n",
              "         2089, 2091, 2103, 2105, 2110, 2111, 2116, 2118, 2120, 2129, 2130,\n",
              "         2132, 2133, 2140, 2160, 2162, 2163, 2164, 2165, 2177, 2179, 2190,\n",
              "         2194, 2200, 2201, 2205, 2206, 2207, 2212, 2214, 2219, 2224, 2227,\n",
              "         2235, 2240, 2248, 2249, 2250, 2253, 2254, 2256, 2257, 2258, 2261,\n",
              "         2263, 2264, 2266, 2271, 2275, 2277, 2278, 2281, 2282, 2283, 2287,\n",
              "         2290, 2291, 2292, 2301, 2302, 2303, 2309, 2310, 2311, 2312, 2316,\n",
              "         2321, 2322, 2325, 2327, 2329, 2332, 2335, 2337, 2338, 2347, 2352,\n",
              "         2353, 2357, 2362, 2363, 2367, 2371, 2377, 2379, 2380, 2381, 2386,\n",
              "         2387, 2389, 2394, 2396, 2401, 2404, 2405, 2407, 2408, 2409, 2418,\n",
              "         2420, 2427, 2428, 2432, 2433, 2434, 2435, 2436, 2437, 2438, 2442,\n",
              "         2447, 2448, 2453, 2454, 2455, 2459, 2460, 2462, 2463, 2464, 2466,\n",
              "         2467, 2470, 2473, 2475, 2477, 2479, 2484, 2485, 2487, 2491, 2493,\n",
              "         2496, 2498, 2503, 2505, 2510, 2511, 2516, 2520, 2522, 2523, 2525,\n",
              "         2529, 2536, 2546, 2551, 2553, 2557, 2563, 2567, 2570, 2572, 2573,\n",
              "         2578, 2579, 2580, 2588, 2589, 2590, 2593, 2594, 2599, 2605, 2606,\n",
              "         2607, 2608, 2614, 2618, 2619, 2627, 2629, 2634, 2638, 2640, 2647,\n",
              "         2649, 2650, 2654, 2657, 2660, 2663, 2670, 2671, 2675, 2676, 2679,\n",
              "         2686, 2692, 2693, 2695, 2696, 2697, 2698, 2703, 2705, 2707, 2712,\n",
              "         2715, 2716, 2718, 2720, 2721, 2722, 2724, 2725, 2726, 2733, 2736,\n",
              "         2737, 2738, 2740, 2742, 2744, 2745, 2747, 2749, 2755, 2761, 2765,\n",
              "         2766, 2768, 2769, 2770, 2775, 2785, 2786, 2787, 2789, 2792, 2801,\n",
              "         2802, 2804, 2806, 2808, 2811, 2813, 2814, 2818, 2821, 2825, 2827,\n",
              "         2828, 2830, 2832, 2834, 2837, 2841, 2850, 2855, 2857, 2861, 2862,\n",
              "         2880, 2881, 2887, 2892, 2900, 2902, 2904, 2905, 2908, 2912, 2914,\n",
              "         2915, 2919, 2920, 2922, 2923, 2924, 2926, 2928, 2934, 2935, 2938,\n",
              "         2945, 2948, 2951, 2952, 2958, 2960, 2963, 2965, 2968, 2971, 2979,\n",
              "         2980, 2981, 2983, 2993, 2996, 3001, 3002, 3004, 3008, 3010, 3013,\n",
              "         3019, 3022, 3025, 3036, 3043, 3045, 3048, 3049, 3052, 3053, 3055,\n",
              "         3056, 3062, 3063, 3064, 3066, 3067, 3076, 3081, 3083, 3085, 3089,\n",
              "         3094, 3096, 3102, 3106, 3133, 3135, 3136, 3138, 3139, 3147, 3150,\n",
              "         3154, 3157, 3160, 3161, 3162, 3165, 3171, 3177, 3178, 3179, 3186,\n",
              "         3187, 3189, 3195, 3196, 3198, 3202, 3204, 3210, 3219, 3222, 3225,\n",
              "         3228, 3234, 3236, 3240, 3241, 3244, 3247, 3254, 3257, 3265, 3267,\n",
              "         3277, 3281, 3283, 3290, 3291, 3295, 3299, 3300, 3308, 3310, 3318,\n",
              "         3319, 3323, 3326, 3329, 3334, 3335, 3336, 3346, 3348, 3353, 3354,\n",
              "         3360, 3366, 3368, 3375, 3378, 3390, 3407, 3412, 3418, 3425, 3426,\n",
              "         3434, 3444, 3449, 3450, 3456, 3462, 3464, 3465, 3466, 3467, 3468,\n",
              "         3475, 3482, 3483, 3490, 3491, 3493, 3505, 3512, 3520, 3522, 3529,\n",
              "         3538, 3543, 3545, 3546, 3555, 3560, 3564, 3571, 3575, 3579, 3595,\n",
              "         3601, 3604, 3615, 3620, 3623, 3624, 3627, 3629, 3637, 3651, 3667,\n",
              "         3691, 3692, 3697, 3713, 3715, 3724, 3726, 3740, 3745, 3747, 3751,\n",
              "         3754, 3757, 3795, 3806, 3807, 3808, 3814, 3820, 3822, 3837, 3844,\n",
              "         3856, 3858, 3873, 3877, 3885, 3893, 3912, 3932, 3941, 3978, 3983,\n",
              "         3995, 4000, 4017, 4025, 4052, 4062, 4063, 4072, 4079, 4086, 4092,\n",
              "         4095, 4097, 4099, 4116, 4120, 4126, 4130, 4161, 4185, 4191, 4204,\n",
              "         4205, 4211, 4213, 4217, 4218, 4227, 4271, 4290, 4300, 4337, 4344,\n",
              "         4345, 4349, 4352, 4381, 4401, 4425, 4464, 4468])],\n",
              " [51, array([10])],\n",
              " [52, array([  40,  108,  118,  145,  148,  153,  184,  196,  225,  265,  297,\n",
              "          298,  304,  320,  325,  328,  330,  364,  387,  390,  412,  413,\n",
              "          442,  449,  459,  467,  475,  484,  499,  500,  517,  540,  564,\n",
              "          579,  593,  658,  659,  666,  703,  710,  740,  744,  770,  783,\n",
              "          789,  798,  799,  807,  808,  812,  816,  820,  857,  862,  877,\n",
              "          891,  898,  899,  902,  906,  913,  928,  939,  955, 1034, 1037,\n",
              "         1046, 1060, 1064, 1069, 1094, 1101, 1103, 1111, 1115, 1116, 1126,\n",
              "         1184, 1188, 1263, 1265, 1268, 1277, 1283, 1321, 1329, 1376, 1389,\n",
              "         1419, 1442, 1480, 1523, 1525, 1565, 1661, 1729, 1733, 1798, 1835,\n",
              "         1875, 1899, 1956, 1995, 2239, 3274, 3572])],\n",
              " [53, array([233, 537])],\n",
              " [54, array([7])],\n",
              " [55, array([87])],\n",
              " [56, array([241])],\n",
              " [57, array([275])],\n",
              " [58, array([  2,  69,  79,  89,  92,  95,  97, 100, 102, 123, 130, 156, 180,\n",
              "         185, 238, 250, 273, 322, 324, 338, 422, 424, 433, 504, 510, 569,\n",
              "         601, 625, 634, 690, 745, 803, 815, 921, 970])],\n",
              " [59, array([363])],\n",
              " [60, array([216])],\n",
              " [61, array([408])],\n",
              " [62, array([  80,  281,  354, 1189])],\n",
              " [63, array([  1, 346])],\n",
              " [64, array([74])],\n",
              " [65, array([63])],\n",
              " [66, array([383])],\n",
              " [67, array([  3,  28,  42,  62,  81, 110, 170, 218, 219, 288, 289, 368, 397,\n",
              "         407, 520, 531, 663, 758, 778, 871, 872])],\n",
              " [68, array([217])],\n",
              " [69, array([117])],\n",
              " [70, array([103])],\n",
              " [71, array([ 226,  258,  271,  287,  306,  308,  317,  401,  423,  431,  462,\n",
              "          519,  525,  568,  605,  619,  629,  631,  640,  649,  650,  685,\n",
              "          705,  728,  733,  781,  785,  805,  843,  873,  897,  935,  953,\n",
              "          954,  967,  983,  984,  990,  993, 1063, 1073, 1091, 1098, 1107,\n",
              "         1118, 1121, 1124, 1132, 1135, 1152, 1153, 1154, 1155, 1159, 1161,\n",
              "         1163, 1177, 1178, 1187, 1197, 1227, 1240, 1246, 1256, 1278, 1309,\n",
              "         1335, 1340, 1355, 1366, 1379, 1386, 1400, 1406, 1415, 1421, 1424,\n",
              "         1429, 1431, 1438, 1441, 1446, 1456, 1457, 1461, 1470, 1472, 1494,\n",
              "         1504, 1505, 1508, 1514, 1519, 1524, 1528, 1546, 1550, 1554, 1559,\n",
              "         1567, 1583, 1597, 1598, 1600, 1602, 1609, 1611, 1622, 1626, 1641,\n",
              "         1644, 1658, 1668, 1671, 1678, 1682, 1686, 1691, 1696, 1711, 1712,\n",
              "         1717, 1719, 1721, 1723, 1730, 1739, 1740, 1741, 1742, 1750, 1753,\n",
              "         1754, 1756, 1758, 1760, 1766, 1772, 1775, 1785, 1787, 1790, 1793,\n",
              "         1803, 1813, 1814, 1820, 1828, 1833, 1836, 1851, 1863, 1865, 1872,\n",
              "         1876, 1883, 1886, 1887, 1888, 1901, 1906, 1914, 1921, 1932, 1942,\n",
              "         1944, 1945, 1952, 1953, 1957, 1959, 1966, 1974, 1977, 1979, 1984,\n",
              "         1991, 1993, 1996, 2002, 2003, 2005, 2011, 2014, 2016, 2021, 2028,\n",
              "         2029, 2037, 2041, 2043, 2057, 2060, 2061, 2063, 2068, 2069, 2077,\n",
              "         2083, 2087, 2100, 2101, 2102, 2107, 2108, 2112, 2121, 2124, 2137,\n",
              "         2138, 2139, 2145, 2152, 2171, 2173, 2175, 2178, 2183, 2185, 2189,\n",
              "         2191, 2192, 2193, 2196, 2204, 2221, 2228, 2241, 2244, 2267, 2269,\n",
              "         2270, 2284, 2285, 2288, 2294, 2296, 2297, 2304, 2313, 2317, 2318,\n",
              "         2331, 2351, 2359, 2360, 2361, 2365, 2372, 2382, 2384, 2388, 2391,\n",
              "         2393, 2397, 2400, 2402, 2411, 2412, 2416, 2417, 2419, 2424, 2430,\n",
              "         2440, 2443, 2450, 2458, 2461, 2465, 2468, 2469, 2471, 2482, 2483,\n",
              "         2486, 2488, 2492, 2497, 2501, 2504, 2506, 2507, 2508, 2509, 2514,\n",
              "         2517, 2521, 2526, 2528, 2530, 2532, 2534, 2541, 2543, 2558, 2565,\n",
              "         2576, 2582, 2583, 2586, 2587, 2595, 2596, 2601, 2636, 2639, 2648,\n",
              "         2651, 2653, 2655, 2658, 2662, 2667, 2668, 2677, 2678, 2682, 2684,\n",
              "         2704, 2717, 2732, 2741, 2752, 2773, 2777, 2779, 2780, 2781, 2807,\n",
              "         2823, 2826, 2831, 2843, 2846, 2848, 2852, 2858, 2859, 2860, 2866,\n",
              "         2886, 2890, 2894, 2916, 2929, 2931, 2939, 2956, 2959, 2961, 2970,\n",
              "         2974, 2985, 3000, 3018, 3034, 3071, 3088, 3137, 3149, 3152, 3156,\n",
              "         3172, 3175, 3211, 3213, 3268, 3272, 3286, 3315, 3325, 3340, 3461,\n",
              "         3472, 3502, 3524, 3542, 3549, 3553, 3569, 3570, 3580, 3590, 3656,\n",
              "         3669, 3689, 3843, 3860, 3892, 3894, 3906, 3919, 4016, 4046, 4064,\n",
              "         4187])],\n",
              " [72, array([371])],\n",
              " [73, array([396])],\n",
              " [74, array([  46,   48,  106,  186,  187,  229,  270,  284,  290,  293,  300,\n",
              "          326,  353,  384,  398,  404,  421,  429,  480,  493,  512,  527,\n",
              "          547,  549,  566,  570,  602,  611,  632,  657,  684,  695,  747,\n",
              "          748,  777,  831,  838,  844,  859,  860,  875,  883,  887,  946,\n",
              "          959,  960,  976,  980,  988,  989, 1010, 1032, 1043, 1066, 1070,\n",
              "         1105, 1141, 1170, 1173, 1181, 1194, 1223, 1228, 1242, 1258, 1262,\n",
              "         1322, 1353, 1359, 1361, 1381, 1401, 1403, 1405, 1416, 1443, 1471,\n",
              "         1481, 1484, 1490, 1493, 1527, 1531, 1536, 1540, 1553, 1560, 1629,\n",
              "         1634, 1650, 1672, 1679, 1752, 1765, 1767, 1783, 1801, 1808, 1830,\n",
              "         1843, 1849, 1909, 1946, 2052, 2070, 2095, 2109, 2115, 2203, 2210,\n",
              "         2215, 2217, 2273, 2276, 2410, 2518, 2669, 3458, 3544, 3577, 4240,\n",
              "         4296])],\n",
              " [75, array([533])],\n",
              " [76, array([   4,   14,   24,  132,  139,  146,  168,  190,  231,  246,  294,\n",
              "          299,  301,  307,  335,  341,  359,  379,  393,  435,  485,  488,\n",
              "          509,  514,  516,  574,  580,  595,  597,  636,  686,  721,  737,\n",
              "          743,  752,  757,  809,  826,  835,  882,  894,  904,  905,  915,\n",
              "          916,  925,  941,  944,  971,  982,  992, 1011, 1024, 1028, 1030,\n",
              "         1033, 1049, 1092, 1102, 1106, 1114, 1136, 1182, 1191, 1202, 1205,\n",
              "         1213, 1260, 1292, 1394, 1395, 1412, 1426, 1495, 1542, 1831, 2172,\n",
              "         2298, 2481, 3829])],\n",
              " [77, array([72])],\n",
              " [78, array([90])],\n",
              " [79, array([1019])],\n",
              " [80, array([352])],\n",
              " [81, array([464])],\n",
              " [82, array([523])],\n",
              " [83, array([158])],\n",
              " [84, array([6])],\n",
              " [85, array([473])],\n",
              " [86, array([528])],\n",
              " [87, array([309])],\n",
              " [88, array([372])],\n",
              " [89, array([607])],\n",
              " [90, array([91])],\n",
              " [91, array([305])],\n",
              " [92, array([199])],\n",
              " [93, array([ 101,  120,  143,  159,  188,  189,  215,  224,  230,  254,  279,\n",
              "          296,  319,  331,  343,  351,  357,  361,  374,  391,  443,  477,\n",
              "          501,  518,  558,  559,  596,  648,  688,  702,  827,  879, 1016,\n",
              "         1327, 1878, 2635])],\n",
              " [94, array([822])],\n",
              " [95, array([99])],\n",
              " [96, array([ 25,  75,  77, 126, 142, 166, 177, 191, 202, 207, 209, 212, 268,\n",
              "         286, 329, 336, 444, 556, 646, 670, 689])],\n",
              " [97, array([432])],\n",
              " [98, array([27])],\n",
              " [99, array([ 51, 497])]]"
            ]
          },
          "metadata": {},
          "execution_count": 87
        }
      ]
    },
    {
      "cell_type": "code",
      "metadata": {
        "id": "2VNbLI7GIlLJ"
      },
      "source": [
        ""
      ],
      "execution_count": null,
      "outputs": []
    },
    {
      "cell_type": "code",
      "metadata": {
        "id": "WbPHf2WBidz6"
      },
      "source": [
        "elbow=[]\n",
        "for i in range(90, 100):\n",
        "  km=KMeans(i)\n",
        "  km.fit(x)\n",
        "  elbow_iter=km.inertia_\n",
        "  elbow.append(elbow_iter)"
      ],
      "execution_count": null,
      "outputs": []
    },
    {
      "cell_type": "code",
      "metadata": {
        "colab": {
          "base_uri": "https://localhost:8080/",
          "height": 307
        },
        "id": "HFdUR2RljD71",
        "outputId": "7b492229-9141-4479-8bf7-7a96ce6efa2d"
      },
      "source": [
        "num_clasts=range(90, 100)\n",
        "plt.plot(num_clasts, elbow)\n",
        "plt.xlabel(\"number of clasters\")"
      ],
      "execution_count": null,
      "outputs": [
        {
          "output_type": "execute_result",
          "data": {
            "text/plain": [
              "Text(0.5, 0, 'number of clasters')"
            ]
          },
          "metadata": {},
          "execution_count": 96
        },
        {
          "output_type": "display_data",
          "data": {
            "image/png": "[encoded data removed]",
            "text/plain": [
              "<Figure size 432x288 with 1 Axes>"
            ]
          },
          "metadata": {
            "needs_background": "light"
          }
        }
      ]
    },
    {
      "cell_type": "code",
      "metadata": {
        "id": "8RlDJ88TBO7s"
      },
      "source": [
        ""
      ],
      "execution_count": null,
      "outputs": []
    },
    {
      "cell_type": "markdown",
      "metadata": {
        "id": "K3DQrZM4oWFW"
      },
      "source": [
        "##function for submission\n",
        "\n",
        "submission_items_in_cheque"
      ]
    },
    {
      "cell_type": "code",
      "metadata": {
        "id": "B5MNn0AwkQ3D"
      },
      "source": [
        "from collections import Counter"
      ],
      "execution_count": 52,
      "outputs": []
    },
    {
      "cell_type": "code",
      "metadata": {
        "id": "OAPQNWWwdopt"
      },
      "source": [
        "def fill_submission():\n",
        "  for_filling=[]\n",
        "  \n",
        "  for k, v in submission_items_in_cheque.items():\n",
        "    answer1=[]\n",
        "    for query in v:\n",
        "      answer=dataframe[dataframe.all_sku==query]\n",
        "      answer_list=list(map(list, answer.values))\n",
        "      answer1.extend(answer_list)\n",
        "    answer_sorted=sorted(answer1, key=lambda x: x[2])\n",
        "    ans=[x[1] for x in answer1][:20]\n",
        "   \n",
        "      \n",
        "    #res1=Counter(answer1).most_common(30)\n",
        "    answer2_temp=[]\n",
        "    for a in answer_sorted:\n",
        "      if a in sku_ids_we_need:\n",
        "        a_vector = corr_matrix[a]\n",
        "        answer_vector=sorted(list(crosstab.columns[(a_vector < 1.0) & (a_vector > 0.85)]))\n",
        "        answer2.extend(answer_vector)\n",
        "    \n",
        "    answer2=Counter(answer2_temp).most_common(30)\n",
        "    \n",
        "    ready=[]\n",
        "    for i in answer1:\n",
        "      if i in answer2:\n",
        "        ready.extend(i)\n",
        "    ready.extend([x for x in answer1 if x not in ready])\n",
        "    ready1=ready[:20]\n",
        "    \n",
        "    for pos, ans in enumerate(ready1):\n",
        "      for_filling.append((k, ans, pos))\n",
        "    \n",
        "    \n",
        "  return for_filling\n"
      ],
      "execution_count": 94,
      "outputs": []
    },
    {
      "cell_type": "code",
      "metadata": {
        "id": "7w_55TU8imXd"
      },
      "source": [
        "for_sub_answer=fill_submission()"
      ],
      "execution_count": null,
      "outputs": []
    },
    {
      "cell_type": "code",
      "metadata": {
        "colab": {
          "base_uri": "https://localhost:8080/",
          "height": 163
        },
        "id": "7faNAVkwVFtt",
        "outputId": "d75ba736-a346-46f8-ac61-96c8d85822b2"
      },
      "source": [
        "submission_items_in_cheque[0]"
      ],
      "execution_count": null,
      "outputs": [
        {
          "output_type": "error",
          "ename": "NameError",
          "evalue": "ignored",
          "traceback": [
            "\u001b[0;31m---------------------------------------------------------------------------\u001b[0m",
            "\u001b[0;31mNameError\u001b[0m                                 Traceback (most recent call last)",
            "\u001b[0;32m<ipython-input-97-f5bd277e8bc2>\u001b[0m in \u001b[0;36m<module>\u001b[0;34m()\u001b[0m\n\u001b[0;32m----> 1\u001b[0;31m \u001b[0msubmission_items_in_cheque\u001b[0m\u001b[0;34m[\u001b[0m\u001b[0;36m0\u001b[0m\u001b[0;34m]\u001b[0m\u001b[0;34m\u001b[0m\u001b[0;34m\u001b[0m\u001b[0m\n\u001b[0m",
            "\u001b[0;31mNameError\u001b[0m: name 'submission_items_in_cheque' is not defined"
          ]
        }
      ]
    },
    {
      "cell_type": "code",
      "metadata": {
        "id": "AR-yjsledOF-"
      },
      "source": [
        "df_sub = pd.DataFrame(columns=('cheque_id', 'sku_id', 'position'))\n"
      ],
      "execution_count": null,
      "outputs": []
    },
    {
      "cell_type": "code",
      "metadata": {
        "id": "nVXniaGHpeBb"
      },
      "source": [
        "df_sub(for_sub_answer)"
      ],
      "execution_count": null,
      "outputs": []
    },
    {
      "cell_type": "code",
      "metadata": {
        "id": "zfWviZrN315N"
      },
      "source": [
        "df_sub.position=df_sub.position.apply(lambda x: x+1)"
      ],
      "execution_count": null,
      "outputs": []
    },
    {
      "cell_type": "code",
      "metadata": {
        "id": "fV5qlTqDphn3"
      },
      "source": [
        "df.to_parquet(\"/content/submission-Marova_Aleksandra.parquet\")"
      ],
      "execution_count": null,
      "outputs": []
    },
    {
      "cell_type": "markdown",
      "metadata": {
        "id": "s8-xo3kHpAGE"
      },
      "source": [
        "##language model"
      ]
    },
    {
      "cell_type": "code",
      "metadata": {
        "id": "rEg5PwiAK3sq"
      },
      "source": [
        "from collections import Counter"
      ],
      "execution_count": null,
      "outputs": []
    },
    {
      "cell_type": "code",
      "metadata": {
        "id": "Qktxy-yLK7BF"
      },
      "source": [
        "cheques_with_items=Counter(df.cheque_id.values) #для обучения брать чеки с Ю20 позициями"
      ],
      "execution_count": null,
      "outputs": []
    },
    {
      "cell_type": "code",
      "metadata": {
        "id": "txFlVyovR2vR"
      },
      "source": [
        "cheques_with_items"
      ],
      "execution_count": null,
      "outputs": []
    },
    {
      "cell_type": "code",
      "metadata": {
        "id": "sqzKAO4hdPGC"
      },
      "source": [
        "cheque_filtered=[]"
      ],
      "execution_count": null,
      "outputs": []
    },
    {
      "cell_type": "code",
      "metadata": {
        "id": "W5flS2RJdZG1"
      },
      "source": [
        "for cheque, quantity in cheques_with_items.items():\n",
        "  if quantity>20:\n",
        "    cheque_filtered.append(cheque)"
      ],
      "execution_count": null,
      "outputs": []
    },
    {
      "cell_type": "code",
      "metadata": {
        "colab": {
          "base_uri": "https://localhost:8080/"
        },
        "id": "tq7T0pK9do6G",
        "outputId": "5060d239-ba05-40e2-eb6d-0ba7df6705b8"
      },
      "source": [
        "len(cheque_filtered)"
      ],
      "execution_count": null,
      "outputs": [
        {
          "output_type": "execute_result",
          "data": {
            "text/plain": [
              "391"
            ]
          },
          "metadata": {},
          "execution_count": 39
        }
      ]
    },
    {
      "cell_type": "code",
      "metadata": {
        "id": "-lfFiLYppTbf"
      },
      "source": [
        "def forming_list_values(iterables):\n",
        "  all=[]\n",
        "  for i in range(0, len(iterables)):\n",
        "    v=iterables[i:]\n",
        "    all.append(v)\n",
        "  return all"
      ],
      "execution_count": null,
      "outputs": []
    },
    {
      "cell_type": "code",
      "metadata": {
        "id": "AsyPP0IUpCqC"
      },
      "source": [
        "#THIS IS WORKING CODE \n",
        "ngrams = {}\n",
        "words = [1, 2, 3, 4]\n",
        "\n",
        "def forming_vocab(iterables):\n",
        "  \n",
        "  for k in words:\n",
        "    for item in (iterables):\n",
        "        for i in range(len(item)-k):#(range(len(iterables)-k)):\n",
        "          seq = ' '.join(item[i:i+k])\n",
        "    #print(seq)\n",
        "          if seq not in ngrams.keys():\n",
        "            ngrams[seq] = []\n",
        "  \n",
        "            if sorted(ngrams[seq])!=sorted([i for i in item if i not in seq]):# \n",
        "            #DO OTHER WAY - IF VALUE EXISTS!- v in list values\n",
        "          #left=list(set(item)-set(seq))\n",
        "              ngrams[seq].extend(forming_list_values([i for i in item if i not in seq]))#all el excluding seq"
      ],
      "execution_count": null,
      "outputs": []
    },
    {
      "cell_type": "code",
      "metadata": {
        "id": "I-kHPGU9pDlA"
      },
      "source": [
        ""
      ],
      "execution_count": null,
      "outputs": []
    }
  ]
}